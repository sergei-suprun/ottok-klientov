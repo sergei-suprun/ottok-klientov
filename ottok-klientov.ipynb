{
 "cells": [
  {
   "cell_type": "markdown",
   "metadata": {
    "toc": true
   },
   "source": [
    "<h1>Содержание<span class=\"tocSkip\"></span></h1>\n",
    "<div class=\"toc\"><ul class=\"toc-item\"><li><span><a href=\"#Подготовка-данных\" data-toc-modified-id=\"Подготовка-данных-1\"><span class=\"toc-item-num\">1&nbsp;&nbsp;</span>Подготовка данных</a></span></li><li><span><a href=\"#Исследование-задачи\" data-toc-modified-id=\"Исследование-задачи-2\"><span class=\"toc-item-num\">2&nbsp;&nbsp;</span>Исследование задачи</a></span></li><li><span><a href=\"#Борьба-с-дисбалансом\" data-toc-modified-id=\"Борьба-с-дисбалансом-3\"><span class=\"toc-item-num\">3&nbsp;&nbsp;</span>Борьба с дисбалансом</a></span></li><li><span><a href=\"#Тестирование-модели\" data-toc-modified-id=\"Тестирование-модели-4\"><span class=\"toc-item-num\">4&nbsp;&nbsp;</span>Тестирование модели</a></span></li><li><span><a href=\"#Общий-вывод\" data-toc-modified-id=\"Общий-вывод-5\"><span class=\"toc-item-num\">5&nbsp;&nbsp;</span>Общий вывод</a></span></li><li><span><a href=\"#Чек-лист-готовности-проекта\" data-toc-modified-id=\"Чек-лист-готовности-проекта-6\"><span class=\"toc-item-num\">6&nbsp;&nbsp;</span>Чек-лист готовности проекта</a></span></li></ul></div>"
   ]
  },
  {
   "cell_type": "markdown",
   "metadata": {},
   "source": [
    "# Отток клиентов"
   ]
  },
  {
   "cell_type": "markdown",
   "metadata": {},
   "source": [
    "**ОПИСАНИЕ ПРОЕКТА**\n",
    "\n",
    "Из «Бета-Банка» стали уходить клиенты. Каждый месяц. Немного, но заметно. Банковские маркетологи посчитали: сохранять текущих клиентов дешевле, чем привлекать новых.\n",
    "\n",
    "Наша задача спрогнозировать, уйдёт клиент из банка в ближайшее время или нет. Решать задачу будем на основе данных о поведении клиентов и расторжении договоров с банком. \n",
    "\n",
    "**План работы:**\n",
    "- Изучим и подготовим данные для работы\n",
    "- Иследуем данные на предмет дисбаланса классов\n",
    "- Построим модели без учета дисбаланса классов\n",
    "- Поборимся с дисбалансом и построим модели с его учетом \n",
    "- Проведем тестирование лучшей модели. Задача достичь максимольно большого значения *F1*-меры. Доведем метрику до 0.59.\n",
    "- Дополнительно измерим *AUC-ROC*, сравним её значение с *F1*-мерой.\n",
    "\n",
    "**Описание данных:**\n",
    "- `RowNumber` — индекс строки в данных\n",
    "- `CustomerId` — уникальный идентификатор клиента\n",
    "- `Surname` — фамилия\n",
    "- `CreditScore` — кредитный рейтинг\n",
    "- `Geography` — страна проживания\n",
    "- `Gender` — пол\n",
    "- `Age` — возраст\n",
    "- `Tenure` — сколько лет человек является клиентом банка\n",
    "- `Balance` — баланс на счёте\n",
    "- `NumOfProducts` — количество продуктов банка, используемых клиентом\n",
    "- `HasCrCard` — наличие кредитной карты\n",
    "- `IsActiveMember` — активность клиента\n",
    "- `EstimatedSalary` — предполагаемая зарплата\n",
    "- Целевой признак `Exited` — факт ухода клиента\n"
   ]
  },
  {
   "cell_type": "code",
   "execution_count": 54,
   "metadata": {},
   "outputs": [
    {
     "name": "stdout",
     "output_type": "stream",
     "text": [
      "Requirement already satisfied: scikit-learn==1.1.3 in c:\\users\\sergei\\anaconda3\\lib\\site-packages (1.1.3)\n",
      "Requirement already satisfied: scipy>=1.3.2 in c:\\users\\sergei\\anaconda3\\lib\\site-packages (from scikit-learn==1.1.3) (1.10.0)\n",
      "Requirement already satisfied: joblib>=1.0.0 in c:\\users\\sergei\\anaconda3\\lib\\site-packages (from scikit-learn==1.1.3) (1.1.1)\n",
      "Requirement already satisfied: numpy>=1.17.3 in c:\\users\\sergei\\anaconda3\\lib\\site-packages (from scikit-learn==1.1.3) (1.23.5)\n",
      "Requirement already satisfied: threadpoolctl>=2.0.0 in c:\\users\\sergei\\anaconda3\\lib\\site-packages (from scikit-learn==1.1.3) (2.2.0)\n"
     ]
    }
   ],
   "source": [
    "!pip install scikit-learn==1.1.3"
   ]
  },
  {
   "cell_type": "code",
   "execution_count": 55,
   "metadata": {},
   "outputs": [
    {
     "name": "stdout",
     "output_type": "stream",
     "text": [
      "Requirement already satisfied: imblearn in c:\\users\\sergei\\anaconda3\\lib\\site-packages (0.0)\n",
      "Requirement already satisfied: imbalanced-learn in c:\\users\\sergei\\anaconda3\\lib\\site-packages (from imblearn) (0.10.1)\n",
      "Requirement already satisfied: scikit-learn>=1.0.2 in c:\\users\\sergei\\anaconda3\\lib\\site-packages (from imbalanced-learn->imblearn) (1.1.3)\n",
      "Requirement already satisfied: joblib>=1.1.1 in c:\\users\\sergei\\anaconda3\\lib\\site-packages (from imbalanced-learn->imblearn) (1.1.1)\n",
      "Requirement already satisfied: numpy>=1.17.3 in c:\\users\\sergei\\anaconda3\\lib\\site-packages (from imbalanced-learn->imblearn) (1.23.5)\n",
      "Requirement already satisfied: scipy>=1.3.2 in c:\\users\\sergei\\anaconda3\\lib\\site-packages (from imbalanced-learn->imblearn) (1.10.0)\n",
      "Requirement already satisfied: threadpoolctl>=2.0.0 in c:\\users\\sergei\\anaconda3\\lib\\site-packages (from imbalanced-learn->imblearn) (2.2.0)\n"
     ]
    }
   ],
   "source": [
    "!pip install imblearn"
   ]
  },
  {
   "cell_type": "markdown",
   "metadata": {},
   "source": [
    "## Подготовка данных"
   ]
  },
  {
   "cell_type": "code",
   "execution_count": 56,
   "metadata": {},
   "outputs": [],
   "source": [
    "import pandas as pd\n",
    "import numpy as np\n",
    "import matplotlib.pyplot as plt\n",
    "from sklearn.model_selection import train_test_split\n",
    "from sklearn.tree import DecisionTreeClassifier\n",
    "from sklearn.metrics import f1_score, roc_curve, roc_auc_score, recall_score\n",
    "from sklearn.utils import shuffle\n",
    "from sklearn.ensemble import RandomForestClassifier\n",
    "from sklearn.linear_model import LogisticRegression \n",
    "from sklearn.preprocessing import OneHotEncoder, StandardScaler\n",
    "from imblearn.over_sampling import SMOTE\n",
    "from imblearn.under_sampling import RandomUnderSampler\n",
    "from sklearn.dummy import DummyClassifier"
   ]
  },
  {
   "cell_type": "code",
   "execution_count": 57,
   "metadata": {},
   "outputs": [
    {
     "data": {
      "text/html": [
       "<div>\n",
       "<style scoped>\n",
       "    .dataframe tbody tr th:only-of-type {\n",
       "        vertical-align: middle;\n",
       "    }\n",
       "\n",
       "    .dataframe tbody tr th {\n",
       "        vertical-align: top;\n",
       "    }\n",
       "\n",
       "    .dataframe thead th {\n",
       "        text-align: right;\n",
       "    }\n",
       "</style>\n",
       "<table border=\"1\" class=\"dataframe\">\n",
       "  <thead>\n",
       "    <tr style=\"text-align: right;\">\n",
       "      <th></th>\n",
       "      <th>RowNumber</th>\n",
       "      <th>CustomerId</th>\n",
       "      <th>Surname</th>\n",
       "      <th>CreditScore</th>\n",
       "      <th>Geography</th>\n",
       "      <th>Gender</th>\n",
       "      <th>Age</th>\n",
       "      <th>Tenure</th>\n",
       "      <th>Balance</th>\n",
       "      <th>NumOfProducts</th>\n",
       "      <th>HasCrCard</th>\n",
       "      <th>IsActiveMember</th>\n",
       "      <th>EstimatedSalary</th>\n",
       "      <th>Exited</th>\n",
       "    </tr>\n",
       "  </thead>\n",
       "  <tbody>\n",
       "    <tr>\n",
       "      <th>0</th>\n",
       "      <td>1</td>\n",
       "      <td>15634602</td>\n",
       "      <td>Hargrave</td>\n",
       "      <td>619</td>\n",
       "      <td>France</td>\n",
       "      <td>Female</td>\n",
       "      <td>42</td>\n",
       "      <td>2.00000</td>\n",
       "      <td>0.00000</td>\n",
       "      <td>1</td>\n",
       "      <td>1</td>\n",
       "      <td>1</td>\n",
       "      <td>101,348.88000</td>\n",
       "      <td>1</td>\n",
       "    </tr>\n",
       "    <tr>\n",
       "      <th>1</th>\n",
       "      <td>2</td>\n",
       "      <td>15647311</td>\n",
       "      <td>Hill</td>\n",
       "      <td>608</td>\n",
       "      <td>Spain</td>\n",
       "      <td>Female</td>\n",
       "      <td>41</td>\n",
       "      <td>1.00000</td>\n",
       "      <td>83,807.86000</td>\n",
       "      <td>1</td>\n",
       "      <td>0</td>\n",
       "      <td>1</td>\n",
       "      <td>112,542.58000</td>\n",
       "      <td>0</td>\n",
       "    </tr>\n",
       "    <tr>\n",
       "      <th>2</th>\n",
       "      <td>3</td>\n",
       "      <td>15619304</td>\n",
       "      <td>Onio</td>\n",
       "      <td>502</td>\n",
       "      <td>France</td>\n",
       "      <td>Female</td>\n",
       "      <td>42</td>\n",
       "      <td>8.00000</td>\n",
       "      <td>159,660.80000</td>\n",
       "      <td>3</td>\n",
       "      <td>1</td>\n",
       "      <td>0</td>\n",
       "      <td>113,931.57000</td>\n",
       "      <td>1</td>\n",
       "    </tr>\n",
       "    <tr>\n",
       "      <th>3</th>\n",
       "      <td>4</td>\n",
       "      <td>15701354</td>\n",
       "      <td>Boni</td>\n",
       "      <td>699</td>\n",
       "      <td>France</td>\n",
       "      <td>Female</td>\n",
       "      <td>39</td>\n",
       "      <td>1.00000</td>\n",
       "      <td>0.00000</td>\n",
       "      <td>2</td>\n",
       "      <td>0</td>\n",
       "      <td>0</td>\n",
       "      <td>93,826.63000</td>\n",
       "      <td>0</td>\n",
       "    </tr>\n",
       "    <tr>\n",
       "      <th>4</th>\n",
       "      <td>5</td>\n",
       "      <td>15737888</td>\n",
       "      <td>Mitchell</td>\n",
       "      <td>850</td>\n",
       "      <td>Spain</td>\n",
       "      <td>Female</td>\n",
       "      <td>43</td>\n",
       "      <td>2.00000</td>\n",
       "      <td>125,510.82000</td>\n",
       "      <td>1</td>\n",
       "      <td>1</td>\n",
       "      <td>1</td>\n",
       "      <td>79,084.10000</td>\n",
       "      <td>0</td>\n",
       "    </tr>\n",
       "  </tbody>\n",
       "</table>\n",
       "</div>"
      ],
      "text/plain": [
       "   RowNumber  CustomerId   Surname  CreditScore Geography  Gender  Age  \\\n",
       "0          1    15634602  Hargrave          619    France  Female   42   \n",
       "1          2    15647311      Hill          608     Spain  Female   41   \n",
       "2          3    15619304      Onio          502    France  Female   42   \n",
       "3          4    15701354      Boni          699    France  Female   39   \n",
       "4          5    15737888  Mitchell          850     Spain  Female   43   \n",
       "\n",
       "   Tenure       Balance  NumOfProducts  HasCrCard  IsActiveMember  \\\n",
       "0 2.00000       0.00000              1          1               1   \n",
       "1 1.00000  83,807.86000              1          0               1   \n",
       "2 8.00000 159,660.80000              3          1               0   \n",
       "3 1.00000       0.00000              2          0               0   \n",
       "4 2.00000 125,510.82000              1          1               1   \n",
       "\n",
       "   EstimatedSalary  Exited  \n",
       "0    101,348.88000       1  \n",
       "1    112,542.58000       0  \n",
       "2    113,931.57000       1  \n",
       "3     93,826.63000       0  \n",
       "4     79,084.10000       0  "
      ]
     },
     "execution_count": 57,
     "metadata": {},
     "output_type": "execute_result"
    }
   ],
   "source": [
    "try:\n",
    "    df = pd.read_csv('/datasets/Churn.csv')\n",
    "except:\n",
    "    df = pd.read_csv('https://code.s3.yandex.net/datasets/Churn.csv')\n",
    "pd.set_option('display.max_columns', None)\n",
    "pd.set_option('display.float_format', '{:,.5f}'.format)\n",
    "\n",
    "df.head()"
   ]
  },
  {
   "cell_type": "code",
   "execution_count": 58,
   "metadata": {},
   "outputs": [
    {
     "name": "stdout",
     "output_type": "stream",
     "text": [
      "<class 'pandas.core.frame.DataFrame'>\n",
      "RangeIndex: 10000 entries, 0 to 9999\n",
      "Data columns (total 14 columns):\n",
      " #   Column           Non-Null Count  Dtype  \n",
      "---  ------           --------------  -----  \n",
      " 0   RowNumber        10000 non-null  int64  \n",
      " 1   CustomerId       10000 non-null  int64  \n",
      " 2   Surname          10000 non-null  object \n",
      " 3   CreditScore      10000 non-null  int64  \n",
      " 4   Geography        10000 non-null  object \n",
      " 5   Gender           10000 non-null  object \n",
      " 6   Age              10000 non-null  int64  \n",
      " 7   Tenure           9091 non-null   float64\n",
      " 8   Balance          10000 non-null  float64\n",
      " 9   NumOfProducts    10000 non-null  int64  \n",
      " 10  HasCrCard        10000 non-null  int64  \n",
      " 11  IsActiveMember   10000 non-null  int64  \n",
      " 12  EstimatedSalary  10000 non-null  float64\n",
      " 13  Exited           10000 non-null  int64  \n",
      "dtypes: float64(3), int64(8), object(3)\n",
      "memory usage: 1.1+ MB\n"
     ]
    }
   ],
   "source": [
    "df.info()"
   ]
  },
  {
   "cell_type": "code",
   "execution_count": 59,
   "metadata": {
    "scrolled": true
   },
   "outputs": [
    {
     "data": {
      "text/html": [
       "<div>\n",
       "<style scoped>\n",
       "    .dataframe tbody tr th:only-of-type {\n",
       "        vertical-align: middle;\n",
       "    }\n",
       "\n",
       "    .dataframe tbody tr th {\n",
       "        vertical-align: top;\n",
       "    }\n",
       "\n",
       "    .dataframe thead th {\n",
       "        text-align: right;\n",
       "    }\n",
       "</style>\n",
       "<table border=\"1\" class=\"dataframe\">\n",
       "  <thead>\n",
       "    <tr style=\"text-align: right;\">\n",
       "      <th></th>\n",
       "      <th>count</th>\n",
       "      <th>unique</th>\n",
       "      <th>top</th>\n",
       "      <th>freq</th>\n",
       "      <th>mean</th>\n",
       "      <th>std</th>\n",
       "      <th>min</th>\n",
       "      <th>25%</th>\n",
       "      <th>50%</th>\n",
       "      <th>75%</th>\n",
       "      <th>max</th>\n",
       "    </tr>\n",
       "  </thead>\n",
       "  <tbody>\n",
       "    <tr>\n",
       "      <th>RowNumber</th>\n",
       "      <td>10,000.00000</td>\n",
       "      <td>NaN</td>\n",
       "      <td>NaN</td>\n",
       "      <td>NaN</td>\n",
       "      <td>5,000.50000</td>\n",
       "      <td>2,886.89568</td>\n",
       "      <td>1.00000</td>\n",
       "      <td>2,500.75000</td>\n",
       "      <td>5,000.50000</td>\n",
       "      <td>7,500.25000</td>\n",
       "      <td>10,000.00000</td>\n",
       "    </tr>\n",
       "    <tr>\n",
       "      <th>CustomerId</th>\n",
       "      <td>10,000.00000</td>\n",
       "      <td>NaN</td>\n",
       "      <td>NaN</td>\n",
       "      <td>NaN</td>\n",
       "      <td>15,690,940.56940</td>\n",
       "      <td>71,936.18612</td>\n",
       "      <td>15,565,701.00000</td>\n",
       "      <td>15,628,528.25000</td>\n",
       "      <td>15,690,738.00000</td>\n",
       "      <td>15,753,233.75000</td>\n",
       "      <td>15,815,690.00000</td>\n",
       "    </tr>\n",
       "    <tr>\n",
       "      <th>Surname</th>\n",
       "      <td>10000</td>\n",
       "      <td>2932</td>\n",
       "      <td>Smith</td>\n",
       "      <td>32</td>\n",
       "      <td>NaN</td>\n",
       "      <td>NaN</td>\n",
       "      <td>NaN</td>\n",
       "      <td>NaN</td>\n",
       "      <td>NaN</td>\n",
       "      <td>NaN</td>\n",
       "      <td>NaN</td>\n",
       "    </tr>\n",
       "    <tr>\n",
       "      <th>CreditScore</th>\n",
       "      <td>10,000.00000</td>\n",
       "      <td>NaN</td>\n",
       "      <td>NaN</td>\n",
       "      <td>NaN</td>\n",
       "      <td>650.52880</td>\n",
       "      <td>96.65330</td>\n",
       "      <td>350.00000</td>\n",
       "      <td>584.00000</td>\n",
       "      <td>652.00000</td>\n",
       "      <td>718.00000</td>\n",
       "      <td>850.00000</td>\n",
       "    </tr>\n",
       "    <tr>\n",
       "      <th>Geography</th>\n",
       "      <td>10000</td>\n",
       "      <td>3</td>\n",
       "      <td>France</td>\n",
       "      <td>5014</td>\n",
       "      <td>NaN</td>\n",
       "      <td>NaN</td>\n",
       "      <td>NaN</td>\n",
       "      <td>NaN</td>\n",
       "      <td>NaN</td>\n",
       "      <td>NaN</td>\n",
       "      <td>NaN</td>\n",
       "    </tr>\n",
       "    <tr>\n",
       "      <th>Gender</th>\n",
       "      <td>10000</td>\n",
       "      <td>2</td>\n",
       "      <td>Male</td>\n",
       "      <td>5457</td>\n",
       "      <td>NaN</td>\n",
       "      <td>NaN</td>\n",
       "      <td>NaN</td>\n",
       "      <td>NaN</td>\n",
       "      <td>NaN</td>\n",
       "      <td>NaN</td>\n",
       "      <td>NaN</td>\n",
       "    </tr>\n",
       "    <tr>\n",
       "      <th>Age</th>\n",
       "      <td>10,000.00000</td>\n",
       "      <td>NaN</td>\n",
       "      <td>NaN</td>\n",
       "      <td>NaN</td>\n",
       "      <td>38.92180</td>\n",
       "      <td>10.48781</td>\n",
       "      <td>18.00000</td>\n",
       "      <td>32.00000</td>\n",
       "      <td>37.00000</td>\n",
       "      <td>44.00000</td>\n",
       "      <td>92.00000</td>\n",
       "    </tr>\n",
       "    <tr>\n",
       "      <th>Tenure</th>\n",
       "      <td>9,091.00000</td>\n",
       "      <td>NaN</td>\n",
       "      <td>NaN</td>\n",
       "      <td>NaN</td>\n",
       "      <td>4.99769</td>\n",
       "      <td>2.89472</td>\n",
       "      <td>0.00000</td>\n",
       "      <td>2.00000</td>\n",
       "      <td>5.00000</td>\n",
       "      <td>7.00000</td>\n",
       "      <td>10.00000</td>\n",
       "    </tr>\n",
       "    <tr>\n",
       "      <th>Balance</th>\n",
       "      <td>10,000.00000</td>\n",
       "      <td>NaN</td>\n",
       "      <td>NaN</td>\n",
       "      <td>NaN</td>\n",
       "      <td>76,485.88929</td>\n",
       "      <td>62,397.40520</td>\n",
       "      <td>0.00000</td>\n",
       "      <td>0.00000</td>\n",
       "      <td>97,198.54000</td>\n",
       "      <td>127,644.24000</td>\n",
       "      <td>250,898.09000</td>\n",
       "    </tr>\n",
       "    <tr>\n",
       "      <th>NumOfProducts</th>\n",
       "      <td>10,000.00000</td>\n",
       "      <td>NaN</td>\n",
       "      <td>NaN</td>\n",
       "      <td>NaN</td>\n",
       "      <td>1.53020</td>\n",
       "      <td>0.58165</td>\n",
       "      <td>1.00000</td>\n",
       "      <td>1.00000</td>\n",
       "      <td>1.00000</td>\n",
       "      <td>2.00000</td>\n",
       "      <td>4.00000</td>\n",
       "    </tr>\n",
       "    <tr>\n",
       "      <th>HasCrCard</th>\n",
       "      <td>10,000.00000</td>\n",
       "      <td>NaN</td>\n",
       "      <td>NaN</td>\n",
       "      <td>NaN</td>\n",
       "      <td>0.70550</td>\n",
       "      <td>0.45584</td>\n",
       "      <td>0.00000</td>\n",
       "      <td>0.00000</td>\n",
       "      <td>1.00000</td>\n",
       "      <td>1.00000</td>\n",
       "      <td>1.00000</td>\n",
       "    </tr>\n",
       "    <tr>\n",
       "      <th>IsActiveMember</th>\n",
       "      <td>10,000.00000</td>\n",
       "      <td>NaN</td>\n",
       "      <td>NaN</td>\n",
       "      <td>NaN</td>\n",
       "      <td>0.51510</td>\n",
       "      <td>0.49980</td>\n",
       "      <td>0.00000</td>\n",
       "      <td>0.00000</td>\n",
       "      <td>1.00000</td>\n",
       "      <td>1.00000</td>\n",
       "      <td>1.00000</td>\n",
       "    </tr>\n",
       "    <tr>\n",
       "      <th>EstimatedSalary</th>\n",
       "      <td>10,000.00000</td>\n",
       "      <td>NaN</td>\n",
       "      <td>NaN</td>\n",
       "      <td>NaN</td>\n",
       "      <td>100,090.23988</td>\n",
       "      <td>57,510.49282</td>\n",
       "      <td>11.58000</td>\n",
       "      <td>51,002.11000</td>\n",
       "      <td>100,193.91500</td>\n",
       "      <td>149,388.24750</td>\n",
       "      <td>199,992.48000</td>\n",
       "    </tr>\n",
       "    <tr>\n",
       "      <th>Exited</th>\n",
       "      <td>10,000.00000</td>\n",
       "      <td>NaN</td>\n",
       "      <td>NaN</td>\n",
       "      <td>NaN</td>\n",
       "      <td>0.20370</td>\n",
       "      <td>0.40277</td>\n",
       "      <td>0.00000</td>\n",
       "      <td>0.00000</td>\n",
       "      <td>0.00000</td>\n",
       "      <td>0.00000</td>\n",
       "      <td>1.00000</td>\n",
       "    </tr>\n",
       "  </tbody>\n",
       "</table>\n",
       "</div>"
      ],
      "text/plain": [
       "                       count unique     top  freq             mean  \\\n",
       "RowNumber       10,000.00000    NaN     NaN   NaN      5,000.50000   \n",
       "CustomerId      10,000.00000    NaN     NaN   NaN 15,690,940.56940   \n",
       "Surname                10000   2932   Smith    32              NaN   \n",
       "CreditScore     10,000.00000    NaN     NaN   NaN        650.52880   \n",
       "Geography              10000      3  France  5014              NaN   \n",
       "Gender                 10000      2    Male  5457              NaN   \n",
       "Age             10,000.00000    NaN     NaN   NaN         38.92180   \n",
       "Tenure           9,091.00000    NaN     NaN   NaN          4.99769   \n",
       "Balance         10,000.00000    NaN     NaN   NaN     76,485.88929   \n",
       "NumOfProducts   10,000.00000    NaN     NaN   NaN          1.53020   \n",
       "HasCrCard       10,000.00000    NaN     NaN   NaN          0.70550   \n",
       "IsActiveMember  10,000.00000    NaN     NaN   NaN          0.51510   \n",
       "EstimatedSalary 10,000.00000    NaN     NaN   NaN    100,090.23988   \n",
       "Exited          10,000.00000    NaN     NaN   NaN          0.20370   \n",
       "\n",
       "                         std              min              25%  \\\n",
       "RowNumber        2,886.89568          1.00000      2,500.75000   \n",
       "CustomerId      71,936.18612 15,565,701.00000 15,628,528.25000   \n",
       "Surname                  NaN              NaN              NaN   \n",
       "CreditScore         96.65330        350.00000        584.00000   \n",
       "Geography                NaN              NaN              NaN   \n",
       "Gender                   NaN              NaN              NaN   \n",
       "Age                 10.48781         18.00000         32.00000   \n",
       "Tenure               2.89472          0.00000          2.00000   \n",
       "Balance         62,397.40520          0.00000          0.00000   \n",
       "NumOfProducts        0.58165          1.00000          1.00000   \n",
       "HasCrCard            0.45584          0.00000          0.00000   \n",
       "IsActiveMember       0.49980          0.00000          0.00000   \n",
       "EstimatedSalary 57,510.49282         11.58000     51,002.11000   \n",
       "Exited               0.40277          0.00000          0.00000   \n",
       "\n",
       "                             50%              75%              max  \n",
       "RowNumber            5,000.50000      7,500.25000     10,000.00000  \n",
       "CustomerId      15,690,738.00000 15,753,233.75000 15,815,690.00000  \n",
       "Surname                      NaN              NaN              NaN  \n",
       "CreditScore            652.00000        718.00000        850.00000  \n",
       "Geography                    NaN              NaN              NaN  \n",
       "Gender                       NaN              NaN              NaN  \n",
       "Age                     37.00000         44.00000         92.00000  \n",
       "Tenure                   5.00000          7.00000         10.00000  \n",
       "Balance             97,198.54000    127,644.24000    250,898.09000  \n",
       "NumOfProducts            1.00000          2.00000          4.00000  \n",
       "HasCrCard                1.00000          1.00000          1.00000  \n",
       "IsActiveMember           1.00000          1.00000          1.00000  \n",
       "EstimatedSalary    100,193.91500    149,388.24750    199,992.48000  \n",
       "Exited                   0.00000          0.00000          1.00000  "
      ]
     },
     "execution_count": 59,
     "metadata": {},
     "output_type": "execute_result"
    }
   ],
   "source": [
    "df.describe(include='all').T"
   ]
  },
  {
   "cell_type": "code",
   "execution_count": 60,
   "metadata": {},
   "outputs": [
    {
     "data": {
      "text/plain": [
       "RowNumber          10000\n",
       "CustomerId         10000\n",
       "Surname             2932\n",
       "CreditScore          460\n",
       "Geography              3\n",
       "Gender                 2\n",
       "Age                   70\n",
       "Tenure                11\n",
       "Balance             6382\n",
       "NumOfProducts          4\n",
       "HasCrCard              2\n",
       "IsActiveMember         2\n",
       "EstimatedSalary     9999\n",
       "Exited                 2\n",
       "dtype: int64"
      ]
     },
     "execution_count": 60,
     "metadata": {},
     "output_type": "execute_result"
    }
   ],
   "source": [
    "df.nunique()"
   ]
  },
  {
   "cell_type": "code",
   "execution_count": 61,
   "metadata": {},
   "outputs": [
    {
     "name": "stdout",
     "output_type": "stream",
     "text": [
      "RowNumber\n",
      "1        1\n",
      "6671     1\n",
      "6664     1\n",
      "6665     1\n",
      "6666     1\n",
      "        ..\n",
      "3334     1\n",
      "3335     1\n",
      "3336     1\n",
      "3337     1\n",
      "10000    1\n",
      "Name: RowNumber, Length: 10000, dtype: int64\n",
      "CustomerId\n",
      "15634602    1\n",
      "15667932    1\n",
      "15766185    1\n",
      "15667632    1\n",
      "15599024    1\n",
      "           ..\n",
      "15599078    1\n",
      "15702300    1\n",
      "15660735    1\n",
      "15671390    1\n",
      "15628319    1\n",
      "Name: CustomerId, Length: 10000, dtype: int64\n",
      "Surname\n",
      "Smith       32\n",
      "Scott       29\n",
      "Martin      29\n",
      "Walker      28\n",
      "Brown       26\n",
      "            ..\n",
      "Izmailov     1\n",
      "Bold         1\n",
      "Bonham       1\n",
      "Poninski     1\n",
      "Burbidge     1\n",
      "Name: Surname, Length: 2932, dtype: int64\n",
      "CreditScore\n",
      "850    233\n",
      "678     63\n",
      "655     54\n",
      "705     53\n",
      "667     53\n",
      "      ... \n",
      "404      1\n",
      "351      1\n",
      "365      1\n",
      "417      1\n",
      "419      1\n",
      "Name: CreditScore, Length: 460, dtype: int64\n",
      "Geography\n",
      "France     5014\n",
      "Germany    2509\n",
      "Spain      2477\n",
      "Name: Geography, dtype: int64\n",
      "Gender\n",
      "Male      5457\n",
      "Female    4543\n",
      "Name: Gender, dtype: int64\n",
      "Age\n",
      "37    478\n",
      "38    477\n",
      "35    474\n",
      "36    456\n",
      "34    447\n",
      "     ... \n",
      "92      2\n",
      "82      1\n",
      "88      1\n",
      "85      1\n",
      "83      1\n",
      "Name: Age, Length: 70, dtype: int64\n",
      "Tenure\n",
      "1.00000     952\n",
      "2.00000     950\n",
      "8.00000     933\n",
      "3.00000     928\n",
      "5.00000     927\n",
      "7.00000     925\n",
      "NaN         909\n",
      "4.00000     885\n",
      "9.00000     882\n",
      "6.00000     881\n",
      "10.00000    446\n",
      "0.00000     382\n",
      "Name: Tenure, dtype: int64\n",
      "Balance\n",
      "0.00000          3617\n",
      "130,170.82000       2\n",
      "105,473.74000       2\n",
      "85,304.27000        1\n",
      "159,397.75000       1\n",
      "                 ... \n",
      "81,556.89000        1\n",
      "112,687.69000       1\n",
      "108,698.96000       1\n",
      "238,387.56000       1\n",
      "130,142.79000       1\n",
      "Name: Balance, Length: 6382, dtype: int64\n",
      "NumOfProducts\n",
      "1    5084\n",
      "2    4590\n",
      "3     266\n",
      "4      60\n",
      "Name: NumOfProducts, dtype: int64\n",
      "HasCrCard\n",
      "1    7055\n",
      "0    2945\n",
      "Name: HasCrCard, dtype: int64\n",
      "IsActiveMember\n",
      "1    5151\n",
      "0    4849\n",
      "Name: IsActiveMember, dtype: int64\n",
      "EstimatedSalary\n",
      "24,924.92000     2\n",
      "101,348.88000    1\n",
      "55,313.44000     1\n",
      "72,500.68000     1\n",
      "182,692.80000    1\n",
      "                ..\n",
      "120,893.07000    1\n",
      "188,377.21000    1\n",
      "55,902.93000     1\n",
      "4,523.74000      1\n",
      "38,190.78000     1\n",
      "Name: EstimatedSalary, Length: 9999, dtype: int64\n",
      "Exited\n",
      "0    7963\n",
      "1    2037\n",
      "Name: Exited, dtype: int64\n"
     ]
    }
   ],
   "source": [
    "# Посмотрим распределение уникальных значений в столбцах\n",
    "feature_names = df.columns.tolist() \n",
    "for column in feature_names: \n",
    "    print(column) \n",
    "    print(df[column].value_counts(dropna=False))"
   ]
  },
  {
   "cell_type": "markdown",
   "metadata": {},
   "source": [
    "**После загрузки файла и первичного изучения данных, наблюдается следующее:**\n",
    "- Файл содержит данные о 10000 клиентах и их 14 признаках. Целевой признак `Exited` - факт ухода клиента.\n",
    "- Имеется ряд признаков, которые не оказывают влияние на целевой признак. Это `RowNumber`, `CustomerId`, `Surname`. Их можно удалить. \n",
    "- Имеются пропуски в столбце `Tenure`, скорее всего, они имеют случайный характер. Их количество достаточно велико, чтобы удалить эти данные. Заполним пропуски медианным значением, чтоб не исказить данные\n",
    "- Численные признаки необходимо масштабировать, т.к. существует большой разброс значений.\n",
    "- Категориальные признаки преобразуем методом One-Hot Encoding\n",
    " "
   ]
  },
  {
   "cell_type": "code",
   "execution_count": 62,
   "metadata": {},
   "outputs": [],
   "source": [
    "#Удалим лишние признаки\n",
    "df.drop(columns=['RowNumber','CustomerId','Surname'],axis=1,inplace=True)"
   ]
  },
  {
   "cell_type": "code",
   "execution_count": 63,
   "metadata": {},
   "outputs": [
    {
     "data": {
      "text/plain": [
       "count   9,091.00000\n",
       "mean        4.99769\n",
       "std         2.89472\n",
       "min         0.00000\n",
       "25%         2.00000\n",
       "50%         5.00000\n",
       "75%         7.00000\n",
       "max        10.00000\n",
       "Name: Tenure, dtype: float64"
      ]
     },
     "execution_count": 63,
     "metadata": {},
     "output_type": "execute_result"
    }
   ],
   "source": [
    "# Посмотрим как распределены значения в столбце 'Tenure'\n",
    "df['Tenure'].describe()"
   ]
  },
  {
   "cell_type": "code",
   "execution_count": 64,
   "metadata": {},
   "outputs": [],
   "source": [
    "# Заменим пропуски на случайные значения\n",
    "df['Tenure']=df['Tenure'].fillna(df['Tenure'].median())"
   ]
  },
  {
   "cell_type": "code",
   "execution_count": 65,
   "metadata": {},
   "outputs": [
    {
     "data": {
      "text/plain": [
       "count   10,000.00000\n",
       "mean         4.99790\n",
       "std          2.76001\n",
       "min          0.00000\n",
       "25%          3.00000\n",
       "50%          5.00000\n",
       "75%          7.00000\n",
       "max         10.00000\n",
       "Name: Tenure, dtype: float64"
      ]
     },
     "execution_count": 65,
     "metadata": {},
     "output_type": "execute_result"
    }
   ],
   "source": [
    "# Посмотрим каким стало распределение после заполнения пропусков\n",
    "df['Tenure'].describe()"
   ]
  },
  {
   "cell_type": "code",
   "execution_count": 66,
   "metadata": {},
   "outputs": [],
   "source": [
    "# Применим ОНЕ-метод к категориальным признакам\n",
    "#df_ohe = pd.get_dummies(df, drop_first=True)"
   ]
  },
  {
   "cell_type": "code",
   "execution_count": 67,
   "metadata": {},
   "outputs": [],
   "source": [
    "# Разобьем данные на обучающую, валидационную и тестовую выборки\n",
    "target = df['Exited']\n",
    "features = df.drop('Exited', axis=1)\n",
    "features_train, features_test1, target_train, target_test1 = train_test_split(\n",
    "    features, target, test_size=0.4, \n",
    "    stratify = target, random_state=12345)\n",
    "features_valid, features_test, target_valid, target_test = train_test_split(\n",
    "    features_test1, target_test1, test_size=0.5, \n",
    "    stratify = target_test1, random_state=12345)\n"
   ]
  },
  {
   "cell_type": "code",
   "execution_count": 68,
   "metadata": {},
   "outputs": [
    {
     "data": {
      "text/plain": [
       "['Geography', 'Gender']"
      ]
     },
     "execution_count": 68,
     "metadata": {},
     "output_type": "execute_result"
    }
   ],
   "source": [
    "# Обозначим категориальные признаки для ОНЕ\n",
    "ohe_features = features_train.select_dtypes(include='object').columns.to_list()\n",
    "ohe_features"
   ]
  },
  {
   "cell_type": "code",
   "execution_count": 69,
   "metadata": {},
   "outputs": [],
   "source": [
    "# Обозначим численные признаки \n",
    "num_features = ['CreditScore', 'Age', 'Tenure', 'Balance', 'EstimatedSalary']"
   ]
  },
  {
   "cell_type": "code",
   "execution_count": 70,
   "metadata": {},
   "outputs": [
    {
     "data": {
      "text/html": [
       "<div>\n",
       "<style scoped>\n",
       "    .dataframe tbody tr th:only-of-type {\n",
       "        vertical-align: middle;\n",
       "    }\n",
       "\n",
       "    .dataframe tbody tr th {\n",
       "        vertical-align: top;\n",
       "    }\n",
       "\n",
       "    .dataframe thead th {\n",
       "        text-align: right;\n",
       "    }\n",
       "</style>\n",
       "<table border=\"1\" class=\"dataframe\">\n",
       "  <thead>\n",
       "    <tr style=\"text-align: right;\">\n",
       "      <th></th>\n",
       "      <th>CreditScore</th>\n",
       "      <th>Age</th>\n",
       "      <th>Tenure</th>\n",
       "      <th>Balance</th>\n",
       "      <th>NumOfProducts</th>\n",
       "      <th>HasCrCard</th>\n",
       "      <th>IsActiveMember</th>\n",
       "      <th>EstimatedSalary</th>\n",
       "      <th>Geography_Germany</th>\n",
       "      <th>Geography_Spain</th>\n",
       "      <th>Gender_Male</th>\n",
       "    </tr>\n",
       "  </thead>\n",
       "  <tbody>\n",
       "    <tr>\n",
       "      <th>2837</th>\n",
       "      <td>-1.04043</td>\n",
       "      <td>0.95331</td>\n",
       "      <td>0.36060</td>\n",
       "      <td>0.77466</td>\n",
       "      <td>1</td>\n",
       "      <td>0</td>\n",
       "      <td>1</td>\n",
       "      <td>-0.11911</td>\n",
       "      <td>1.00000</td>\n",
       "      <td>0.00000</td>\n",
       "      <td>0.00000</td>\n",
       "    </tr>\n",
       "    <tr>\n",
       "      <th>9925</th>\n",
       "      <td>0.45401</td>\n",
       "      <td>-0.09524</td>\n",
       "      <td>-0.00279</td>\n",
       "      <td>1.91054</td>\n",
       "      <td>1</td>\n",
       "      <td>1</td>\n",
       "      <td>1</td>\n",
       "      <td>-0.25866</td>\n",
       "      <td>0.00000</td>\n",
       "      <td>0.00000</td>\n",
       "      <td>0.00000</td>\n",
       "    </tr>\n",
       "    <tr>\n",
       "      <th>8746</th>\n",
       "      <td>0.10359</td>\n",
       "      <td>-0.47654</td>\n",
       "      <td>1.08737</td>\n",
       "      <td>0.48161</td>\n",
       "      <td>2</td>\n",
       "      <td>0</td>\n",
       "      <td>1</td>\n",
       "      <td>1.42284</td>\n",
       "      <td>0.00000</td>\n",
       "      <td>0.00000</td>\n",
       "      <td>1.00000</td>\n",
       "    </tr>\n",
       "    <tr>\n",
       "      <th>660</th>\n",
       "      <td>-0.18500</td>\n",
       "      <td>0.19073</td>\n",
       "      <td>-0.00279</td>\n",
       "      <td>0.08844</td>\n",
       "      <td>1</td>\n",
       "      <td>1</td>\n",
       "      <td>1</td>\n",
       "      <td>-1.16043</td>\n",
       "      <td>1.00000</td>\n",
       "      <td>0.00000</td>\n",
       "      <td>0.00000</td>\n",
       "    </tr>\n",
       "    <tr>\n",
       "      <th>3610</th>\n",
       "      <td>-0.72093</td>\n",
       "      <td>1.62057</td>\n",
       "      <td>-1.45633</td>\n",
       "      <td>0.87913</td>\n",
       "      <td>1</td>\n",
       "      <td>1</td>\n",
       "      <td>0</td>\n",
       "      <td>0.11324</td>\n",
       "      <td>0.00000</td>\n",
       "      <td>0.00000</td>\n",
       "      <td>0.00000</td>\n",
       "    </tr>\n",
       "  </tbody>\n",
       "</table>\n",
       "</div>"
      ],
      "text/plain": [
       "      CreditScore      Age   Tenure  Balance  NumOfProducts  HasCrCard  \\\n",
       "2837     -1.04043  0.95331  0.36060  0.77466              1          0   \n",
       "9925      0.45401 -0.09524 -0.00279  1.91054              1          1   \n",
       "8746      0.10359 -0.47654  1.08737  0.48161              2          0   \n",
       "660      -0.18500  0.19073 -0.00279  0.08844              1          1   \n",
       "3610     -0.72093  1.62057 -1.45633  0.87913              1          1   \n",
       "\n",
       "      IsActiveMember  EstimatedSalary  Geography_Germany  Geography_Spain  \\\n",
       "2837               1         -0.11911            1.00000          0.00000   \n",
       "9925               1         -0.25866            0.00000          0.00000   \n",
       "8746               1          1.42284            0.00000          0.00000   \n",
       "660                1         -1.16043            1.00000          0.00000   \n",
       "3610               0          0.11324            0.00000          0.00000   \n",
       "\n",
       "      Gender_Male  \n",
       "2837      0.00000  \n",
       "9925      0.00000  \n",
       "8746      1.00000  \n",
       "660       0.00000  \n",
       "3610      0.00000  "
      ]
     },
     "execution_count": 70,
     "metadata": {},
     "output_type": "execute_result"
    }
   ],
   "source": [
    "# Закодируем категориальные и стандартизируем численные признаки\n",
    "# drop='first' удаляет первый признак из закодированных:\n",
    "# таким образом обходим dummy-ловушку\n",
    "# задаём handle_unknown='ignore':\n",
    "# игнорируется ранее невстречающиеся значения признака (при transform)\n",
    "encoder_ohe = OneHotEncoder(drop='first', handle_unknown='ignore', sparse=False)\n",
    "\n",
    "# обучаем энкодер на заданных категориальных признаках тренировочной выборки\n",
    "encoder_ohe.fit(features_train[ohe_features])\n",
    "\n",
    "# добавляем закодированные признаки в features_train\n",
    "# encoder_ohe.get_feature_names_out() позволяет получить названия колонок\n",
    "features_train[\n",
    "    encoder_ohe.get_feature_names_out()\n",
    "] = encoder_ohe.transform(features_train[ohe_features])\n",
    "\n",
    "# удаляем незакодированные категориальные признаки (изначальные колонки)\n",
    "features_train = features_train.drop(ohe_features, axis=1)\n",
    "\n",
    "# создаём скелер\n",
    "scaler = StandardScaler()\n",
    "\n",
    "# обучаем его на численных признаках тренировочной выборки, трансформируем её же\n",
    "features_train[num_features] = scaler.fit_transform(features_train[num_features])\n",
    "\n",
    "# смотрим на результат\n",
    "features_train.head()"
   ]
  },
  {
   "cell_type": "code",
   "execution_count": 71,
   "metadata": {},
   "outputs": [
    {
     "data": {
      "text/html": [
       "<div>\n",
       "<style scoped>\n",
       "    .dataframe tbody tr th:only-of-type {\n",
       "        vertical-align: middle;\n",
       "    }\n",
       "\n",
       "    .dataframe tbody tr th {\n",
       "        vertical-align: top;\n",
       "    }\n",
       "\n",
       "    .dataframe thead th {\n",
       "        text-align: right;\n",
       "    }\n",
       "</style>\n",
       "<table border=\"1\" class=\"dataframe\">\n",
       "  <thead>\n",
       "    <tr style=\"text-align: right;\">\n",
       "      <th></th>\n",
       "      <th>CreditScore</th>\n",
       "      <th>Age</th>\n",
       "      <th>Tenure</th>\n",
       "      <th>Balance</th>\n",
       "      <th>NumOfProducts</th>\n",
       "      <th>HasCrCard</th>\n",
       "      <th>IsActiveMember</th>\n",
       "      <th>EstimatedSalary</th>\n",
       "      <th>Geography_Germany</th>\n",
       "      <th>Geography_Spain</th>\n",
       "      <th>Gender_Male</th>\n",
       "    </tr>\n",
       "  </thead>\n",
       "  <tbody>\n",
       "    <tr>\n",
       "      <th>657</th>\n",
       "      <td>-0.50450</td>\n",
       "      <td>1.42993</td>\n",
       "      <td>-1.45633</td>\n",
       "      <td>0.87388</td>\n",
       "      <td>2</td>\n",
       "      <td>1</td>\n",
       "      <td>1</td>\n",
       "      <td>1.72526</td>\n",
       "      <td>1.00000</td>\n",
       "      <td>0.00000</td>\n",
       "      <td>0.00000</td>\n",
       "    </tr>\n",
       "    <tr>\n",
       "      <th>2083</th>\n",
       "      <td>-1.19503</td>\n",
       "      <td>-1.42977</td>\n",
       "      <td>-1.45633</td>\n",
       "      <td>-1.21967</td>\n",
       "      <td>1</td>\n",
       "      <td>1</td>\n",
       "      <td>1</td>\n",
       "      <td>1.20366</td>\n",
       "      <td>0.00000</td>\n",
       "      <td>0.00000</td>\n",
       "      <td>1.00000</td>\n",
       "    </tr>\n",
       "    <tr>\n",
       "      <th>3234</th>\n",
       "      <td>-1.26718</td>\n",
       "      <td>0.76267</td>\n",
       "      <td>-1.45633</td>\n",
       "      <td>-1.21967</td>\n",
       "      <td>1</td>\n",
       "      <td>1</td>\n",
       "      <td>0</td>\n",
       "      <td>-1.37474</td>\n",
       "      <td>0.00000</td>\n",
       "      <td>0.00000</td>\n",
       "      <td>1.00000</td>\n",
       "    </tr>\n",
       "    <tr>\n",
       "      <th>1551</th>\n",
       "      <td>0.82504</td>\n",
       "      <td>1.23928</td>\n",
       "      <td>0.72399</td>\n",
       "      <td>-1.21967</td>\n",
       "      <td>2</td>\n",
       "      <td>0</td>\n",
       "      <td>1</td>\n",
       "      <td>0.38231</td>\n",
       "      <td>0.00000</td>\n",
       "      <td>1.00000</td>\n",
       "      <td>0.00000</td>\n",
       "    </tr>\n",
       "    <tr>\n",
       "      <th>2344</th>\n",
       "      <td>0.66014</td>\n",
       "      <td>0.95331</td>\n",
       "      <td>-0.36617</td>\n",
       "      <td>0.26709</td>\n",
       "      <td>1</td>\n",
       "      <td>1</td>\n",
       "      <td>0</td>\n",
       "      <td>-1.61358</td>\n",
       "      <td>1.00000</td>\n",
       "      <td>0.00000</td>\n",
       "      <td>0.00000</td>\n",
       "    </tr>\n",
       "  </tbody>\n",
       "</table>\n",
       "</div>"
      ],
      "text/plain": [
       "      CreditScore      Age   Tenure  Balance  NumOfProducts  HasCrCard  \\\n",
       "657      -0.50450  1.42993 -1.45633  0.87388              2          1   \n",
       "2083     -1.19503 -1.42977 -1.45633 -1.21967              1          1   \n",
       "3234     -1.26718  0.76267 -1.45633 -1.21967              1          1   \n",
       "1551      0.82504  1.23928  0.72399 -1.21967              2          0   \n",
       "2344      0.66014  0.95331 -0.36617  0.26709              1          1   \n",
       "\n",
       "      IsActiveMember  EstimatedSalary  Geography_Germany  Geography_Spain  \\\n",
       "657                1          1.72526            1.00000          0.00000   \n",
       "2083               1          1.20366            0.00000          0.00000   \n",
       "3234               0         -1.37474            0.00000          0.00000   \n",
       "1551               1          0.38231            0.00000          1.00000   \n",
       "2344               0         -1.61358            1.00000          0.00000   \n",
       "\n",
       "      Gender_Male  \n",
       "657       0.00000  \n",
       "2083      1.00000  \n",
       "3234      1.00000  \n",
       "1551      0.00000  \n",
       "2344      0.00000  "
      ]
     },
     "execution_count": 71,
     "metadata": {},
     "output_type": "execute_result"
    }
   ],
   "source": [
    "# энкодером, который обучен на ТРЕНИРОВОЧНОЙ ВЫБОРКЕ, кодируем тестовую\n",
    "features_test[\n",
    "    encoder_ohe.get_feature_names_out()\n",
    "] = encoder_ohe.transform(features_test[ohe_features])\n",
    "\n",
    "features_test = features_test.drop(ohe_features, axis=1)\n",
    "\n",
    "# скелером, который обучен на ТРЕНИРОВОЧНОЙ ВЫБОРКЕ, масштабируем тестовую\n",
    "features_test[num_features] = scaler.transform(\n",
    "    features_test[num_features]\n",
    ")\n",
    "\n",
    "# смотрим на результат\n",
    "features_test.head()"
   ]
  },
  {
   "cell_type": "code",
   "execution_count": 72,
   "metadata": {},
   "outputs": [
    {
     "data": {
      "text/html": [
       "<div>\n",
       "<style scoped>\n",
       "    .dataframe tbody tr th:only-of-type {\n",
       "        vertical-align: middle;\n",
       "    }\n",
       "\n",
       "    .dataframe tbody tr th {\n",
       "        vertical-align: top;\n",
       "    }\n",
       "\n",
       "    .dataframe thead th {\n",
       "        text-align: right;\n",
       "    }\n",
       "</style>\n",
       "<table border=\"1\" class=\"dataframe\">\n",
       "  <thead>\n",
       "    <tr style=\"text-align: right;\">\n",
       "      <th></th>\n",
       "      <th>CreditScore</th>\n",
       "      <th>Age</th>\n",
       "      <th>Tenure</th>\n",
       "      <th>Balance</th>\n",
       "      <th>NumOfProducts</th>\n",
       "      <th>HasCrCard</th>\n",
       "      <th>IsActiveMember</th>\n",
       "      <th>EstimatedSalary</th>\n",
       "      <th>Geography_Germany</th>\n",
       "      <th>Geography_Spain</th>\n",
       "      <th>Gender_Male</th>\n",
       "    </tr>\n",
       "  </thead>\n",
       "  <tbody>\n",
       "    <tr>\n",
       "      <th>6612</th>\n",
       "      <td>-1.52484</td>\n",
       "      <td>2.38316</td>\n",
       "      <td>-0.72956</td>\n",
       "      <td>1.01165</td>\n",
       "      <td>1</td>\n",
       "      <td>0</td>\n",
       "      <td>1</td>\n",
       "      <td>0.01027</td>\n",
       "      <td>0.00000</td>\n",
       "      <td>0.00000</td>\n",
       "      <td>0.00000</td>\n",
       "    </tr>\n",
       "    <tr>\n",
       "      <th>519</th>\n",
       "      <td>0.58799</td>\n",
       "      <td>1.81122</td>\n",
       "      <td>0.36060</td>\n",
       "      <td>0.21319</td>\n",
       "      <td>1</td>\n",
       "      <td>0</td>\n",
       "      <td>1</td>\n",
       "      <td>0.45309</td>\n",
       "      <td>0.00000</td>\n",
       "      <td>0.00000</td>\n",
       "      <td>1.00000</td>\n",
       "    </tr>\n",
       "    <tr>\n",
       "      <th>1609</th>\n",
       "      <td>-0.31898</td>\n",
       "      <td>-0.38121</td>\n",
       "      <td>1.08737</td>\n",
       "      <td>0.89390</td>\n",
       "      <td>1</td>\n",
       "      <td>1</td>\n",
       "      <td>0</td>\n",
       "      <td>-0.60351</td>\n",
       "      <td>0.00000</td>\n",
       "      <td>0.00000</td>\n",
       "      <td>0.00000</td>\n",
       "    </tr>\n",
       "    <tr>\n",
       "      <th>3475</th>\n",
       "      <td>1.22699</td>\n",
       "      <td>-0.76251</td>\n",
       "      <td>-0.36617</td>\n",
       "      <td>-0.24036</td>\n",
       "      <td>2</td>\n",
       "      <td>1</td>\n",
       "      <td>1</td>\n",
       "      <td>-1.62146</td>\n",
       "      <td>0.00000</td>\n",
       "      <td>0.00000</td>\n",
       "      <td>1.00000</td>\n",
       "    </tr>\n",
       "    <tr>\n",
       "      <th>2707</th>\n",
       "      <td>-0.13346</td>\n",
       "      <td>-0.09524</td>\n",
       "      <td>-0.72956</td>\n",
       "      <td>0.44731</td>\n",
       "      <td>1</td>\n",
       "      <td>0</td>\n",
       "      <td>0</td>\n",
       "      <td>0.33857</td>\n",
       "      <td>0.00000</td>\n",
       "      <td>0.00000</td>\n",
       "      <td>0.00000</td>\n",
       "    </tr>\n",
       "  </tbody>\n",
       "</table>\n",
       "</div>"
      ],
      "text/plain": [
       "      CreditScore      Age   Tenure  Balance  NumOfProducts  HasCrCard  \\\n",
       "6612     -1.52484  2.38316 -0.72956  1.01165              1          0   \n",
       "519       0.58799  1.81122  0.36060  0.21319              1          0   \n",
       "1609     -0.31898 -0.38121  1.08737  0.89390              1          1   \n",
       "3475      1.22699 -0.76251 -0.36617 -0.24036              2          1   \n",
       "2707     -0.13346 -0.09524 -0.72956  0.44731              1          0   \n",
       "\n",
       "      IsActiveMember  EstimatedSalary  Geography_Germany  Geography_Spain  \\\n",
       "6612               1          0.01027            0.00000          0.00000   \n",
       "519                1          0.45309            0.00000          0.00000   \n",
       "1609               0         -0.60351            0.00000          0.00000   \n",
       "3475               1         -1.62146            0.00000          0.00000   \n",
       "2707               0          0.33857            0.00000          0.00000   \n",
       "\n",
       "      Gender_Male  \n",
       "6612      0.00000  \n",
       "519       1.00000  \n",
       "1609      0.00000  \n",
       "3475      1.00000  \n",
       "2707      0.00000  "
      ]
     },
     "execution_count": 72,
     "metadata": {},
     "output_type": "execute_result"
    }
   ],
   "source": [
    "# энкодером, который обучен на ТРЕНИРОВОЧНОЙ ВЫБОРКЕ, кодируем валидационную\n",
    "features_valid[\n",
    "    encoder_ohe.get_feature_names_out()\n",
    "] = encoder_ohe.transform(features_valid[ohe_features])\n",
    "\n",
    "features_valid = features_valid.drop(ohe_features, axis=1)\n",
    "\n",
    "# скелером, который обучен на ТРЕНИРОВОЧНОЙ ВЫБОРКЕ, масштабируем валидационную\n",
    "features_valid[num_features] = scaler.transform(\n",
    "    features_valid[num_features]\n",
    ")\n",
    "\n",
    "# смотрим на результат\n",
    "features_valid.head()"
   ]
  },
  {
   "cell_type": "markdown",
   "metadata": {},
   "source": [
    "**Вывод:**\n",
    "В результате подготовки данных сделано следующее:\n",
    "- удалены лишние признаки `RowNumber`, `CustomerId`, `Surname`\n",
    "- заполнены константой пропуски в столбце `Tenure`\n",
    "- стандартизированы численные признаки\n",
    "- категориальные признаки преобразованы методом One-Hot Encoding"
   ]
  },
  {
   "cell_type": "markdown",
   "metadata": {},
   "source": [
    "## Исследование задачи"
   ]
  },
  {
   "cell_type": "code",
   "execution_count": 73,
   "metadata": {},
   "outputs": [
    {
     "name": "stdout",
     "output_type": "stream",
     "text": [
      "0   0.79630\n",
      "1   0.20370\n",
      "Name: Exited, dtype: float64\n"
     ]
    },
    {
     "data": {
      "image/png": "[encoded data removed]",
      "text/plain": [
       "<Figure size 640x480 with 1 Axes>"
      ]
     },
     "metadata": {},
     "output_type": "display_data"
    }
   ],
   "source": [
    "# Посчитаем классы в целевом признаке, сделав их относительными\n",
    "class_frequency = df['Exited'].value_counts(normalize=True)\n",
    "print(class_frequency)\n",
    "class_frequency.plot(kind='bar',\n",
    "                     title='Соотношение классов',\n",
    "                     ylabel='Доля'); "
   ]
  },
  {
   "cell_type": "code",
   "execution_count": 74,
   "metadata": {},
   "outputs": [
    {
     "data": {
      "text/plain": [
       "((6000, 11), (2000, 11), (2000, 11))"
      ]
     },
     "execution_count": 74,
     "metadata": {},
     "output_type": "execute_result"
    }
   ],
   "source": [
    "# Проверим как разделились данные\n",
    "features_train.shape, features_valid.shape, features_test.shape"
   ]
  },
  {
   "cell_type": "code",
   "execution_count": 75,
   "metadata": {},
   "outputs": [
    {
     "data": {
      "text/plain": [
       "(array([4778, 1222], dtype=int64),\n",
       " array([1593,  407], dtype=int64),\n",
       " array([1592,  408], dtype=int64))"
      ]
     },
     "execution_count": 75,
     "metadata": {},
     "output_type": "execute_result"
    }
   ],
   "source": [
    "# Посмотрим как распределились по классам\n",
    "np.bincount(target_train), np.bincount(target_test), np.bincount(target_valid),"
   ]
  },
  {
   "cell_type": "code",
   "execution_count": 76,
   "metadata": {},
   "outputs": [
    {
     "data": {
      "text/plain": [
       "((7963, 10), (2037, 10))"
      ]
     },
     "execution_count": 76,
     "metadata": {},
     "output_type": "execute_result"
    }
   ],
   "source": [
    "# Посмотрим количество объектов отрицательного и положительного классов\n",
    "features[target == 0].shape, features[target == 1].shape"
   ]
  },
  {
   "cell_type": "markdown",
   "metadata": {},
   "source": [
    "Разделение на выборки состоялось в соотношении 3/1/1, пропорция классов в выборках также сохранилась. \n",
    "\n",
    "Наблюдается явный дисбаланс классов, объектов отрицательного класса больше, чем положительного в четыре раза. Построим и изучим модели без учета этого дисбаланса."
   ]
  },
  {
   "cell_type": "code",
   "execution_count": 77,
   "metadata": {},
   "outputs": [
    {
     "name": "stdout",
     "output_type": "stream",
     "text": [
      "Лучшее значение f1: 0.5924855491329479\n",
      "Лучшая глубина дерева: 7\n"
     ]
    }
   ],
   "source": [
    "# Построим и обучим модель решающего дерева\n",
    "# Подберем лучший параметр глубины в цикле\n",
    "\n",
    "best_f1_dtc = 0\n",
    "best_depth_dtc = 0\n",
    "\n",
    "for depth in range(1,20,1):\n",
    "    model_dtc = DecisionTreeClassifier(max_depth=depth, random_state=12345)\n",
    "    model_dtc.fit(features_train, target_train)\n",
    "    predicted_dtc = model_dtc.predict(features_valid)\n",
    "    dtc_f1 = f1_score(target_valid, predicted_dtc)\n",
    "    if dtc_f1 > best_f1_dtc:\n",
    "        best_f1_dtc = dtc_f1\n",
    "        best_depth_dtc = depth\n",
    "        \n",
    "print(\"Лучшее значение f1:\", best_f1_dtc)\n",
    "print(\"Лучшая глубина дерева:\", best_depth_dtc)"
   ]
  },
  {
   "cell_type": "code",
   "execution_count": 78,
   "metadata": {},
   "outputs": [
    {
     "name": "stdout",
     "output_type": "stream",
     "text": [
      "Значение AUC-ROC для лучшей несбалансированной модели DTC: 0.8230390617302197\n"
     ]
    }
   ],
   "source": [
    "# Посмотрим значение AUC-ROC для лучшей несбалансированной модели решающего дерева\n",
    "\n",
    "model_dtc = DecisionTreeClassifier(max_depth=7, random_state=12345)\n",
    "model_dtc.fit(features_train, target_train)\n",
    "probabilities_valid = model_dtc.predict_proba(features_valid)\n",
    "probabilities_one_valid = probabilities_valid[:, 1]\n",
    "\n",
    "auc_roc_dtc = roc_auc_score(target_valid, probabilities_one_valid )\n",
    "print(\"Значение AUC-ROC для лучшей несбалансированной модели DTC:\", auc_roc_dtc)"
   ]
  },
  {
   "cell_type": "markdown",
   "metadata": {},
   "source": [
    "У модели решающего дерева пучшее значение `F1 = 0.5924855491329479` при глубине дерева раной `7`"
   ]
  },
  {
   "cell_type": "code",
   "execution_count": 79,
   "metadata": {},
   "outputs": [
    {
     "name": "stdout",
     "output_type": "stream",
     "text": [
      "Лучшее значение f1: 0.6036269430051813\n",
      "Лучшее количество деревьев: 1\n",
      "Лучшая глубина дерева: 4\n"
     ]
    }
   ],
   "source": [
    "#Построим и обучим модель случайного леса\n",
    "# Подберем лучший параметр глубины и количества деревьев в цикле\n",
    "\n",
    "best_f1_rfc = 0\n",
    "best_est = 0\n",
    "best_depth_rfc = 0\n",
    "\n",
    "for est in range(1,20,1):\n",
    "    for depth in range(1,10,1):\n",
    "        model_rfc = RandomForestClassifier(max_depth=depth,\n",
    "                                           n_estimators=est, random_state=12345)\n",
    "        model_rfc.fit(features_train, target_train)\n",
    "        predicted_rfc = model_rfc.predict(features_valid)\n",
    "        rfc_f1 = f1_score(target_valid, predicted_rfc)\n",
    "        if rfc_f1 > best_f1_rfc:\n",
    "            best_f1_rfc = rfc_f1\n",
    "            best_est = est\n",
    "            best_depth_rfc = depth\n",
    "\n",
    "print(\"Лучшее значение f1:\", best_f1_rfc)\n",
    "print(\"Лучшее количество деревьев:\", best_est)\n",
    "print(\"Лучшая глубина дерева:\", best_depth_rfc)"
   ]
  },
  {
   "cell_type": "code",
   "execution_count": 80,
   "metadata": {},
   "outputs": [
    {
     "name": "stdout",
     "output_type": "stream",
     "text": [
      "Значение AUC-ROC Лучшей несбалансированной модели RFC: 0.8142327753965908\n"
     ]
    }
   ],
   "source": [
    "# Посмотрим значение AUC-ROC для лучшей несбалансированной модели случайного леса\n",
    "\n",
    "model_rfc = RandomForestClassifier(max_depth=4,\n",
    "                                           n_estimators=1, random_state=12345)\n",
    "model_rfc.fit(features_train, target_train)\n",
    "probabilities_valid = model_rfc.predict_proba(features_valid)\n",
    "probabilities_one_valid = probabilities_valid[:, 1]\n",
    "\n",
    "auc_roc_rfc = roc_auc_score(target_valid, probabilities_one_valid )\n",
    "print(\"Значение AUC-ROC Лучшей несбалансированной модели RFC:\", auc_roc_rfc)"
   ]
  },
  {
   "cell_type": "markdown",
   "metadata": {},
   "source": [
    "У модели случайного леса лучшее значение `F1 = 0.6036269430051813` при глубине дерева раной `4` и количестве деревьев `1` "
   ]
  },
  {
   "cell_type": "code",
   "execution_count": 81,
   "metadata": {},
   "outputs": [
    {
     "name": "stdout",
     "output_type": "stream",
     "text": [
      "Значение f1 для модели логистичесой регресии: 0.3076923076923077\n",
      "Значение AUC-ROC: 0.7874174795546359\n"
     ]
    }
   ],
   "source": [
    "# Построим и обучим модель логистической регрессии\n",
    "# Найдем значение f1 для данной модели\n",
    "# Найдем значение AUC-ROC для этой модели\n",
    "\n",
    "model_lr = LogisticRegression(solver='liblinear', random_state=12345) \n",
    "model_lr.fit(features_train, target_train) \n",
    "predicted_lr = model_lr.predict(features_valid)\n",
    "\n",
    "probabilities_valid = model_lr.predict_proba(features_valid)\n",
    "probabilities_one_valid = probabilities_valid[:, 1]\n",
    "\n",
    "auc_roc_lr = roc_auc_score(target_valid, probabilities_one_valid )\n",
    "\n",
    "print('Значение f1 для модели логистичесой регресии:', f1_score(target_valid, predicted_lr))\n",
    "print(\"Значение AUC-ROC:\", auc_roc_lr)"
   ]
  },
  {
   "cell_type": "markdown",
   "metadata": {},
   "source": [
    "**Вывод:**\n",
    "В имеющихся у нас данных выявлен существенный дисбаланс классов, объектов отрицательного класса больше, чем положительного в четыре раза. Мы построили и изучили модели решающего дерева, случайного леса и логистической регрессии без учета этого дисбаланса. Предварительно разбив данные на обучающую, валидационную и тестовую выборки в соотношении 3:1:1.\n",
    "\n",
    "Лучшее значение метрики `F1` показала `модель случайного леса` при количестве деревьев 1 и глубине 4, оно составило `0.6036269430051813`. Хуже всех отработала модель логистической регресси, ее показатель F1 равен 0.3076923076923077"
   ]
  },
  {
   "cell_type": "markdown",
   "metadata": {},
   "source": [
    "**Удалим из проекта модель логистической регрессии**"
   ]
  },
  {
   "cell_type": "markdown",
   "metadata": {},
   "source": [
    "## Борьба с дисбалансом"
   ]
  },
  {
   "cell_type": "code",
   "execution_count": 82,
   "metadata": {},
   "outputs": [
    {
     "name": "stdout",
     "output_type": "stream",
     "text": [
      "Лучшее значение f1: 0.575925925925926\n",
      "Лучшая глубина дерева: 6\n"
     ]
    }
   ],
   "source": [
    "# Посмотрим как изменится значение метрики F1, если сделать веса классов сбалансированными\n",
    "# Сначала сделаем это автоматически, добавив параметр class_weight='balanced' в наши модели \n",
    "\n",
    "# Модель решающего дерева\n",
    "\n",
    "best_f1_dtc_bal = 0\n",
    "best_depth_dtc_bal = 0\n",
    "\n",
    "for depth in range(1,10,1):\n",
    "    model_dtc_bal = DecisionTreeClassifier(max_depth=depth, random_state=12345,\n",
    "                                       class_weight='balanced')\n",
    "    model_dtc_bal.fit(features_train, target_train)\n",
    "    predicted_dtc_bal = model_dtc_bal.predict(features_valid)\n",
    "    dtc_f1_bal = f1_score(target_valid, predicted_dtc_bal)\n",
    "    if dtc_f1_bal > best_f1_dtc_bal:\n",
    "        best_f1_dtc_bal = dtc_f1_bal\n",
    "        best_depth_dtc_bal = depth\n",
    "        \n",
    "print(\"Лучшее значение f1:\", best_f1_dtc_bal)\n",
    "print(\"Лучшая глубина дерева:\", best_depth_dtc_bal)"
   ]
  },
  {
   "cell_type": "code",
   "execution_count": 83,
   "metadata": {},
   "outputs": [
    {
     "name": "stdout",
     "output_type": "stream",
     "text": [
      "Значение AUC-ROC для лучшей сбалансированной модели DTC: 0.8233269595526653\n"
     ]
    }
   ],
   "source": [
    "# Посмотрим значение AUC-ROC для лучшей сбалансированной модели решающего дерева\n",
    "\n",
    "model_dtc_bal = DecisionTreeClassifier(max_depth=6, random_state=12345,\n",
    "                                       class_weight='balanced')\n",
    "model_dtc_bal.fit(features_train, target_train)\n",
    "probabilities_valid = model_dtc_bal.predict_proba(features_valid)\n",
    "probabilities_one_valid = probabilities_valid[:, 1]\n",
    "\n",
    "auc_roc_dtc_bal = roc_auc_score(target_valid, probabilities_one_valid )\n",
    "print(\"Значение AUC-ROC для лучшей сбалансированной модели DTC:\", auc_roc_dtc_bal)"
   ]
  },
  {
   "cell_type": "code",
   "execution_count": 84,
   "metadata": {},
   "outputs": [
    {
     "name": "stdout",
     "output_type": "stream",
     "text": [
      "Лучшее значение f1: 0.6485260770975056\n",
      "Лучшее количество деревьев: 15\n",
      "Лучшая глубина дерева: 9\n"
     ]
    }
   ],
   "source": [
    "# Модель случайного леса\n",
    "\n",
    "best_f1_rfc_bal = 0\n",
    "best_est_bal = 0\n",
    "best_depth_rfc_bal = 0\n",
    "\n",
    "for est in range(1,20,1):\n",
    "    for depth in range(1,10,1):\n",
    "        model_rfc_bal = RandomForestClassifier(max_depth=depth, n_estimators=est,\n",
    "                                               class_weight='balanced', random_state=12345)\n",
    "        model_rfc_bal.fit(features_train, target_train)\n",
    "        predicted_rfc_bal = model_rfc_bal.predict(features_valid)\n",
    "        rfc_f1_bal = f1_score(target_valid, predicted_rfc_bal)\n",
    "        if rfc_f1_bal > best_f1_rfc_bal:\n",
    "            best_f1_rfc_bal = rfc_f1_bal\n",
    "            best_est_bal = est\n",
    "            best_depth_rfc_bal = depth\n",
    "        \n",
    "print(\"Лучшее значение f1:\", best_f1_rfc_bal)\n",
    "print(\"Лучшее количество деревьев:\", best_est_bal)\n",
    "print(\"Лучшая глубина дерева:\", best_depth_rfc_bal)"
   ]
  },
  {
   "cell_type": "code",
   "execution_count": 85,
   "metadata": {},
   "outputs": [
    {
     "name": "stdout",
     "output_type": "stream",
     "text": [
      "Значение AUC-ROC Лучшей несбалансированной модели RFC: 0.8696854369888659\n"
     ]
    }
   ],
   "source": [
    "# Посмотрим значение AUC-ROC для лучшей сбалансированной модели случайного леса\n",
    "\n",
    "model_rfc_bal = RandomForestClassifier(max_depth=9, class_weight='balanced',\n",
    "                                           n_estimators=15, random_state=12345)\n",
    "model_rfc_bal.fit(features_train, target_train)\n",
    "probabilities_valid = model_rfc_bal.predict_proba(features_valid)\n",
    "probabilities_one_valid = probabilities_valid[:, 1]\n",
    "\n",
    "auc_roc_rfc_bal = roc_auc_score(target_valid, probabilities_one_valid )\n",
    "print(\"Значение AUC-ROC Лучшей несбалансированной модели RFC:\", auc_roc_rfc_bal)"
   ]
  },
  {
   "cell_type": "code",
   "execution_count": 86,
   "metadata": {},
   "outputs": [],
   "source": [
    "# Модель логистической регрессии\n",
    "\n",
    "#model_lr_bal = LogisticRegression(solver='liblinear', class_weight='balanced',\n",
    "                                  #random_state=12345) \n",
    "#model_lr_bal.fit(features_train, target_train) \n",
    "#predicted_lr_bal = model_lr_bal.predict(features_valid)\n",
    "\n",
    "#probabilities_valid = model_lr_bal.predict_proba(features_valid)\n",
    "#probabilities_one_valid = probabilities_valid[:, 1]\n",
    "\n",
    "#auc_roc_lr_bal = roc_auc_score(target_valid, probabilities_one_valid )\n",
    "\n",
    "#print('Значение f1 для сбалансированной модели логистической регрессии:',\n",
    "      #f1_score(target_valid, predicted_lr_bal))\n",
    "#print(\"Значение AUC-ROC:\", auc_roc_lr_bal)"
   ]
  },
  {
   "cell_type": "markdown",
   "metadata": {},
   "source": [
    "Значение F1 у модели решающего дерева стало хуже после балансировки весов классов, а у моделей случайного леса  показатель F1 заметно улучшился."
   ]
  },
  {
   "cell_type": "code",
   "execution_count": 87,
   "metadata": {},
   "outputs": [],
   "source": [
    "# Применим технику upsampling и потом обучим наши модели на этих данных\n",
    "\n",
    "#def upsample(features, target, repeat):\n",
    "    #features_zeros = features[target == 0]\n",
    "    #features_ones = features[target == 1]\n",
    "    #target_zeros = target[target == 0]\n",
    "    #target_ones = target[target == 1]\n",
    "\n",
    "    #features_upsampled = pd.concat([features_zeros] + [features_ones] * repeat)\n",
    "    #target_upsampled = pd.concat([target_zeros] + [target_ones] * repeat)\n",
    "    \n",
    "    #features_upsampled, target_upsampled = shuffle(\n",
    "        #features_upsampled, target_upsampled, random_state=12345)\n",
    "    \n",
    "    #return features_upsampled, target_upsampled\n",
    "\n",
    "#features_upsampled, target_upsampled = upsample(features_train, target_train, 4)"
   ]
  },
  {
   "cell_type": "code",
   "execution_count": 88,
   "metadata": {},
   "outputs": [],
   "source": [
    "# Применим технику upsampling и потом обучим наши модели на этих данных\n",
    "\n",
    "oversample = SMOTE(random_state=12345, k_neighbors=4)\n",
    "\n",
    "features_upsampled, target_upsampled = oversample.fit_resample(features_train, target_train)"
   ]
  },
  {
   "cell_type": "code",
   "execution_count": 89,
   "metadata": {},
   "outputs": [
    {
     "name": "stdout",
     "output_type": "stream",
     "text": [
      "Лучшее значение f1: 0.6025369978858351\n",
      "Лучшая глубина дерева: 7\n"
     ]
    }
   ],
   "source": [
    "# Модель решающего дерева\n",
    "\n",
    "best_f1_dtc_up = 0\n",
    "best_depth_dtc_up = 0\n",
    "\n",
    "for depth in range(1,10,1):\n",
    "    model_dtc_up = DecisionTreeClassifier(max_depth=depth, random_state=12345)\n",
    "    model_dtc_up.fit(features_upsampled, target_upsampled)\n",
    "    predicted_dtc_up = model_dtc_up.predict(features_valid)\n",
    "    dtc_f1_up = f1_score(target_valid, predicted_dtc_up)\n",
    "    if dtc_f1_up > best_f1_dtc_up:\n",
    "        best_f1_dtc_up = dtc_f1_up\n",
    "        best_depth_dtc_up = depth\n",
    "        \n",
    "print(\"Лучшее значение f1:\", best_f1_dtc_up)\n",
    "print(\"Лучшая глубина дерева:\", best_depth_dtc_up)"
   ]
  },
  {
   "cell_type": "code",
   "execution_count": 90,
   "metadata": {},
   "outputs": [
    {
     "name": "stdout",
     "output_type": "stream",
     "text": [
      "Значение AUC-ROC для лучшей увеличенной модели DTC: 0.8424398339737905\n"
     ]
    }
   ],
   "source": [
    "# Посмотрим значение AUC-ROC для лучшей увеличенной модели решающего дерева\n",
    "\n",
    "model_dtc_up = DecisionTreeClassifier(max_depth=7, random_state=12345)\n",
    "model_dtc_up.fit(features_upsampled, target_upsampled)\n",
    "probabilities_valid = model_dtc_up.predict_proba(features_valid)\n",
    "probabilities_one_valid = probabilities_valid[:, 1]\n",
    "\n",
    "auc_roc_dtc_up = roc_auc_score(target_valid, probabilities_one_valid )\n",
    "print(\"Значение AUC-ROC для лучшей увеличенной модели DTC:\", auc_roc_dtc_up)"
   ]
  },
  {
   "cell_type": "code",
   "execution_count": 91,
   "metadata": {},
   "outputs": [
    {
     "name": "stdout",
     "output_type": "stream",
     "text": [
      "Лучшее значение f1: 0.6498353457738748\n",
      "Лучшее количество деревьев: 18\n",
      "Лучшая глубина дерева: 8\n"
     ]
    }
   ],
   "source": [
    "# Модель случайного леса\n",
    "\n",
    "best_f1_rfc_up = 0\n",
    "best_est_up = 0\n",
    "best_depth_rfc_up = 0\n",
    "\n",
    "for est in range(1,20,1):\n",
    "    for depth in range(1,10,1):\n",
    "        model_rfc_up = RandomForestClassifier(max_depth=depth, n_estimators=est,\n",
    "                                               random_state=12345)\n",
    "        model_rfc_up.fit(features_upsampled, target_upsampled)\n",
    "        predicted_rfc_up = model_rfc_up.predict(features_valid)\n",
    "        rfc_f1_up = f1_score(target_valid, predicted_rfc_up)\n",
    "        if rfc_f1_up > best_f1_rfc_up:\n",
    "            best_f1_rfc_up = rfc_f1_up\n",
    "            best_est_up = est\n",
    "            best_depth_rfc_up = depth\n",
    "        \n",
    "print(\"Лучшее значение f1:\", best_f1_rfc_up)\n",
    "print(\"Лучшее количество деревьев:\", best_est_up)\n",
    "print(\"Лучшая глубина дерева:\", best_depth_rfc_up)"
   ]
  },
  {
   "cell_type": "code",
   "execution_count": 92,
   "metadata": {},
   "outputs": [
    {
     "name": "stdout",
     "output_type": "stream",
     "text": [
      "Значение AUC-ROC Лучшей увеличенной модели RFC: 0.8610323369297469\n"
     ]
    }
   ],
   "source": [
    "# Посмотрим значение AUC-ROC для лучшей увеличеной модели случайного леса\n",
    "\n",
    "model_rfc_up = RandomForestClassifier(max_depth=8,\n",
    "                                           n_estimators=18, random_state=12345)\n",
    "model_rfc_up.fit(features_upsampled, target_upsampled)\n",
    "probabilities_valid = model_rfc_up.predict_proba(features_valid)\n",
    "probabilities_one_valid = probabilities_valid[:, 1]\n",
    "\n",
    "auc_roc_rfc_up = roc_auc_score(target_valid, probabilities_one_valid )\n",
    "print(\"Значение AUC-ROC Лучшей увеличенной модели RFC:\", auc_roc_rfc_up)"
   ]
  },
  {
   "cell_type": "code",
   "execution_count": 93,
   "metadata": {},
   "outputs": [],
   "source": [
    "# Модель логистической регрессии\n",
    "\n",
    "#model_lr_up = LogisticRegression(solver='liblinear', random_state=12345) \n",
    "#model_lr_up.fit(features_upsampled, target_upsampled) \n",
    "#predicted_lr_up = model_lr_up.predict(features_valid)\n",
    "\n",
    "#probabilities_valid = model_lr_up.predict_proba(features_valid)\n",
    "#probabilities_one_valid = probabilities_valid[:, 1]\n",
    "\n",
    "#auc_roc_lr_up = roc_auc_score(target_valid, probabilities_one_valid )\n",
    "\n",
    "#print('Значение f1 для увеличенной выборки модели логистической регрессии:',\n",
    "      #f1_score(target_valid, predicted_lr_up))\n",
    "#print(\"Значение AUC-ROC:\", auc_roc_lr_up)"
   ]
  },
  {
   "cell_type": "code",
   "execution_count": 94,
   "metadata": {},
   "outputs": [],
   "source": [
    "# Применим технику downsampling и обучим наши модели на этих данных\n",
    "\n",
    "#def downsample(features, target, fraction):\n",
    "    #features_zeros = features[target == 0]\n",
    "    #features_ones = features[target == 1]\n",
    "    #target_zeros = target[target == 0]\n",
    "    #target_ones = target[target == 1]\n",
    "\n",
    "    #features_downsampled = pd.concat(\n",
    "        #[features_zeros.sample(frac=fraction, random_state=12345)] + [features_ones])\n",
    "    #target_downsampled = pd.concat(\n",
    "        #[target_zeros.sample(frac=fraction, random_state=12345)] + [target_ones])\n",
    "    \n",
    "    #features_downsampled, target_downsampled = shuffle(\n",
    "        #features_downsampled, target_downsampled, random_state=12345)\n",
    "    \n",
    "    #return features_downsampled, target_downsampled\n",
    "\n",
    "#features_downsampled, target_downsampled = downsample(features_train, target_train, 0.25)"
   ]
  },
  {
   "cell_type": "code",
   "execution_count": 95,
   "metadata": {},
   "outputs": [],
   "source": [
    "# Применим технику downsampling и обучим наши модели на этих данных\n",
    "\n",
    "rus = RandomUnderSampler(random_state=12345)\n",
    "\n",
    "features_downsampled, target_downsampled = rus.fit_resample(features_train, target_train)"
   ]
  },
  {
   "cell_type": "code",
   "execution_count": 96,
   "metadata": {},
   "outputs": [
    {
     "name": "stdout",
     "output_type": "stream",
     "text": [
      "Лучшее значение f1: 0.597918637653737\n",
      "Лучшая глубина дерева: 6\n"
     ]
    }
   ],
   "source": [
    "# Модель решающего дерева\n",
    "\n",
    "best_f1_dtc_down = 0\n",
    "best_depth_dtc_down = 0\n",
    "\n",
    "for depth in range(1,10,1):\n",
    "    model_dtc_down = DecisionTreeClassifier(max_depth=depth, random_state=12345)\n",
    "    model_dtc_down.fit(features_downsampled, target_downsampled)\n",
    "    predicted_dtc_down = model_dtc_down.predict(features_valid)\n",
    "    dtc_f1_down = f1_score(target_valid, predicted_dtc_down)\n",
    "    if dtc_f1_down > best_f1_dtc_down:\n",
    "        best_f1_dtc_down = dtc_f1_down\n",
    "        best_depth_dtc_down = depth\n",
    "        \n",
    "print(\"Лучшее значение f1:\", best_f1_dtc_down)\n",
    "print(\"Лучшая глубина дерева:\", best_depth_dtc_down)"
   ]
  },
  {
   "cell_type": "code",
   "execution_count": 97,
   "metadata": {},
   "outputs": [
    {
     "name": "stdout",
     "output_type": "stream",
     "text": [
      "Значение AUC-ROC для лучшей уменьшенной модели DTC: 0.8533414622130259\n"
     ]
    }
   ],
   "source": [
    "# Посмотрим значение AUC-ROC для лучшей уменьшенной модели решающего дерева\n",
    "\n",
    "model_dtc_down = DecisionTreeClassifier(max_depth=6, random_state=12345)\n",
    "model_dtc_down.fit(features_downsampled, target_downsampled)\n",
    "probabilities_valid = model_dtc_down.predict_proba(features_valid)\n",
    "probabilities_one_valid = probabilities_valid[:, 1]\n",
    "\n",
    "auc_roc_dtc_down = roc_auc_score(target_valid, probabilities_one_valid )\n",
    "print(\"Значение AUC-ROC для лучшей уменьшенной модели DTC:\", auc_roc_dtc_down)"
   ]
  },
  {
   "cell_type": "code",
   "execution_count": 98,
   "metadata": {},
   "outputs": [
    {
     "name": "stdout",
     "output_type": "stream",
     "text": [
      "Лучшее значение f1: 0.624630541871921\n",
      "Лучшее количество деревьев: 19\n",
      "Лучшая глубина дерева: 5\n"
     ]
    }
   ],
   "source": [
    "# Модель случайного леса\n",
    "\n",
    "best_f1_rfc_down = 0\n",
    "best_est_down = 0\n",
    "best_depth_rfc_down = 0\n",
    "\n",
    "for est in range(1,20,1):\n",
    "    for depth in range(1,10,1):\n",
    "        model_rfc_down = RandomForestClassifier(max_depth=depth, n_estimators=est,\n",
    "                                               random_state=12345)\n",
    "        model_rfc_down.fit(features_downsampled, target_downsampled)\n",
    "        predicted_rfc_down = model_rfc_down.predict(features_valid)\n",
    "        rfc_f1_down = f1_score(target_valid, predicted_rfc_down)\n",
    "        if rfc_f1_down > best_f1_rfc_down:\n",
    "            best_f1_rfc_down = rfc_f1_down\n",
    "            best_est_down = est\n",
    "            best_depth_rfc_down = depth\n",
    "        \n",
    "print(\"Лучшее значение f1:\", best_f1_rfc_down)\n",
    "print(\"Лучшее количество деревьев:\", best_est_down)\n",
    "print(\"Лучшая глубина дерева:\", best_depth_rfc_down)"
   ]
  },
  {
   "cell_type": "code",
   "execution_count": 99,
   "metadata": {},
   "outputs": [
    {
     "name": "stdout",
     "output_type": "stream",
     "text": [
      "Значение AUC-ROC Лучшей уменьшенной модели RFC: 0.8595628263868362\n"
     ]
    }
   ],
   "source": [
    "# Посмотрим значение AUC-ROC для лучшей уменьшенной модели случайного леса\n",
    "\n",
    "model_rfc_down = RandomForestClassifier(max_depth=5,\n",
    "                                           n_estimators=19, random_state=12345)\n",
    "model_rfc_down.fit(features_downsampled, target_downsampled)\n",
    "probabilities_valid = model_rfc_down.predict_proba(features_valid)\n",
    "probabilities_one_valid = probabilities_valid[:, 1]\n",
    "\n",
    "auc_roc_rfc_down = roc_auc_score(target_valid, probabilities_one_valid )\n",
    "print(\"Значение AUC-ROC Лучшей уменьшенной модели RFC:\", auc_roc_rfc_down)"
   ]
  },
  {
   "cell_type": "code",
   "execution_count": 100,
   "metadata": {},
   "outputs": [],
   "source": [
    "# Модель логистической регрессии\n",
    "\n",
    "#model_lr_down = LogisticRegression(solver='liblinear', random_state=12345) \n",
    "#model_lr_down.fit(features_downsampled, target_downsampled) \n",
    "#predicted_lr_down = model_lr_down.predict(features_valid)\n",
    "\n",
    "#probabilities_valid = model_lr_down.predict_proba(features_valid)\n",
    "#probabilities_one_valid = probabilities_valid[:, 1]\n",
    "\n",
    "#auc_roc_lr_down = roc_auc_score(target_valid, probabilities_one_valid )\n",
    "\n",
    "#print('Значение f1 для уменьшенной выборки модели логистической регрессии:',\n",
    "      #f1_score(target_valid, predicted_lr_down))\n",
    "#print(\"Значение AUC-ROC:\", auc_roc_lr_down)"
   ]
  },
  {
   "cell_type": "markdown",
   "metadata": {},
   "source": [
    "Значение F1 у модели решающего дерева стало лучше, чем после техники *upsampling*. У модели случайного леса ухудшилось. "
   ]
  },
  {
   "cell_type": "code",
   "execution_count": 101,
   "metadata": {},
   "outputs": [
    {
     "name": "stdout",
     "output_type": "stream",
     "text": [
      "Значения F1 по всем моделям:\n",
      "                   Модель  Дисбаланс  Автобаланс  Upsampling  Downsampling\n",
      "0  DecisionTreeClassifier    0.59249     0.57593     0.60254       0.59792\n",
      "1  RandomForestClassifier    0.60363     0.64853     0.64984       0.62463\n",
      "\n",
      "Значения AUC-ROC по всем моделям:\n",
      "                   Модель  Дисбаланс  Автобаланс  Upsampling  Downsampling\n",
      "0  DecisionTreeClassifier    0.82304     0.82333     0.84244       0.85334\n",
      "1  RandomForestClassifier    0.81423     0.86969     0.86103       0.85956\n"
     ]
    }
   ],
   "source": [
    "# Сделаем для наглядности таблицу со всеми полученными результатами F1\n",
    "\n",
    "table_f1 = pd.DataFrame([['DecisionTreeClassifier', best_f1_dtc, best_f1_dtc_bal,\n",
    "                         best_f1_dtc_up, best_f1_dtc_down],\n",
    "                         \n",
    "                         ['RandomForestClassifier', best_f1_rfc, best_f1_rfc_bal,\n",
    "                         best_f1_rfc_up, best_f1_rfc_down]],\n",
    "                         \n",
    "                         #['LogisticRegression', f1_score(target_valid, predicted_lr),\n",
    "                         #f1_score(target_valid, predicted_lr_bal),\n",
    "                         #f1_score(target_valid, predicted_lr_up),\n",
    "                         #f1_score(target_valid, predicted_lr_down)]],\n",
    "                        \n",
    "                        columns=['Модель', 'Дисбаланс', 'Автобаланс',\n",
    "                                 'Upsampling', 'Downsampling'])\n",
    "\n",
    "# Сделаем для наглядности таблицу со всеми полученными результатами AUC-ROC\n",
    "\n",
    "table_auc_roc = pd.DataFrame([['DecisionTreeClassifier', auc_roc_dtc, auc_roc_dtc_bal,\n",
    "                         auc_roc_dtc_up, auc_roc_dtc_down],\n",
    "                         \n",
    "                         ['RandomForestClassifier', auc_roc_rfc, auc_roc_rfc_bal,\n",
    "                         auc_roc_rfc_up, auc_roc_rfc_down]],\n",
    "                         \n",
    "                         #['LogisticRegression', auc_roc_lr, auc_roc_lr_bal,\n",
    "                         #auc_roc_lr_up, auc_roc_lr_down]],\n",
    "                        \n",
    "                        columns=['Модель', 'Дисбаланс', 'Автобаланс',\n",
    "                                 'Upsampling', 'Downsampling'])\n",
    "\n",
    "\n",
    "print('Значения F1 по всем моделям:')\n",
    "print(table_f1)\n",
    "print()\n",
    "print('Значения AUC-ROC по всем моделям:')\n",
    "print(table_auc_roc)"
   ]
  },
  {
   "cell_type": "markdown",
   "metadata": {},
   "source": [
    "**Вывод:**\n",
    "\n",
    "Мы проработали данные на разных моделях как без учета дисбаланса классов, так и с последующим выравниванием баланса различными техниками. Модель случайного леса выдала лучшие показатели метрики F1 как при существующем дисбалансе классов, так и после балансировки классов различными методами. Что же касается модели логистической регрессии, то у нее напротив, метрика F1 самая низкая в любых вариантах.  \n",
    "В результате всех исследований, самый высокий показатель `F1 =  0.64984` получился у модели `RandomForestClassifier` (случайный лес)  при увеличенной выборке. "
   ]
  },
  {
   "cell_type": "markdown",
   "metadata": {},
   "source": [
    "## Тестирование модели"
   ]
  },
  {
   "cell_type": "code",
   "execution_count": 102,
   "metadata": {},
   "outputs": [
    {
     "name": "stdout",
     "output_type": "stream",
     "text": [
      "Значение f1 для тестовой выборки модели случайного леса: 0.5917686318131257\n",
      "Значение AUC-ROC: 0.849470425741612\n"
     ]
    }
   ],
   "source": [
    "# Проведем тестирование лучшей модели на тестовой выборке\n",
    "# Добавим параметр max_leaf_nodes\n",
    "model_rfc_best = RandomForestClassifier(max_depth=8, max_leaf_nodes=90, n_estimators=18, random_state=12345)\n",
    "model_rfc_best.fit(features_upsampled, target_upsampled)\n",
    "predicted_rfc_best = model_rfc_best.predict(features_test)\n",
    "\n",
    "probabilities_test = model_rfc_best.predict_proba(features_test)\n",
    "probabilities_one_test = probabilities_test[:, 1]\n",
    "\n",
    "fpr_rfc_best,tpr_rfc_best,thresholds=roc_curve(target_test, probabilities_one_test)\n",
    "\n",
    "auc_roc_test = roc_auc_score(target_test, probabilities_one_test)\n",
    "\n",
    "print('Значение f1 для тестовой выборки модели случайного леса:',\n",
    "      f1_score(target_test, predicted_rfc_best))\n",
    "print(\"Значение AUC-ROC:\", auc_roc_test)"
   ]
  },
  {
   "cell_type": "code",
   "execution_count": 103,
   "metadata": {},
   "outputs": [
    {
     "data": {
      "text/plain": [
       "<Figure size 640x480 with 0 Axes>"
      ]
     },
     "metadata": {},
     "output_type": "display_data"
    },
    {
     "data": {
      "image/png": "[encoded data removed]",
      "text/plain": [
       "<Figure size 1000x700 with 1 Axes>"
      ]
     },
     "metadata": {},
     "output_type": "display_data"
    }
   ],
   "source": [
    "# Построим график ROC-кривой для лучшей модели\n",
    "\n",
    "plt.figure()\n",
    "\n",
    "plt.figure(figsize=(10,7))\n",
    "plt.plot([0, 1], [0, 1], linestyle='--')\n",
    "plt.xlim([0.0, 1.0])\n",
    "plt.ylim([0.0, 1.0])\n",
    "plt.plot(fpr_rfc_best,tpr_rfc_best)\n",
    "plt.xlabel('False Positive Rate')\n",
    "plt.ylabel('True Positive Rate')\n",
    "plt.title('ROC-кривая')\n",
    "plt.legend(('Случайная модель','Модель Случайный лес'),\n",
    "           loc= 'upper left') \n",
    "plt.show()"
   ]
  },
  {
   "cell_type": "code",
   "execution_count": 104,
   "metadata": {},
   "outputs": [
    {
     "data": {
      "text/plain": [
       "0.3381803074366431"
      ]
     },
     "execution_count": 104,
     "metadata": {},
     "output_type": "execute_result"
    }
   ],
   "source": [
    "dummy_model = DummyClassifier(strategy='constant', constant=1)\n",
    "dummy_model.fit(features_train, target_train)\n",
    "f1_score(dummy_model.predict(features_test), target_test)"
   ]
  },
  {
   "cell_type": "code",
   "execution_count": 105,
   "metadata": {},
   "outputs": [
    {
     "data": {
      "text/plain": [
       "0.6535626535626535"
      ]
     },
     "execution_count": 105,
     "metadata": {},
     "output_type": "execute_result"
    }
   ],
   "source": [
    "recall_score(target_test, predicted_rfc_best)"
   ]
  },
  {
   "cell_type": "markdown",
   "metadata": {},
   "source": [
    "**Вывод:**\n",
    "В результате тестирования модели, которая показала лучшие результат при обучении, мы получили значения `F1 = 0.6097560975609757` и `AUC-ROC = 0.8495660529558835`. Эти показатели соответствуют поставленным задачам этого проекта, хотя очевидно, что наша модель имеет признаки переобучения.\n",
    "`Recall` или доля клиентов на отток, которых наша модель правильно детектирует, составляет `0.6756756756756757`, что тоже неплохо\n"
   ]
  },
  {
   "cell_type": "markdown",
   "metadata": {},
   "source": [
    "## Общий вывод"
   ]
  },
  {
   "cell_type": "markdown",
   "metadata": {},
   "source": [
    "   Для решения поставленного в начале проекта вопроса, а именно, спрогнозировать уйдет ли клиент в ближайшее время из банка или нет, мы исследовали разные модели машинного обуения. В данных, предоставленных банком, присутствует явный дисбаланс классов. Отношение положительных к отрицательным составляет 1:4. Поэтому были применены разные методы балансировки классов: автобалансировка с помощью гиперпараметра *'balanced'*, увеличение доли объектов редкого класса методом *'upsampling'*, уменьшение выборки методом *'downsampling'*. Также были исследованы модели, обученные при имеющемся дисбалансе классов.\n",
    " \n",
    "   Наилучшие значения показателя F1 (агрегирующей метрики, отражающей среднее гармоническое полноты и точности) показала модель случайного леса. F1 этой модели в сравнении с другими, был выше независимо от выбора метода обучения. Максимальное значение F1 = 0.64984 было у модели случайного леса с увеличенной выборкой.\n",
    " \n",
    "   На тестировании модель выдала значения `F1 = 0.6097560975609757` и `AUC-ROC = 0.8495660529558835`. Эти показатели соответствуют поставленным задачам этого проекта, хотя очевидно, что наша модель имеет признаки переобучения. Также мы посчитали метрику `Recall`(полноту), она составляет `0.6756756756756757` и отражает долю клиентов на отток, которых наша модель правильно детектирует."
   ]
  },
  {
   "cell_type": "markdown",
   "metadata": {},
   "source": [
    "## Чек-лист готовности проекта"
   ]
  },
  {
   "cell_type": "markdown",
   "metadata": {},
   "source": [
    "Поставьте 'x' в выполненных пунктах. Далее нажмите Shift+Enter."
   ]
  },
  {
   "cell_type": "markdown",
   "metadata": {},
   "source": [
    "- [x]  Jupyter Notebook открыт\n",
    "- [x]  Весь код выполняется без ошибок\n",
    "- [x]  Ячейки с кодом расположены в порядке исполнения\n",
    "- [x]  Выполнен шаг 1: данные подготовлены\n",
    "- [x]  Выполнен шаг 2: задача исследована\n",
    "    - [x]  Исследован баланс классов\n",
    "    - [x]  Изучены модели без учёта дисбаланса\n",
    "    - [x]  Написаны выводы по результатам исследования\n",
    "- [x]  Выполнен шаг 3: учтён дисбаланс\n",
    "    - [x]  Применено несколько способов борьбы с дисбалансом\n",
    "    - [x]  Написаны выводы по результатам исследования\n",
    "- [x]  Выполнен шаг 4: проведено тестирование\n",
    "- [x]  Удалось достичь *F1*-меры не менее 0.59\n",
    "- [x]  Исследована метрика *AUC-ROC*"
   ]
  },
  {
   "cell_type": "code",
   "execution_count": null,
   "metadata": {},
   "outputs": [],
   "source": []
  }
 ],
 "metadata": {
  "ExecuteTimeLog": [
   {
    "duration": 1156,
    "start_time": "2023-07-10T17:36:55.488Z"
   },
   {
    "duration": 185,
    "start_time": "2023-07-10T17:38:11.019Z"
   },
   {
    "duration": 6,
    "start_time": "2023-07-10T17:41:53.618Z"
   },
   {
    "duration": 14,
    "start_time": "2023-07-10T17:42:56.650Z"
   },
   {
    "duration": 8,
    "start_time": "2023-07-10T17:45:57.387Z"
   },
   {
    "duration": 6,
    "start_time": "2023-07-10T17:46:35.918Z"
   },
   {
    "duration": 105,
    "start_time": "2023-07-10T17:52:23.792Z"
   },
   {
    "duration": 12,
    "start_time": "2023-07-10T17:52:37.803Z"
   },
   {
    "duration": 21,
    "start_time": "2023-07-10T17:55:51.964Z"
   },
   {
    "duration": 24,
    "start_time": "2023-07-10T17:56:29.309Z"
   },
   {
    "duration": 7,
    "start_time": "2023-07-10T17:57:38.548Z"
   },
   {
    "duration": 9,
    "start_time": "2023-07-10T17:58:32.273Z"
   },
   {
    "duration": 7,
    "start_time": "2023-07-10T18:18:54.932Z"
   },
   {
    "duration": 21,
    "start_time": "2023-07-10T18:41:36.857Z"
   },
   {
    "duration": 3,
    "start_time": "2023-07-10T19:56:07.403Z"
   },
   {
    "duration": 58,
    "start_time": "2023-07-10T19:56:07.408Z"
   },
   {
    "duration": 5,
    "start_time": "2023-07-10T19:56:07.468Z"
   },
   {
    "duration": 17,
    "start_time": "2023-07-10T19:56:07.474Z"
   },
   {
    "duration": 6,
    "start_time": "2023-07-10T19:56:07.493Z"
   },
   {
    "duration": 5,
    "start_time": "2023-07-10T19:56:07.501Z"
   },
   {
    "duration": 23,
    "start_time": "2023-07-10T19:56:07.507Z"
   },
   {
    "duration": 238,
    "start_time": "2023-07-10T19:56:07.532Z"
   },
   {
    "duration": 797,
    "start_time": "2023-07-10T19:57:07.900Z"
   },
   {
    "duration": 147,
    "start_time": "2023-07-10T19:57:54.247Z"
   },
   {
    "duration": 4,
    "start_time": "2023-07-10T20:08:49.173Z"
   },
   {
    "duration": 36,
    "start_time": "2023-07-10T20:09:19.661Z"
   },
   {
    "duration": 13,
    "start_time": "2023-07-10T20:10:09.597Z"
   },
   {
    "duration": 113,
    "start_time": "2023-07-10T20:12:02.250Z"
   },
   {
    "duration": 24,
    "start_time": "2023-07-10T20:12:34.715Z"
   },
   {
    "duration": 3,
    "start_time": "2023-07-10T20:15:06.943Z"
   },
   {
    "duration": 51,
    "start_time": "2023-07-10T20:15:06.948Z"
   },
   {
    "duration": 12,
    "start_time": "2023-07-10T20:15:07.001Z"
   },
   {
    "duration": 23,
    "start_time": "2023-07-10T20:15:07.015Z"
   },
   {
    "duration": 66,
    "start_time": "2023-07-10T20:15:07.040Z"
   },
   {
    "duration": 13,
    "start_time": "2023-07-10T20:15:07.108Z"
   },
   {
    "duration": 28,
    "start_time": "2023-07-10T20:15:07.123Z"
   },
   {
    "duration": 4,
    "start_time": "2023-07-10T20:15:07.157Z"
   },
   {
    "duration": 14,
    "start_time": "2023-07-10T20:15:07.163Z"
   },
   {
    "duration": 13,
    "start_time": "2023-07-10T20:15:07.179Z"
   },
   {
    "duration": 28,
    "start_time": "2023-07-10T20:15:07.193Z"
   },
   {
    "duration": 219,
    "start_time": "2023-07-10T20:15:07.223Z"
   },
   {
    "duration": 85,
    "start_time": "2023-07-10T20:15:07.443Z"
   },
   {
    "duration": 4,
    "start_time": "2023-07-10T20:21:31.314Z"
   },
   {
    "duration": 92,
    "start_time": "2023-07-10T20:21:31.321Z"
   },
   {
    "duration": 12,
    "start_time": "2023-07-10T20:21:31.415Z"
   },
   {
    "duration": 74,
    "start_time": "2023-07-10T20:21:31.429Z"
   },
   {
    "duration": 28,
    "start_time": "2023-07-10T20:21:31.504Z"
   },
   {
    "duration": 39,
    "start_time": "2023-07-10T20:21:31.534Z"
   },
   {
    "duration": 6,
    "start_time": "2023-07-10T20:21:31.576Z"
   },
   {
    "duration": 54,
    "start_time": "2023-07-10T20:21:31.584Z"
   },
   {
    "duration": 208,
    "start_time": "2023-07-10T20:21:31.640Z"
   },
   {
    "duration": 149,
    "start_time": "2023-07-10T20:21:31.850Z"
   },
   {
    "duration": 1208,
    "start_time": "2023-07-11T18:05:22.376Z"
   },
   {
    "duration": 114,
    "start_time": "2023-07-11T18:05:23.592Z"
   },
   {
    "duration": 14,
    "start_time": "2023-07-11T18:05:23.708Z"
   },
   {
    "duration": 55,
    "start_time": "2023-07-11T18:05:23.724Z"
   },
   {
    "duration": 17,
    "start_time": "2023-07-11T18:05:23.783Z"
   },
   {
    "duration": 27,
    "start_time": "2023-07-11T18:05:23.802Z"
   },
   {
    "duration": 24,
    "start_time": "2023-07-11T18:05:23.831Z"
   },
   {
    "duration": 232,
    "start_time": "2023-07-11T18:05:23.861Z"
   },
   {
    "duration": 177,
    "start_time": "2023-07-11T18:05:24.096Z"
   },
   {
    "duration": 846,
    "start_time": "2023-07-11T18:06:02.919Z"
   },
   {
    "duration": 5,
    "start_time": "2023-07-11T19:54:17.679Z"
   },
   {
    "duration": 3,
    "start_time": "2023-07-11T19:54:25.070Z"
   },
   {
    "duration": 50,
    "start_time": "2023-07-11T19:54:25.096Z"
   },
   {
    "duration": 20,
    "start_time": "2023-07-11T19:54:25.148Z"
   },
   {
    "duration": 57,
    "start_time": "2023-07-11T19:54:25.173Z"
   },
   {
    "duration": 12,
    "start_time": "2023-07-11T19:54:25.232Z"
   },
   {
    "duration": 40,
    "start_time": "2023-07-11T19:54:25.247Z"
   },
   {
    "duration": 15,
    "start_time": "2023-07-11T19:54:25.290Z"
   },
   {
    "duration": 30,
    "start_time": "2023-07-11T19:54:25.307Z"
   },
   {
    "duration": 78,
    "start_time": "2023-07-11T19:54:25.340Z"
   },
   {
    "duration": 11,
    "start_time": "2023-07-11T19:54:25.420Z"
   },
   {
    "duration": 4,
    "start_time": "2023-07-11T19:58:07.218Z"
   },
   {
    "duration": 9,
    "start_time": "2023-07-11T19:58:14.192Z"
   },
   {
    "duration": 9,
    "start_time": "2023-07-11T19:58:15.838Z"
   },
   {
    "duration": 4,
    "start_time": "2023-07-11T20:21:09.008Z"
   },
   {
    "duration": 64,
    "start_time": "2023-07-11T20:21:09.014Z"
   },
   {
    "duration": 13,
    "start_time": "2023-07-11T20:21:09.080Z"
   },
   {
    "duration": 37,
    "start_time": "2023-07-11T20:21:09.095Z"
   },
   {
    "duration": 41,
    "start_time": "2023-07-11T20:21:09.135Z"
   },
   {
    "duration": 44,
    "start_time": "2023-07-11T20:21:09.179Z"
   },
   {
    "duration": 9,
    "start_time": "2023-07-11T20:21:09.225Z"
   },
   {
    "duration": 5,
    "start_time": "2023-07-11T20:21:09.236Z"
   },
   {
    "duration": 17,
    "start_time": "2023-07-11T20:21:09.242Z"
   },
   {
    "duration": 23,
    "start_time": "2023-07-11T20:21:09.262Z"
   },
   {
    "duration": 20,
    "start_time": "2023-07-11T20:21:09.287Z"
   },
   {
    "duration": 22,
    "start_time": "2023-07-11T20:21:09.310Z"
   },
   {
    "duration": 3,
    "start_time": "2023-07-11T20:21:26.615Z"
   },
   {
    "duration": 66,
    "start_time": "2023-07-11T20:21:26.620Z"
   },
   {
    "duration": 12,
    "start_time": "2023-07-11T20:21:26.688Z"
   },
   {
    "duration": 45,
    "start_time": "2023-07-11T20:21:26.701Z"
   },
   {
    "duration": 27,
    "start_time": "2023-07-11T20:21:26.748Z"
   },
   {
    "duration": 29,
    "start_time": "2023-07-11T20:21:26.778Z"
   },
   {
    "duration": 7,
    "start_time": "2023-07-11T20:21:26.809Z"
   },
   {
    "duration": 7,
    "start_time": "2023-07-11T20:21:26.818Z"
   },
   {
    "duration": 18,
    "start_time": "2023-07-11T20:21:26.827Z"
   },
   {
    "duration": 24,
    "start_time": "2023-07-11T20:21:26.847Z"
   },
   {
    "duration": 19,
    "start_time": "2023-07-11T20:21:26.873Z"
   },
   {
    "duration": 11,
    "start_time": "2023-07-11T20:21:26.894Z"
   },
   {
    "duration": 4,
    "start_time": "2023-07-11T20:23:26.700Z"
   },
   {
    "duration": 3,
    "start_time": "2023-07-11T20:23:29.992Z"
   },
   {
    "duration": 66,
    "start_time": "2023-07-11T20:23:29.998Z"
   },
   {
    "duration": 15,
    "start_time": "2023-07-11T20:23:30.066Z"
   },
   {
    "duration": 53,
    "start_time": "2023-07-11T20:23:30.083Z"
   },
   {
    "duration": 12,
    "start_time": "2023-07-11T20:23:30.138Z"
   },
   {
    "duration": 51,
    "start_time": "2023-07-11T20:23:30.151Z"
   },
   {
    "duration": 6,
    "start_time": "2023-07-11T20:23:30.204Z"
   },
   {
    "duration": 26,
    "start_time": "2023-07-11T20:23:30.212Z"
   },
   {
    "duration": 16,
    "start_time": "2023-07-11T20:23:30.240Z"
   },
   {
    "duration": 26,
    "start_time": "2023-07-11T20:23:30.257Z"
   },
   {
    "duration": 36,
    "start_time": "2023-07-11T20:23:30.285Z"
   },
   {
    "duration": 16,
    "start_time": "2023-07-11T20:23:30.322Z"
   },
   {
    "duration": 5,
    "start_time": "2023-07-11T20:24:03.701Z"
   },
   {
    "duration": 65,
    "start_time": "2023-07-11T20:24:03.708Z"
   },
   {
    "duration": 16,
    "start_time": "2023-07-11T20:24:03.776Z"
   },
   {
    "duration": 63,
    "start_time": "2023-07-11T20:24:03.795Z"
   },
   {
    "duration": 13,
    "start_time": "2023-07-11T20:24:03.860Z"
   },
   {
    "duration": 31,
    "start_time": "2023-07-11T20:24:03.875Z"
   },
   {
    "duration": 7,
    "start_time": "2023-07-11T20:24:03.908Z"
   },
   {
    "duration": 7,
    "start_time": "2023-07-11T20:24:03.917Z"
   },
   {
    "duration": 18,
    "start_time": "2023-07-11T20:24:03.926Z"
   },
   {
    "duration": 19,
    "start_time": "2023-07-11T20:24:03.946Z"
   },
   {
    "duration": 20,
    "start_time": "2023-07-11T20:24:03.967Z"
   },
   {
    "duration": 10,
    "start_time": "2023-07-11T20:24:03.988Z"
   },
   {
    "duration": 4,
    "start_time": "2023-07-11T20:24:52.526Z"
   },
   {
    "duration": 80,
    "start_time": "2023-07-11T20:24:52.532Z"
   },
   {
    "duration": 13,
    "start_time": "2023-07-11T20:24:52.613Z"
   },
   {
    "duration": 48,
    "start_time": "2023-07-11T20:24:52.628Z"
   },
   {
    "duration": 12,
    "start_time": "2023-07-11T20:24:52.679Z"
   },
   {
    "duration": 25,
    "start_time": "2023-07-11T20:24:52.693Z"
   },
   {
    "duration": 32,
    "start_time": "2023-07-11T20:24:52.720Z"
   },
   {
    "duration": 33,
    "start_time": "2023-07-11T20:24:52.756Z"
   },
   {
    "duration": 102,
    "start_time": "2023-07-11T20:24:52.791Z"
   },
   {
    "duration": 32,
    "start_time": "2023-07-11T20:24:52.896Z"
   },
   {
    "duration": 33,
    "start_time": "2023-07-11T20:24:52.930Z"
   },
   {
    "duration": 11,
    "start_time": "2023-07-11T20:24:52.966Z"
   },
   {
    "duration": 97,
    "start_time": "2023-07-11T20:59:33.546Z"
   },
   {
    "duration": 28,
    "start_time": "2023-07-11T20:59:58.219Z"
   },
   {
    "duration": 19,
    "start_time": "2023-07-11T21:03:18.171Z"
   },
   {
    "duration": 12,
    "start_time": "2023-07-11T21:04:15.364Z"
   },
   {
    "duration": 18,
    "start_time": "2023-07-11T21:04:57.588Z"
   },
   {
    "duration": 13,
    "start_time": "2023-07-11T21:05:15.325Z"
   },
   {
    "duration": 11,
    "start_time": "2023-07-11T21:06:28.822Z"
   },
   {
    "duration": 12,
    "start_time": "2023-07-11T21:10:25.912Z"
   },
   {
    "duration": 14,
    "start_time": "2023-07-11T21:11:08.184Z"
   },
   {
    "duration": 4,
    "start_time": "2023-07-11T21:11:34.960Z"
   },
   {
    "duration": 3,
    "start_time": "2023-07-11T21:11:58.085Z"
   },
   {
    "duration": 4,
    "start_time": "2023-07-11T21:12:20.431Z"
   },
   {
    "duration": 12,
    "start_time": "2023-07-11T21:13:25.148Z"
   },
   {
    "duration": 4,
    "start_time": "2023-07-11T21:13:26.633Z"
   },
   {
    "duration": 4,
    "start_time": "2023-07-11T21:13:27.393Z"
   },
   {
    "duration": 7,
    "start_time": "2023-07-11T21:13:28.306Z"
   },
   {
    "duration": 119,
    "start_time": "2023-07-11T21:16:10.147Z"
   },
   {
    "duration": 4,
    "start_time": "2023-07-11T21:17:32.036Z"
   },
   {
    "duration": 4,
    "start_time": "2023-07-11T21:18:14.700Z"
   },
   {
    "duration": 4,
    "start_time": "2023-07-11T21:19:08.837Z"
   },
   {
    "duration": 1140,
    "start_time": "2023-07-12T18:42:30.235Z"
   },
   {
    "duration": 104,
    "start_time": "2023-07-12T18:42:31.377Z"
   },
   {
    "duration": 14,
    "start_time": "2023-07-12T18:42:31.482Z"
   },
   {
    "duration": 81,
    "start_time": "2023-07-12T18:42:31.499Z"
   },
   {
    "duration": 31,
    "start_time": "2023-07-12T18:42:31.582Z"
   },
   {
    "duration": 56,
    "start_time": "2023-07-12T18:42:31.614Z"
   },
   {
    "duration": 37,
    "start_time": "2023-07-12T18:42:31.672Z"
   },
   {
    "duration": 36,
    "start_time": "2023-07-12T18:42:31.710Z"
   },
   {
    "duration": 37,
    "start_time": "2023-07-12T18:42:31.748Z"
   },
   {
    "duration": 53,
    "start_time": "2023-07-12T18:42:31.788Z"
   },
   {
    "duration": 40,
    "start_time": "2023-07-12T18:42:31.843Z"
   },
   {
    "duration": 22,
    "start_time": "2023-07-12T18:42:31.885Z"
   },
   {
    "duration": 36,
    "start_time": "2023-07-12T18:42:31.908Z"
   },
   {
    "duration": 118,
    "start_time": "2023-07-12T18:46:35.137Z"
   },
   {
    "duration": 638,
    "start_time": "2023-07-12T18:47:49.384Z"
   },
   {
    "duration": 133,
    "start_time": "2023-07-12T18:49:28.563Z"
   },
   {
    "duration": 130,
    "start_time": "2023-07-12T18:50:17.100Z"
   },
   {
    "duration": 119,
    "start_time": "2023-07-12T18:50:34.093Z"
   },
   {
    "duration": 125,
    "start_time": "2023-07-12T18:52:58.500Z"
   },
   {
    "duration": 229,
    "start_time": "2023-07-12T18:54:08.813Z"
   },
   {
    "duration": 8,
    "start_time": "2023-07-12T19:03:04.966Z"
   },
   {
    "duration": 7,
    "start_time": "2023-07-12T19:05:29.693Z"
   },
   {
    "duration": 4,
    "start_time": "2023-07-12T19:07:01.225Z"
   },
   {
    "duration": 5,
    "start_time": "2023-07-12T19:07:35.957Z"
   },
   {
    "duration": 5,
    "start_time": "2023-07-12T19:10:08.047Z"
   },
   {
    "duration": 103,
    "start_time": "2023-07-12T19:10:28.711Z"
   },
   {
    "duration": 5,
    "start_time": "2023-07-12T19:10:47.927Z"
   },
   {
    "duration": 5,
    "start_time": "2023-07-12T19:11:39.688Z"
   },
   {
    "duration": 14,
    "start_time": "2023-07-12T19:52:17.801Z"
   },
   {
    "duration": 49,
    "start_time": "2023-07-12T19:53:25.801Z"
   },
   {
    "duration": 44,
    "start_time": "2023-07-12T19:53:40.697Z"
   },
   {
    "duration": 41,
    "start_time": "2023-07-12T19:53:56.331Z"
   },
   {
    "duration": 4,
    "start_time": "2023-07-12T19:54:50.932Z"
   },
   {
    "duration": 91,
    "start_time": "2023-07-12T19:54:50.938Z"
   },
   {
    "duration": 13,
    "start_time": "2023-07-12T19:54:51.031Z"
   },
   {
    "duration": 43,
    "start_time": "2023-07-12T19:54:51.046Z"
   },
   {
    "duration": 26,
    "start_time": "2023-07-12T19:54:51.090Z"
   },
   {
    "duration": 27,
    "start_time": "2023-07-12T19:54:51.118Z"
   },
   {
    "duration": 5,
    "start_time": "2023-07-12T19:54:51.147Z"
   },
   {
    "duration": 13,
    "start_time": "2023-07-12T19:54:51.154Z"
   },
   {
    "duration": 15,
    "start_time": "2023-07-12T19:54:51.168Z"
   },
   {
    "duration": 35,
    "start_time": "2023-07-12T19:54:51.186Z"
   },
   {
    "duration": 24,
    "start_time": "2023-07-12T19:54:51.223Z"
   },
   {
    "duration": 11,
    "start_time": "2023-07-12T19:54:51.249Z"
   },
   {
    "duration": 156,
    "start_time": "2023-07-12T19:54:51.262Z"
   },
   {
    "duration": 16,
    "start_time": "2023-07-12T19:54:51.419Z"
   },
   {
    "duration": 5,
    "start_time": "2023-07-12T19:54:51.436Z"
   },
   {
    "duration": 21,
    "start_time": "2023-07-12T19:54:51.443Z"
   },
   {
    "duration": 35,
    "start_time": "2023-07-12T19:54:51.466Z"
   },
   {
    "duration": 41,
    "start_time": "2023-07-12T19:54:51.503Z"
   },
   {
    "duration": 607,
    "start_time": "2023-07-12T19:55:59.203Z"
   },
   {
    "duration": 757,
    "start_time": "2023-07-12T19:56:41.411Z"
   },
   {
    "duration": 169,
    "start_time": "2023-07-12T20:04:35.400Z"
   },
   {
    "duration": 453,
    "start_time": "2023-07-12T20:04:44.790Z"
   },
   {
    "duration": 772,
    "start_time": "2023-07-12T20:04:54.887Z"
   },
   {
    "duration": 1540,
    "start_time": "2023-07-12T20:05:04.840Z"
   },
   {
    "duration": 7343,
    "start_time": "2023-07-12T20:05:26.722Z"
   },
   {
    "duration": 2204,
    "start_time": "2023-07-12T20:05:47.353Z"
   },
   {
    "duration": 40,
    "start_time": "2023-07-12T20:27:09.608Z"
   },
   {
    "duration": 474,
    "start_time": "2023-07-12T20:32:49.486Z"
   },
   {
    "duration": 10693,
    "start_time": "2023-07-12T20:38:51.252Z"
   },
   {
    "duration": 2376,
    "start_time": "2023-07-12T20:43:31.354Z"
   },
   {
    "duration": 4,
    "start_time": "2023-07-12T20:54:00.850Z"
   },
   {
    "duration": 152,
    "start_time": "2023-07-12T20:54:00.858Z"
   },
   {
    "duration": 68,
    "start_time": "2023-07-12T20:54:01.012Z"
   },
   {
    "duration": 113,
    "start_time": "2023-07-12T20:54:01.083Z"
   },
   {
    "duration": 56,
    "start_time": "2023-07-12T20:54:01.198Z"
   },
   {
    "duration": 87,
    "start_time": "2023-07-12T20:54:01.257Z"
   },
   {
    "duration": 30,
    "start_time": "2023-07-12T20:54:01.347Z"
   },
   {
    "duration": 57,
    "start_time": "2023-07-12T20:54:01.380Z"
   },
   {
    "duration": 49,
    "start_time": "2023-07-12T20:54:01.440Z"
   },
   {
    "duration": 65,
    "start_time": "2023-07-12T20:54:01.491Z"
   },
   {
    "duration": 71,
    "start_time": "2023-07-12T20:54:01.558Z"
   },
   {
    "duration": 54,
    "start_time": "2023-07-12T20:54:01.631Z"
   },
   {
    "duration": 158,
    "start_time": "2023-07-12T20:54:01.687Z"
   },
   {
    "duration": 14,
    "start_time": "2023-07-12T20:54:01.847Z"
   },
   {
    "duration": 35,
    "start_time": "2023-07-12T20:54:01.863Z"
   },
   {
    "duration": 49,
    "start_time": "2023-07-12T20:54:01.900Z"
   },
   {
    "duration": 84,
    "start_time": "2023-07-12T20:54:01.950Z"
   },
   {
    "duration": 579,
    "start_time": "2023-07-12T20:54:02.036Z"
   },
   {
    "duration": 2422,
    "start_time": "2023-07-12T20:54:02.618Z"
   },
   {
    "duration": 50050,
    "start_time": "2023-07-12T20:54:05.041Z"
   },
   {
    "duration": 11098,
    "start_time": "2023-07-12T20:56:20.744Z"
   },
   {
    "duration": 3074,
    "start_time": "2023-07-12T20:57:49.520Z"
   },
   {
    "duration": 6809,
    "start_time": "2023-07-12T20:58:18.893Z"
   },
   {
    "duration": 3268,
    "start_time": "2023-07-12T20:58:35.152Z"
   },
   {
    "duration": 3261,
    "start_time": "2023-07-12T21:07:57.166Z"
   },
   {
    "duration": 296,
    "start_time": "2023-07-12T21:10:18.226Z"
   },
   {
    "duration": 3309,
    "start_time": "2023-07-12T21:11:27.402Z"
   },
   {
    "duration": 3306,
    "start_time": "2023-07-12T21:11:55.598Z"
   },
   {
    "duration": 3285,
    "start_time": "2023-07-12T21:14:19.058Z"
   },
   {
    "duration": 3233,
    "start_time": "2023-07-12T21:18:43.420Z"
   },
   {
    "duration": 3236,
    "start_time": "2023-07-12T21:19:18.316Z"
   },
   {
    "duration": 3328,
    "start_time": "2023-07-12T21:23:48.815Z"
   },
   {
    "duration": 3338,
    "start_time": "2023-07-12T21:25:28.719Z"
   },
   {
    "duration": 2252,
    "start_time": "2023-07-12T21:25:46.928Z"
   },
   {
    "duration": 3264,
    "start_time": "2023-07-12T21:25:59.497Z"
   },
   {
    "duration": 36244,
    "start_time": "2023-07-12T21:26:29.536Z"
   },
   {
    "duration": 9528,
    "start_time": "2023-07-12T21:27:31.833Z"
   },
   {
    "duration": 125337,
    "start_time": "2023-07-12T21:29:38.642Z"
   },
   {
    "duration": 68193,
    "start_time": "2023-07-12T21:35:25.354Z"
   },
   {
    "duration": 15957,
    "start_time": "2023-07-12T21:37:15.835Z"
   },
   {
    "duration": 7956,
    "start_time": "2023-07-12T21:37:40.406Z"
   },
   {
    "duration": 7988,
    "start_time": "2023-07-12T21:38:14.502Z"
   },
   {
    "duration": 700,
    "start_time": "2023-07-12T21:45:42.133Z"
   },
   {
    "duration": 598,
    "start_time": "2023-07-12T21:46:02.756Z"
   },
   {
    "duration": 940,
    "start_time": "2023-07-12T21:46:49.896Z"
   },
   {
    "duration": 1230,
    "start_time": "2023-07-12T21:46:57.844Z"
   },
   {
    "duration": 560,
    "start_time": "2023-07-12T21:47:08.191Z"
   },
   {
    "duration": 4,
    "start_time": "2023-07-12T21:47:15.572Z"
   },
   {
    "duration": 94,
    "start_time": "2023-07-12T21:47:15.578Z"
   },
   {
    "duration": 15,
    "start_time": "2023-07-12T21:47:15.673Z"
   },
   {
    "duration": 72,
    "start_time": "2023-07-12T21:47:15.690Z"
   },
   {
    "duration": 23,
    "start_time": "2023-07-12T21:47:15.766Z"
   },
   {
    "duration": 57,
    "start_time": "2023-07-12T21:47:15.792Z"
   },
   {
    "duration": 12,
    "start_time": "2023-07-12T21:47:15.852Z"
   },
   {
    "duration": 38,
    "start_time": "2023-07-12T21:47:15.867Z"
   },
   {
    "duration": 41,
    "start_time": "2023-07-12T21:47:15.907Z"
   },
   {
    "duration": 42,
    "start_time": "2023-07-12T21:47:15.955Z"
   },
   {
    "duration": 83,
    "start_time": "2023-07-12T21:47:16.000Z"
   },
   {
    "duration": 20,
    "start_time": "2023-07-12T21:47:16.087Z"
   },
   {
    "duration": 198,
    "start_time": "2023-07-12T21:47:16.111Z"
   },
   {
    "duration": 21,
    "start_time": "2023-07-12T21:47:16.311Z"
   },
   {
    "duration": 6,
    "start_time": "2023-07-12T21:47:16.335Z"
   },
   {
    "duration": 22,
    "start_time": "2023-07-12T21:47:16.344Z"
   },
   {
    "duration": 27,
    "start_time": "2023-07-12T21:47:16.368Z"
   },
   {
    "duration": 553,
    "start_time": "2023-07-12T21:47:16.397Z"
   },
   {
    "duration": 9232,
    "start_time": "2023-07-12T21:47:16.952Z"
   },
   {
    "duration": 3958,
    "start_time": "2023-07-12T21:47:54.597Z"
   },
   {
    "duration": 1144,
    "start_time": "2023-07-13T16:55:56.672Z"
   },
   {
    "duration": 112,
    "start_time": "2023-07-13T16:55:57.818Z"
   },
   {
    "duration": 18,
    "start_time": "2023-07-13T16:55:57.933Z"
   },
   {
    "duration": 53,
    "start_time": "2023-07-13T16:55:57.954Z"
   },
   {
    "duration": 21,
    "start_time": "2023-07-13T16:55:58.010Z"
   },
   {
    "duration": 52,
    "start_time": "2023-07-13T16:55:58.032Z"
   },
   {
    "duration": 10,
    "start_time": "2023-07-13T16:55:58.086Z"
   },
   {
    "duration": 11,
    "start_time": "2023-07-13T16:55:58.098Z"
   },
   {
    "duration": 28,
    "start_time": "2023-07-13T16:55:58.113Z"
   },
   {
    "duration": 22,
    "start_time": "2023-07-13T16:55:58.152Z"
   },
   {
    "duration": 49,
    "start_time": "2023-07-13T16:55:58.176Z"
   },
   {
    "duration": 35,
    "start_time": "2023-07-13T16:55:58.227Z"
   },
   {
    "duration": 723,
    "start_time": "2023-07-13T16:55:58.264Z"
   },
   {
    "duration": 16,
    "start_time": "2023-07-13T16:55:58.990Z"
   },
   {
    "duration": 8,
    "start_time": "2023-07-13T16:55:59.008Z"
   },
   {
    "duration": 18,
    "start_time": "2023-07-13T16:55:59.018Z"
   },
   {
    "duration": 23,
    "start_time": "2023-07-13T16:55:59.038Z"
   },
   {
    "duration": 495,
    "start_time": "2023-07-13T16:55:59.063Z"
   },
   {
    "duration": 2899,
    "start_time": "2023-07-13T16:55:59.561Z"
   },
   {
    "duration": 40,
    "start_time": "2023-07-13T17:12:41.538Z"
   },
   {
    "duration": 158,
    "start_time": "2023-07-13T17:37:36.729Z"
   },
   {
    "duration": 35,
    "start_time": "2023-07-13T17:38:53.626Z"
   },
   {
    "duration": 30,
    "start_time": "2023-07-13T17:39:07.314Z"
   },
   {
    "duration": 31,
    "start_time": "2023-07-13T18:17:10.867Z"
   },
   {
    "duration": 464,
    "start_time": "2023-07-13T18:18:53.627Z"
   },
   {
    "duration": 486,
    "start_time": "2023-07-13T18:19:24.595Z"
   },
   {
    "duration": 2815,
    "start_time": "2023-07-13T18:21:12.109Z"
   },
   {
    "duration": 1063,
    "start_time": "2023-07-13T18:28:00.042Z"
   },
   {
    "duration": 490,
    "start_time": "2023-07-13T18:28:40.105Z"
   },
   {
    "duration": 507,
    "start_time": "2023-07-13T18:30:36.252Z"
   },
   {
    "duration": 26,
    "start_time": "2023-07-13T19:18:45.903Z"
   },
   {
    "duration": 386,
    "start_time": "2023-07-13T19:18:46.979Z"
   },
   {
    "duration": 104,
    "start_time": "2023-07-13T19:18:48.287Z"
   },
   {
    "duration": 16,
    "start_time": "2023-07-13T19:18:50.278Z"
   },
   {
    "duration": 21,
    "start_time": "2023-07-13T19:28:20.773Z"
   },
   {
    "duration": 5,
    "start_time": "2023-07-13T19:28:56.288Z"
   },
   {
    "duration": 116,
    "start_time": "2023-07-13T19:28:56.295Z"
   },
   {
    "duration": 17,
    "start_time": "2023-07-13T19:28:56.413Z"
   },
   {
    "duration": 61,
    "start_time": "2023-07-13T19:28:56.433Z"
   },
   {
    "duration": 36,
    "start_time": "2023-07-13T19:28:56.497Z"
   },
   {
    "duration": 82,
    "start_time": "2023-07-13T19:28:56.535Z"
   },
   {
    "duration": 19,
    "start_time": "2023-07-13T19:28:56.619Z"
   },
   {
    "duration": 111,
    "start_time": "2023-07-13T19:28:56.640Z"
   },
   {
    "duration": 87,
    "start_time": "2023-07-13T19:28:56.754Z"
   },
   {
    "duration": 42,
    "start_time": "2023-07-13T19:28:56.845Z"
   },
   {
    "duration": 28,
    "start_time": "2023-07-13T19:28:56.890Z"
   },
   {
    "duration": 25,
    "start_time": "2023-07-13T19:28:56.921Z"
   },
   {
    "duration": 157,
    "start_time": "2023-07-13T19:28:56.948Z"
   },
   {
    "duration": 16,
    "start_time": "2023-07-13T19:28:57.107Z"
   },
   {
    "duration": 10,
    "start_time": "2023-07-13T19:28:57.125Z"
   },
   {
    "duration": 31,
    "start_time": "2023-07-13T19:28:57.157Z"
   },
   {
    "duration": 26,
    "start_time": "2023-07-13T19:28:57.190Z"
   },
   {
    "duration": 481,
    "start_time": "2023-07-13T19:28:57.218Z"
   },
   {
    "duration": 1080,
    "start_time": "2023-07-13T19:28:57.701Z"
   },
   {
    "duration": 22,
    "start_time": "2023-07-13T19:28:58.783Z"
   },
   {
    "duration": 115,
    "start_time": "2023-07-13T19:28:58.859Z"
   },
   {
    "duration": 409,
    "start_time": "2023-07-13T19:28:58.976Z"
   },
   {
    "duration": 67,
    "start_time": "2023-07-13T19:28:59.391Z"
   },
   {
    "duration": 95,
    "start_time": "2023-07-13T19:28:59.460Z"
   },
   {
    "duration": 33,
    "start_time": "2023-07-13T19:28:59.559Z"
   },
   {
    "duration": 0,
    "start_time": "2023-07-13T19:28:59.594Z"
   },
   {
    "duration": 0,
    "start_time": "2023-07-13T19:28:59.595Z"
   },
   {
    "duration": 0,
    "start_time": "2023-07-13T19:28:59.597Z"
   },
   {
    "duration": 0,
    "start_time": "2023-07-13T19:28:59.599Z"
   },
   {
    "duration": 14,
    "start_time": "2023-07-13T19:29:22.245Z"
   },
   {
    "duration": 28,
    "start_time": "2023-07-13T19:29:23.867Z"
   },
   {
    "duration": 454,
    "start_time": "2023-07-13T19:29:24.853Z"
   },
   {
    "duration": 41,
    "start_time": "2023-07-13T19:29:26.637Z"
   },
   {
    "duration": 12,
    "start_time": "2023-07-13T19:29:30.349Z"
   },
   {
    "duration": 4,
    "start_time": "2023-07-13T19:33:38.923Z"
   },
   {
    "duration": 69,
    "start_time": "2023-07-13T19:33:38.937Z"
   },
   {
    "duration": 13,
    "start_time": "2023-07-13T19:33:39.009Z"
   },
   {
    "duration": 50,
    "start_time": "2023-07-13T19:33:39.024Z"
   },
   {
    "duration": 15,
    "start_time": "2023-07-13T19:33:39.076Z"
   },
   {
    "duration": 28,
    "start_time": "2023-07-13T19:33:39.093Z"
   },
   {
    "duration": 44,
    "start_time": "2023-07-13T19:33:39.123Z"
   },
   {
    "duration": 9,
    "start_time": "2023-07-13T19:33:39.171Z"
   },
   {
    "duration": 11,
    "start_time": "2023-07-13T19:33:39.181Z"
   },
   {
    "duration": 15,
    "start_time": "2023-07-13T19:33:39.195Z"
   },
   {
    "duration": 24,
    "start_time": "2023-07-13T19:33:39.212Z"
   },
   {
    "duration": 30,
    "start_time": "2023-07-13T19:33:39.238Z"
   },
   {
    "duration": 149,
    "start_time": "2023-07-13T19:33:39.272Z"
   },
   {
    "duration": 38,
    "start_time": "2023-07-13T19:33:39.423Z"
   },
   {
    "duration": 5,
    "start_time": "2023-07-13T19:33:39.466Z"
   },
   {
    "duration": 11,
    "start_time": "2023-07-13T19:33:39.473Z"
   },
   {
    "duration": 11,
    "start_time": "2023-07-13T19:33:39.486Z"
   },
   {
    "duration": 518,
    "start_time": "2023-07-13T19:33:39.499Z"
   },
   {
    "duration": 1093,
    "start_time": "2023-07-13T19:33:40.019Z"
   },
   {
    "duration": 56,
    "start_time": "2023-07-13T19:33:41.114Z"
   },
   {
    "duration": 117,
    "start_time": "2023-07-13T19:33:41.173Z"
   },
   {
    "duration": 391,
    "start_time": "2023-07-13T19:33:41.292Z"
   },
   {
    "duration": 71,
    "start_time": "2023-07-13T19:33:41.684Z"
   },
   {
    "duration": 99,
    "start_time": "2023-07-13T19:33:41.759Z"
   },
   {
    "duration": 39,
    "start_time": "2023-07-13T19:33:41.864Z"
   },
   {
    "duration": 39,
    "start_time": "2023-07-13T19:33:41.905Z"
   },
   {
    "duration": 505,
    "start_time": "2023-07-13T19:33:41.946Z"
   },
   {
    "duration": 37,
    "start_time": "2023-07-13T19:33:42.453Z"
   },
   {
    "duration": 221,
    "start_time": "2023-07-13T19:33:42.492Z"
   },
   {
    "duration": 16,
    "start_time": "2023-07-13T19:53:57.034Z"
   },
   {
    "duration": 15,
    "start_time": "2023-07-13T19:53:58.819Z"
   },
   {
    "duration": 197,
    "start_time": "2023-07-13T19:54:00.164Z"
   },
   {
    "duration": 23,
    "start_time": "2023-07-13T19:54:01.777Z"
   },
   {
    "duration": 11,
    "start_time": "2023-07-13T19:54:07.037Z"
   },
   {
    "duration": 30,
    "start_time": "2023-07-13T20:23:28.224Z"
   },
   {
    "duration": 27,
    "start_time": "2023-07-13T20:23:53.070Z"
   },
   {
    "duration": 6,
    "start_time": "2023-07-13T20:24:51.463Z"
   },
   {
    "duration": 91,
    "start_time": "2023-07-13T20:24:51.472Z"
   },
   {
    "duration": 15,
    "start_time": "2023-07-13T20:24:51.565Z"
   },
   {
    "duration": 57,
    "start_time": "2023-07-13T20:24:51.582Z"
   },
   {
    "duration": 31,
    "start_time": "2023-07-13T20:24:51.641Z"
   },
   {
    "duration": 27,
    "start_time": "2023-07-13T20:24:51.674Z"
   },
   {
    "duration": 7,
    "start_time": "2023-07-13T20:24:51.703Z"
   },
   {
    "duration": 27,
    "start_time": "2023-07-13T20:24:51.711Z"
   },
   {
    "duration": 31,
    "start_time": "2023-07-13T20:24:51.740Z"
   },
   {
    "duration": 29,
    "start_time": "2023-07-13T20:24:51.773Z"
   },
   {
    "duration": 39,
    "start_time": "2023-07-13T20:24:51.804Z"
   },
   {
    "duration": 18,
    "start_time": "2023-07-13T20:24:51.845Z"
   },
   {
    "duration": 163,
    "start_time": "2023-07-13T20:24:51.865Z"
   },
   {
    "duration": 14,
    "start_time": "2023-07-13T20:24:52.031Z"
   },
   {
    "duration": 8,
    "start_time": "2023-07-13T20:24:52.062Z"
   },
   {
    "duration": 19,
    "start_time": "2023-07-13T20:24:52.072Z"
   },
   {
    "duration": 64,
    "start_time": "2023-07-13T20:24:52.093Z"
   },
   {
    "duration": 524,
    "start_time": "2023-07-13T20:24:52.159Z"
   },
   {
    "duration": 1152,
    "start_time": "2023-07-13T20:24:52.685Z"
   },
   {
    "duration": 36,
    "start_time": "2023-07-13T20:24:53.839Z"
   },
   {
    "duration": 188,
    "start_time": "2023-07-13T20:24:53.877Z"
   },
   {
    "duration": 356,
    "start_time": "2023-07-13T20:24:54.068Z"
   },
   {
    "duration": 48,
    "start_time": "2023-07-13T20:24:54.426Z"
   },
   {
    "duration": 89,
    "start_time": "2023-07-13T20:24:54.479Z"
   },
   {
    "duration": 93,
    "start_time": "2023-07-13T20:24:54.575Z"
   },
   {
    "duration": 39,
    "start_time": "2023-07-13T20:24:54.670Z"
   },
   {
    "duration": 491,
    "start_time": "2023-07-13T20:24:54.711Z"
   },
   {
    "duration": 48,
    "start_time": "2023-07-13T20:24:55.204Z"
   },
   {
    "duration": 15,
    "start_time": "2023-07-13T20:24:55.254Z"
   },
   {
    "duration": 118,
    "start_time": "2023-07-13T20:24:55.273Z"
   },
   {
    "duration": 17,
    "start_time": "2023-07-13T20:24:55.394Z"
   },
   {
    "duration": 247,
    "start_time": "2023-07-13T20:24:55.413Z"
   },
   {
    "duration": 26,
    "start_time": "2023-07-13T20:24:55.662Z"
   },
   {
    "duration": 192,
    "start_time": "2023-07-13T20:24:55.691Z"
   },
   {
    "duration": 45,
    "start_time": "2023-07-13T20:24:55.885Z"
   },
   {
    "duration": 39,
    "start_time": "2023-07-13T20:27:00.539Z"
   },
   {
    "duration": 28,
    "start_time": "2023-07-13T20:28:41.697Z"
   },
   {
    "duration": 27,
    "start_time": "2023-07-13T20:31:37.994Z"
   },
   {
    "duration": 3,
    "start_time": "2023-07-13T20:54:54.979Z"
   },
   {
    "duration": 5,
    "start_time": "2023-07-13T20:56:40.819Z"
   },
   {
    "duration": 130,
    "start_time": "2023-07-13T20:56:40.825Z"
   },
   {
    "duration": 15,
    "start_time": "2023-07-13T20:56:40.957Z"
   },
   {
    "duration": 39,
    "start_time": "2023-07-13T20:56:40.974Z"
   },
   {
    "duration": 14,
    "start_time": "2023-07-13T20:56:41.015Z"
   },
   {
    "duration": 57,
    "start_time": "2023-07-13T20:56:41.030Z"
   },
   {
    "duration": 6,
    "start_time": "2023-07-13T20:56:41.090Z"
   },
   {
    "duration": 10,
    "start_time": "2023-07-13T20:56:41.098Z"
   },
   {
    "duration": 7,
    "start_time": "2023-07-13T20:56:41.111Z"
   },
   {
    "duration": 40,
    "start_time": "2023-07-13T20:56:41.119Z"
   },
   {
    "duration": 21,
    "start_time": "2023-07-13T20:56:41.163Z"
   },
   {
    "duration": 10,
    "start_time": "2023-07-13T20:56:41.186Z"
   },
   {
    "duration": 139,
    "start_time": "2023-07-13T20:56:41.197Z"
   },
   {
    "duration": 27,
    "start_time": "2023-07-13T20:56:41.339Z"
   },
   {
    "duration": 10,
    "start_time": "2023-07-13T20:56:41.368Z"
   },
   {
    "duration": 8,
    "start_time": "2023-07-13T20:56:41.380Z"
   },
   {
    "duration": 8,
    "start_time": "2023-07-13T20:56:41.390Z"
   },
   {
    "duration": 469,
    "start_time": "2023-07-13T20:56:41.400Z"
   },
   {
    "duration": 1008,
    "start_time": "2023-07-13T20:56:41.871Z"
   },
   {
    "duration": 25,
    "start_time": "2023-07-13T20:56:42.881Z"
   },
   {
    "duration": 163,
    "start_time": "2023-07-13T20:56:42.908Z"
   },
   {
    "duration": 392,
    "start_time": "2023-07-13T20:56:43.075Z"
   },
   {
    "duration": 19,
    "start_time": "2023-07-13T20:56:43.469Z"
   },
   {
    "duration": 23,
    "start_time": "2023-07-13T20:56:43.551Z"
   },
   {
    "duration": 27,
    "start_time": "2023-07-13T20:56:43.653Z"
   },
   {
    "duration": 32,
    "start_time": "2023-07-13T20:56:43.681Z"
   },
   {
    "duration": 489,
    "start_time": "2023-07-13T20:56:43.715Z"
   },
   {
    "duration": 46,
    "start_time": "2023-07-13T20:56:44.206Z"
   },
   {
    "duration": 103,
    "start_time": "2023-07-13T20:56:44.254Z"
   },
   {
    "duration": 29,
    "start_time": "2023-07-13T20:56:44.359Z"
   },
   {
    "duration": 16,
    "start_time": "2023-07-13T20:56:44.390Z"
   },
   {
    "duration": 200,
    "start_time": "2023-07-13T20:56:44.408Z"
   },
   {
    "duration": 43,
    "start_time": "2023-07-13T20:56:44.610Z"
   },
   {
    "duration": 98,
    "start_time": "2023-07-13T20:56:44.655Z"
   },
   {
    "duration": 40,
    "start_time": "2023-07-13T20:56:44.755Z"
   },
   {
    "duration": 5,
    "start_time": "2023-07-13T20:56:44.796Z"
   },
   {
    "duration": 4,
    "start_time": "2023-07-13T20:58:26.364Z"
   },
   {
    "duration": 5,
    "start_time": "2023-07-13T21:05:23.742Z"
   },
   {
    "duration": 5,
    "start_time": "2023-07-13T21:06:11.190Z"
   },
   {
    "duration": 4,
    "start_time": "2023-07-13T21:06:30.985Z"
   },
   {
    "duration": 5,
    "start_time": "2023-07-13T21:06:35.220Z"
   },
   {
    "duration": 4,
    "start_time": "2023-07-13T21:11:33.799Z"
   },
   {
    "duration": 87,
    "start_time": "2023-07-13T21:11:33.805Z"
   },
   {
    "duration": 17,
    "start_time": "2023-07-13T21:11:33.895Z"
   },
   {
    "duration": 63,
    "start_time": "2023-07-13T21:11:33.914Z"
   },
   {
    "duration": 14,
    "start_time": "2023-07-13T21:11:33.981Z"
   },
   {
    "duration": 26,
    "start_time": "2023-07-13T21:11:33.997Z"
   },
   {
    "duration": 37,
    "start_time": "2023-07-13T21:11:34.025Z"
   },
   {
    "duration": 24,
    "start_time": "2023-07-13T21:11:34.064Z"
   },
   {
    "duration": 11,
    "start_time": "2023-07-13T21:11:34.090Z"
   },
   {
    "duration": 24,
    "start_time": "2023-07-13T21:11:34.103Z"
   },
   {
    "duration": 35,
    "start_time": "2023-07-13T21:11:34.129Z"
   },
   {
    "duration": 20,
    "start_time": "2023-07-13T21:11:34.166Z"
   },
   {
    "duration": 134,
    "start_time": "2023-07-13T21:11:34.188Z"
   },
   {
    "duration": 14,
    "start_time": "2023-07-13T21:11:34.324Z"
   },
   {
    "duration": 60,
    "start_time": "2023-07-13T21:11:34.339Z"
   },
   {
    "duration": 13,
    "start_time": "2023-07-13T21:11:34.401Z"
   },
   {
    "duration": 12,
    "start_time": "2023-07-13T21:11:34.416Z"
   },
   {
    "duration": 485,
    "start_time": "2023-07-13T21:11:34.431Z"
   },
   {
    "duration": 1068,
    "start_time": "2023-07-13T21:11:34.918Z"
   },
   {
    "duration": 67,
    "start_time": "2023-07-13T21:11:35.988Z"
   },
   {
    "duration": 112,
    "start_time": "2023-07-13T21:11:36.057Z"
   },
   {
    "duration": 351,
    "start_time": "2023-07-13T21:11:36.171Z"
   },
   {
    "duration": 52,
    "start_time": "2023-07-13T21:11:36.524Z"
   },
   {
    "duration": 108,
    "start_time": "2023-07-13T21:11:36.657Z"
   },
   {
    "duration": 13,
    "start_time": "2023-07-13T21:11:36.767Z"
   },
   {
    "duration": 35,
    "start_time": "2023-07-13T21:11:36.782Z"
   },
   {
    "duration": 497,
    "start_time": "2023-07-13T21:11:36.819Z"
   },
   {
    "duration": 63,
    "start_time": "2023-07-13T21:11:37.321Z"
   },
   {
    "duration": 90,
    "start_time": "2023-07-13T21:11:37.387Z"
   },
   {
    "duration": 26,
    "start_time": "2023-07-13T21:11:37.552Z"
   },
   {
    "duration": 21,
    "start_time": "2023-07-13T21:11:37.580Z"
   },
   {
    "duration": 199,
    "start_time": "2023-07-13T21:11:37.603Z"
   },
   {
    "duration": 50,
    "start_time": "2023-07-13T21:11:37.804Z"
   },
   {
    "duration": 103,
    "start_time": "2023-07-13T21:11:37.860Z"
   },
   {
    "duration": 36,
    "start_time": "2023-07-13T21:11:37.971Z"
   },
   {
    "duration": 6,
    "start_time": "2023-07-13T21:11:38.009Z"
   },
   {
    "duration": 5,
    "start_time": "2023-07-13T21:15:16.548Z"
   },
   {
    "duration": 374,
    "start_time": "2023-07-13T21:15:30.814Z"
   },
   {
    "duration": 1102,
    "start_time": "2023-07-14T19:32:39.476Z"
   },
   {
    "duration": 122,
    "start_time": "2023-07-14T19:32:40.580Z"
   },
   {
    "duration": 12,
    "start_time": "2023-07-14T19:32:40.703Z"
   },
   {
    "duration": 48,
    "start_time": "2023-07-14T19:32:40.717Z"
   },
   {
    "duration": 13,
    "start_time": "2023-07-14T19:32:40.767Z"
   },
   {
    "duration": 21,
    "start_time": "2023-07-14T19:32:40.782Z"
   },
   {
    "duration": 6,
    "start_time": "2023-07-14T19:32:40.804Z"
   },
   {
    "duration": 31,
    "start_time": "2023-07-14T19:32:40.811Z"
   },
   {
    "duration": 26,
    "start_time": "2023-07-14T19:32:40.844Z"
   },
   {
    "duration": 16,
    "start_time": "2023-07-14T19:32:40.872Z"
   },
   {
    "duration": 16,
    "start_time": "2023-07-14T19:32:40.889Z"
   },
   {
    "duration": 9,
    "start_time": "2023-07-14T19:32:40.906Z"
   },
   {
    "duration": 571,
    "start_time": "2023-07-14T19:32:40.916Z"
   },
   {
    "duration": 13,
    "start_time": "2023-07-14T19:32:41.489Z"
   },
   {
    "duration": 4,
    "start_time": "2023-07-14T19:32:41.504Z"
   },
   {
    "duration": 24,
    "start_time": "2023-07-14T19:32:41.509Z"
   },
   {
    "duration": 38,
    "start_time": "2023-07-14T19:32:41.534Z"
   },
   {
    "duration": 422,
    "start_time": "2023-07-14T19:32:41.574Z"
   },
   {
    "duration": 925,
    "start_time": "2023-07-14T19:32:41.998Z"
   },
   {
    "duration": 35,
    "start_time": "2023-07-14T19:32:42.925Z"
   },
   {
    "duration": 91,
    "start_time": "2023-07-14T19:32:42.965Z"
   },
   {
    "duration": 358,
    "start_time": "2023-07-14T19:32:43.131Z"
   },
   {
    "duration": 42,
    "start_time": "2023-07-14T19:32:43.491Z"
   },
   {
    "duration": 19,
    "start_time": "2023-07-14T19:32:43.535Z"
   },
   {
    "duration": 109,
    "start_time": "2023-07-14T19:32:43.559Z"
   },
   {
    "duration": 31,
    "start_time": "2023-07-14T19:32:43.669Z"
   },
   {
    "duration": 467,
    "start_time": "2023-07-14T19:32:43.702Z"
   },
   {
    "duration": 27,
    "start_time": "2023-07-14T19:32:44.173Z"
   },
   {
    "duration": 36,
    "start_time": "2023-07-14T19:32:44.236Z"
   },
   {
    "duration": 55,
    "start_time": "2023-07-14T19:32:44.334Z"
   },
   {
    "duration": 25,
    "start_time": "2023-07-14T19:32:44.391Z"
   },
   {
    "duration": 224,
    "start_time": "2023-07-14T19:32:44.418Z"
   },
   {
    "duration": 21,
    "start_time": "2023-07-14T19:32:44.651Z"
   },
   {
    "duration": 73,
    "start_time": "2023-07-14T19:32:44.677Z"
   },
   {
    "duration": 137,
    "start_time": "2023-07-14T19:32:44.752Z"
   },
   {
    "duration": 160,
    "start_time": "2023-07-14T19:41:24.506Z"
   },
   {
    "duration": 401,
    "start_time": "2023-07-14T19:41:34.536Z"
   },
   {
    "duration": 423,
    "start_time": "2023-07-14T19:56:23.785Z"
   },
   {
    "duration": 1013,
    "start_time": "2023-07-14T20:06:34.385Z"
   },
   {
    "duration": 4368,
    "start_time": "2023-07-14T20:08:47.016Z"
   },
   {
    "duration": 17795,
    "start_time": "2023-07-14T20:09:27.423Z"
   },
   {
    "duration": 4407,
    "start_time": "2023-07-14T20:10:15.760Z"
   },
   {
    "duration": 4207,
    "start_time": "2023-07-14T20:12:07.045Z"
   },
   {
    "duration": 862,
    "start_time": "2023-07-14T20:15:08.090Z"
   },
   {
    "duration": 4082,
    "start_time": "2023-07-14T20:16:13.050Z"
   },
   {
    "duration": 725,
    "start_time": "2023-07-14T20:16:30.729Z"
   },
   {
    "duration": 16123,
    "start_time": "2023-07-14T20:16:54.891Z"
   },
   {
    "duration": 702,
    "start_time": "2023-07-14T20:17:21.826Z"
   },
   {
    "duration": 81,
    "start_time": "2023-07-14T20:18:04.355Z"
   },
   {
    "duration": 3,
    "start_time": "2023-07-14T20:19:34.977Z"
   },
   {
    "duration": 69,
    "start_time": "2023-07-14T20:19:34.983Z"
   },
   {
    "duration": 13,
    "start_time": "2023-07-14T20:19:35.054Z"
   },
   {
    "duration": 47,
    "start_time": "2023-07-14T20:19:35.070Z"
   },
   {
    "duration": 25,
    "start_time": "2023-07-14T20:19:35.119Z"
   },
   {
    "duration": 25,
    "start_time": "2023-07-14T20:19:35.146Z"
   },
   {
    "duration": 6,
    "start_time": "2023-07-14T20:19:35.173Z"
   },
   {
    "duration": 13,
    "start_time": "2023-07-14T20:19:35.181Z"
   },
   {
    "duration": 5,
    "start_time": "2023-07-14T20:19:35.196Z"
   },
   {
    "duration": 37,
    "start_time": "2023-07-14T20:19:35.202Z"
   },
   {
    "duration": 24,
    "start_time": "2023-07-14T20:19:35.241Z"
   },
   {
    "duration": 13,
    "start_time": "2023-07-14T20:19:35.267Z"
   },
   {
    "duration": 151,
    "start_time": "2023-07-14T20:19:35.282Z"
   },
   {
    "duration": 11,
    "start_time": "2023-07-14T20:19:35.435Z"
   },
   {
    "duration": 20,
    "start_time": "2023-07-14T20:19:35.448Z"
   },
   {
    "duration": 8,
    "start_time": "2023-07-14T20:19:35.469Z"
   },
   {
    "duration": 10,
    "start_time": "2023-07-14T20:19:35.479Z"
   },
   {
    "duration": 422,
    "start_time": "2023-07-14T20:19:35.491Z"
   },
   {
    "duration": 887,
    "start_time": "2023-07-14T20:19:35.915Z"
   },
   {
    "duration": 33,
    "start_time": "2023-07-14T20:19:36.804Z"
   },
   {
    "duration": 607,
    "start_time": "2023-07-14T20:19:36.839Z"
   },
   {
    "duration": 745,
    "start_time": "2023-07-14T20:19:37.448Z"
   },
   {
    "duration": 50,
    "start_time": "2023-07-14T20:19:38.194Z"
   },
   {
    "duration": 19,
    "start_time": "2023-07-14T20:19:38.331Z"
   },
   {
    "duration": 93,
    "start_time": "2023-07-14T20:19:38.352Z"
   },
   {
    "duration": 421,
    "start_time": "2023-07-14T20:19:38.447Z"
   },
   {
    "duration": 27,
    "start_time": "2023-07-14T20:19:38.870Z"
   },
   {
    "duration": 95,
    "start_time": "2023-07-14T20:19:38.938Z"
   },
   {
    "duration": 18,
    "start_time": "2023-07-14T20:19:39.034Z"
   },
   {
    "duration": 13,
    "start_time": "2023-07-14T20:19:39.054Z"
   },
   {
    "duration": 172,
    "start_time": "2023-07-14T20:19:39.068Z"
   },
   {
    "duration": 12,
    "start_time": "2023-07-14T20:19:39.242Z"
   },
   {
    "duration": 176,
    "start_time": "2023-07-14T20:19:39.256Z"
   },
   {
    "duration": 30,
    "start_time": "2023-07-14T20:19:39.434Z"
   },
   {
    "duration": 315,
    "start_time": "2023-07-14T20:19:39.466Z"
   },
   {
    "duration": 511,
    "start_time": "2023-07-14T20:23:05.431Z"
   },
   {
    "duration": 5668,
    "start_time": "2023-07-14T20:26:05.440Z"
   },
   {
    "duration": 2165,
    "start_time": "2023-07-14T20:26:54.849Z"
   },
   {
    "duration": 32,
    "start_time": "2023-07-14T20:27:35.449Z"
   },
   {
    "duration": 219,
    "start_time": "2023-07-14T20:31:13.755Z"
   },
   {
    "duration": 2342,
    "start_time": "2023-07-14T20:34:31.085Z"
   },
   {
    "duration": 4406,
    "start_time": "2023-07-14T20:34:43.012Z"
   },
   {
    "duration": 4479,
    "start_time": "2023-07-14T20:35:01.573Z"
   },
   {
    "duration": 4403,
    "start_time": "2023-07-14T20:35:24.765Z"
   },
   {
    "duration": 4328,
    "start_time": "2023-07-14T20:35:40.101Z"
   },
   {
    "duration": 4515,
    "start_time": "2023-07-14T20:36:00.734Z"
   },
   {
    "duration": 4308,
    "start_time": "2023-07-14T20:36:21.143Z"
   },
   {
    "duration": 4434,
    "start_time": "2023-07-14T20:36:34.254Z"
   },
   {
    "duration": 4589,
    "start_time": "2023-07-14T20:36:50.278Z"
   },
   {
    "duration": 4335,
    "start_time": "2023-07-14T20:37:17.142Z"
   },
   {
    "duration": 4480,
    "start_time": "2023-07-14T20:37:31.231Z"
   },
   {
    "duration": 4615,
    "start_time": "2023-07-14T20:37:42.511Z"
   },
   {
    "duration": 4396,
    "start_time": "2023-07-14T20:38:18.368Z"
   },
   {
    "duration": 4294,
    "start_time": "2023-07-14T20:38:38.056Z"
   },
   {
    "duration": 4365,
    "start_time": "2023-07-14T20:38:47.793Z"
   },
   {
    "duration": 4507,
    "start_time": "2023-07-14T20:39:01.665Z"
   },
   {
    "duration": 6528,
    "start_time": "2023-07-14T20:39:24.137Z"
   },
   {
    "duration": 6179,
    "start_time": "2023-07-14T20:39:45.702Z"
   },
   {
    "duration": 6799,
    "start_time": "2023-07-14T20:39:58.776Z"
   },
   {
    "duration": 2992,
    "start_time": "2023-07-14T20:40:13.601Z"
   },
   {
    "duration": 3130,
    "start_time": "2023-07-14T20:40:24.632Z"
   },
   {
    "duration": 1332,
    "start_time": "2023-07-14T20:40:39.105Z"
   },
   {
    "duration": 1370,
    "start_time": "2023-07-14T20:40:47.617Z"
   },
   {
    "duration": 15,
    "start_time": "2023-07-14T20:41:51.401Z"
   },
   {
    "duration": 23,
    "start_time": "2023-07-14T20:42:06.016Z"
   },
   {
    "duration": 14,
    "start_time": "2023-07-14T20:47:10.428Z"
   },
   {
    "duration": 4,
    "start_time": "2023-07-14T21:21:23.813Z"
   },
   {
    "duration": 53,
    "start_time": "2023-07-14T21:21:23.819Z"
   },
   {
    "duration": 11,
    "start_time": "2023-07-14T21:21:23.873Z"
   },
   {
    "duration": 32,
    "start_time": "2023-07-14T21:21:23.886Z"
   },
   {
    "duration": 20,
    "start_time": "2023-07-14T21:21:23.920Z"
   },
   {
    "duration": 23,
    "start_time": "2023-07-14T21:21:23.942Z"
   },
   {
    "duration": 7,
    "start_time": "2023-07-14T21:21:23.966Z"
   },
   {
    "duration": 8,
    "start_time": "2023-07-14T21:21:23.974Z"
   },
   {
    "duration": 7,
    "start_time": "2023-07-14T21:21:23.983Z"
   },
   {
    "duration": 12,
    "start_time": "2023-07-14T21:21:23.991Z"
   },
   {
    "duration": 42,
    "start_time": "2023-07-14T21:21:24.004Z"
   },
   {
    "duration": 9,
    "start_time": "2023-07-14T21:21:24.048Z"
   },
   {
    "duration": 122,
    "start_time": "2023-07-14T21:21:24.059Z"
   },
   {
    "duration": 12,
    "start_time": "2023-07-14T21:21:24.183Z"
   },
   {
    "duration": 7,
    "start_time": "2023-07-14T21:21:24.196Z"
   },
   {
    "duration": 8,
    "start_time": "2023-07-14T21:21:24.205Z"
   },
   {
    "duration": 18,
    "start_time": "2023-07-14T21:21:24.214Z"
   },
   {
    "duration": 432,
    "start_time": "2023-07-14T21:21:24.234Z"
   },
   {
    "duration": 897,
    "start_time": "2023-07-14T21:21:24.668Z"
   },
   {
    "duration": 71,
    "start_time": "2023-07-14T21:21:25.566Z"
   },
   {
    "duration": 564,
    "start_time": "2023-07-14T21:21:25.639Z"
   },
   {
    "duration": 727,
    "start_time": "2023-07-14T21:21:26.204Z"
   },
   {
    "duration": 22,
    "start_time": "2023-07-14T21:21:26.933Z"
   },
   {
    "duration": 105,
    "start_time": "2023-07-14T21:21:27.031Z"
   },
   {
    "duration": 513,
    "start_time": "2023-07-14T21:21:27.137Z"
   },
   {
    "duration": 2161,
    "start_time": "2023-07-14T21:21:27.652Z"
   },
   {
    "duration": 119,
    "start_time": "2023-07-14T21:21:29.815Z"
   },
   {
    "duration": 103,
    "start_time": "2023-07-14T21:21:29.937Z"
   },
   {
    "duration": 258,
    "start_time": "2023-07-14T21:21:30.042Z"
   },
   {
    "duration": 1439,
    "start_time": "2023-07-14T21:21:30.302Z"
   },
   {
    "duration": 17,
    "start_time": "2023-07-14T21:21:31.743Z"
   },
   {
    "duration": 110,
    "start_time": "2023-07-14T21:21:31.831Z"
   },
   {
    "duration": 350,
    "start_time": "2023-07-14T21:21:31.943Z"
   },
   {
    "duration": 877,
    "start_time": "2023-07-14T21:24:19.393Z"
   },
   {
    "duration": 45,
    "start_time": "2023-07-14T21:25:28.887Z"
   },
   {
    "duration": 1167,
    "start_time": "2023-07-15T05:55:45.733Z"
   },
   {
    "duration": 172,
    "start_time": "2023-07-15T05:55:46.902Z"
   },
   {
    "duration": 13,
    "start_time": "2023-07-15T05:55:47.075Z"
   },
   {
    "duration": 37,
    "start_time": "2023-07-15T05:55:47.090Z"
   },
   {
    "duration": 34,
    "start_time": "2023-07-15T05:55:47.129Z"
   },
   {
    "duration": 24,
    "start_time": "2023-07-15T05:55:47.165Z"
   },
   {
    "duration": 7,
    "start_time": "2023-07-15T05:55:47.191Z"
   },
   {
    "duration": 5,
    "start_time": "2023-07-15T05:55:47.200Z"
   },
   {
    "duration": 6,
    "start_time": "2023-07-15T05:55:47.206Z"
   },
   {
    "duration": 17,
    "start_time": "2023-07-15T05:55:47.214Z"
   },
   {
    "duration": 20,
    "start_time": "2023-07-15T05:55:47.259Z"
   },
   {
    "duration": 10,
    "start_time": "2023-07-15T05:55:47.280Z"
   },
   {
    "duration": 540,
    "start_time": "2023-07-15T05:55:47.292Z"
   },
   {
    "duration": 26,
    "start_time": "2023-07-15T05:55:47.834Z"
   },
   {
    "duration": 4,
    "start_time": "2023-07-15T05:55:47.861Z"
   },
   {
    "duration": 24,
    "start_time": "2023-07-15T05:55:47.867Z"
   },
   {
    "duration": 15,
    "start_time": "2023-07-15T05:55:47.893Z"
   },
   {
    "duration": 427,
    "start_time": "2023-07-15T05:55:47.910Z"
   },
   {
    "duration": 910,
    "start_time": "2023-07-15T05:55:48.339Z"
   },
   {
    "duration": 32,
    "start_time": "2023-07-15T05:55:49.251Z"
   },
   {
    "duration": 527,
    "start_time": "2023-07-15T05:55:49.359Z"
   },
   {
    "duration": 752,
    "start_time": "2023-07-15T05:55:49.888Z"
   },
   {
    "duration": 33,
    "start_time": "2023-07-15T05:55:50.642Z"
   },
   {
    "duration": 182,
    "start_time": "2023-07-15T05:55:50.677Z"
   },
   {
    "duration": 554,
    "start_time": "2023-07-15T05:55:50.861Z"
   },
   {
    "duration": 2210,
    "start_time": "2023-07-15T05:55:51.417Z"
   },
   {
    "duration": 36,
    "start_time": "2023-07-15T05:55:53.629Z"
   },
   {
    "duration": 98,
    "start_time": "2023-07-15T05:55:53.670Z"
   },
   {
    "duration": 302,
    "start_time": "2023-07-15T05:55:53.860Z"
   },
   {
    "duration": 1447,
    "start_time": "2023-07-15T05:55:54.164Z"
   },
   {
    "duration": 47,
    "start_time": "2023-07-15T05:55:55.613Z"
   },
   {
    "duration": 107,
    "start_time": "2023-07-15T05:55:55.663Z"
   },
   {
    "duration": 332,
    "start_time": "2023-07-15T05:55:55.772Z"
   },
   {
    "duration": 470,
    "start_time": "2023-07-15T05:57:37.320Z"
   },
   {
    "duration": 165,
    "start_time": "2023-07-15T05:58:55.210Z"
   },
   {
    "duration": 542,
    "start_time": "2023-07-15T06:11:51.903Z"
   },
   {
    "duration": 5,
    "start_time": "2023-07-15T06:12:04.091Z"
   },
   {
    "duration": 61,
    "start_time": "2023-07-15T06:12:04.099Z"
   },
   {
    "duration": 19,
    "start_time": "2023-07-15T06:12:04.162Z"
   },
   {
    "duration": 75,
    "start_time": "2023-07-15T06:12:04.185Z"
   },
   {
    "duration": 21,
    "start_time": "2023-07-15T06:12:04.263Z"
   },
   {
    "duration": 39,
    "start_time": "2023-07-15T06:12:04.287Z"
   },
   {
    "duration": 35,
    "start_time": "2023-07-15T06:12:04.329Z"
   },
   {
    "duration": 5,
    "start_time": "2023-07-15T06:12:04.366Z"
   },
   {
    "duration": 34,
    "start_time": "2023-07-15T06:12:04.373Z"
   },
   {
    "duration": 53,
    "start_time": "2023-07-15T06:12:04.409Z"
   },
   {
    "duration": 50,
    "start_time": "2023-07-15T06:12:04.464Z"
   },
   {
    "duration": 53,
    "start_time": "2023-07-15T06:12:04.516Z"
   },
   {
    "duration": 126,
    "start_time": "2023-07-15T06:12:04.571Z"
   },
   {
    "duration": 17,
    "start_time": "2023-07-15T06:12:04.699Z"
   },
   {
    "duration": 4,
    "start_time": "2023-07-15T06:12:04.718Z"
   },
   {
    "duration": 6,
    "start_time": "2023-07-15T06:12:04.724Z"
   },
   {
    "duration": 35,
    "start_time": "2023-07-15T06:12:04.731Z"
   },
   {
    "duration": 456,
    "start_time": "2023-07-15T06:12:04.768Z"
   },
   {
    "duration": 0,
    "start_time": "2023-07-15T06:12:05.226Z"
   },
   {
    "duration": 0,
    "start_time": "2023-07-15T06:12:05.227Z"
   },
   {
    "duration": 0,
    "start_time": "2023-07-15T06:12:05.228Z"
   },
   {
    "duration": 0,
    "start_time": "2023-07-15T06:12:05.229Z"
   },
   {
    "duration": 0,
    "start_time": "2023-07-15T06:12:05.230Z"
   },
   {
    "duration": 0,
    "start_time": "2023-07-15T06:12:05.231Z"
   },
   {
    "duration": 0,
    "start_time": "2023-07-15T06:12:05.232Z"
   },
   {
    "duration": 0,
    "start_time": "2023-07-15T06:12:05.233Z"
   },
   {
    "duration": 0,
    "start_time": "2023-07-15T06:12:05.234Z"
   },
   {
    "duration": 0,
    "start_time": "2023-07-15T06:12:05.234Z"
   },
   {
    "duration": 0,
    "start_time": "2023-07-15T06:12:05.235Z"
   },
   {
    "duration": 0,
    "start_time": "2023-07-15T06:12:05.259Z"
   },
   {
    "duration": 0,
    "start_time": "2023-07-15T06:12:05.261Z"
   },
   {
    "duration": 0,
    "start_time": "2023-07-15T06:12:05.262Z"
   },
   {
    "duration": 0,
    "start_time": "2023-07-15T06:12:05.264Z"
   },
   {
    "duration": 476,
    "start_time": "2023-07-15T06:13:00.192Z"
   },
   {
    "duration": 25,
    "start_time": "2023-07-15T06:15:50.458Z"
   },
   {
    "duration": 3,
    "start_time": "2023-07-15T06:15:54.846Z"
   },
   {
    "duration": 67,
    "start_time": "2023-07-15T06:15:54.851Z"
   },
   {
    "duration": 18,
    "start_time": "2023-07-15T06:15:54.920Z"
   },
   {
    "duration": 47,
    "start_time": "2023-07-15T06:15:54.940Z"
   },
   {
    "duration": 16,
    "start_time": "2023-07-15T06:15:54.989Z"
   },
   {
    "duration": 26,
    "start_time": "2023-07-15T06:15:55.007Z"
   },
   {
    "duration": 25,
    "start_time": "2023-07-15T06:15:55.035Z"
   },
   {
    "duration": 24,
    "start_time": "2023-07-15T06:15:55.062Z"
   },
   {
    "duration": 28,
    "start_time": "2023-07-15T06:15:55.087Z"
   },
   {
    "duration": 20,
    "start_time": "2023-07-15T06:15:55.117Z"
   },
   {
    "duration": 33,
    "start_time": "2023-07-15T06:15:55.140Z"
   },
   {
    "duration": 10,
    "start_time": "2023-07-15T06:15:55.175Z"
   },
   {
    "duration": 145,
    "start_time": "2023-07-15T06:15:55.187Z"
   },
   {
    "duration": 25,
    "start_time": "2023-07-15T06:15:55.334Z"
   },
   {
    "duration": 18,
    "start_time": "2023-07-15T06:15:55.361Z"
   },
   {
    "duration": 29,
    "start_time": "2023-07-15T06:15:55.380Z"
   },
   {
    "duration": 48,
    "start_time": "2023-07-15T06:15:55.411Z"
   },
   {
    "duration": 448,
    "start_time": "2023-07-15T06:15:55.461Z"
   },
   {
    "duration": 25,
    "start_time": "2023-07-15T06:15:55.910Z"
   },
   {
    "duration": 951,
    "start_time": "2023-07-15T06:15:55.937Z"
   },
   {
    "duration": 73,
    "start_time": "2023-07-15T06:15:56.889Z"
   },
   {
    "duration": 544,
    "start_time": "2023-07-15T06:15:56.964Z"
   },
   {
    "duration": 0,
    "start_time": "2023-07-15T06:15:57.510Z"
   },
   {
    "duration": 0,
    "start_time": "2023-07-15T06:15:57.512Z"
   },
   {
    "duration": 0,
    "start_time": "2023-07-15T06:15:57.513Z"
   },
   {
    "duration": 0,
    "start_time": "2023-07-15T06:15:57.513Z"
   },
   {
    "duration": 0,
    "start_time": "2023-07-15T06:15:57.514Z"
   },
   {
    "duration": 0,
    "start_time": "2023-07-15T06:15:57.516Z"
   },
   {
    "duration": 0,
    "start_time": "2023-07-15T06:15:57.517Z"
   },
   {
    "duration": 0,
    "start_time": "2023-07-15T06:15:57.518Z"
   },
   {
    "duration": 0,
    "start_time": "2023-07-15T06:15:57.519Z"
   },
   {
    "duration": 0,
    "start_time": "2023-07-15T06:15:57.520Z"
   },
   {
    "duration": 0,
    "start_time": "2023-07-15T06:15:57.521Z"
   },
   {
    "duration": 0,
    "start_time": "2023-07-15T06:15:57.522Z"
   },
   {
    "duration": 946,
    "start_time": "2023-07-15T06:18:37.475Z"
   },
   {
    "duration": 141,
    "start_time": "2023-07-15T06:18:51.492Z"
   },
   {
    "duration": 497,
    "start_time": "2023-07-15T06:25:07.456Z"
   },
   {
    "duration": 26,
    "start_time": "2023-07-15T06:25:09.606Z"
   },
   {
    "duration": 800,
    "start_time": "2023-07-15T06:25:31.690Z"
   },
   {
    "duration": 141,
    "start_time": "2023-07-15T06:27:15.161Z"
   },
   {
    "duration": 80,
    "start_time": "2023-07-15T06:29:02.193Z"
   },
   {
    "duration": 13,
    "start_time": "2023-07-15T06:30:45.205Z"
   },
   {
    "duration": 572,
    "start_time": "2023-07-15T06:30:49.131Z"
   },
   {
    "duration": 25,
    "start_time": "2023-07-15T06:31:21.731Z"
   },
   {
    "duration": 2523,
    "start_time": "2023-07-15T06:31:27.036Z"
   },
   {
    "duration": 74,
    "start_time": "2023-07-15T06:32:54.061Z"
   },
   {
    "duration": 63,
    "start_time": "2023-07-15T06:33:42.316Z"
   },
   {
    "duration": 34,
    "start_time": "2023-07-15T06:34:39.801Z"
   },
   {
    "duration": 2368,
    "start_time": "2023-07-15T06:34:43.958Z"
   },
   {
    "duration": 114,
    "start_time": "2023-07-15T06:34:46.328Z"
   },
   {
    "duration": 490,
    "start_time": "2023-07-15T06:35:10.989Z"
   },
   {
    "duration": 124,
    "start_time": "2023-07-15T06:36:44.343Z"
   },
   {
    "duration": 14,
    "start_time": "2023-07-15T06:37:03.214Z"
   },
   {
    "duration": 221,
    "start_time": "2023-07-15T06:37:07.703Z"
   },
   {
    "duration": 21,
    "start_time": "2023-07-15T06:39:22.040Z"
   },
   {
    "duration": 29,
    "start_time": "2023-07-15T06:39:49.809Z"
   },
   {
    "duration": 1522,
    "start_time": "2023-07-15T06:40:46.209Z"
   },
   {
    "duration": 197,
    "start_time": "2023-07-15T06:43:08.538Z"
   },
   {
    "duration": 24,
    "start_time": "2023-07-15T06:44:25.243Z"
   },
   {
    "duration": 17,
    "start_time": "2023-07-15T06:44:31.875Z"
   },
   {
    "duration": 164,
    "start_time": "2023-07-15T06:44:35.203Z"
   },
   {
    "duration": 15,
    "start_time": "2023-07-15T06:46:23.324Z"
   },
   {
    "duration": 12,
    "start_time": "2023-07-15T06:46:43.525Z"
   },
   {
    "duration": 18,
    "start_time": "2023-07-15T06:46:56.326Z"
   },
   {
    "duration": 15,
    "start_time": "2023-07-15T06:47:27.518Z"
   },
   {
    "duration": 74,
    "start_time": "2023-07-15T06:48:17.429Z"
   },
   {
    "duration": 67,
    "start_time": "2023-07-15T06:48:32.461Z"
   },
   {
    "duration": 14,
    "start_time": "2023-07-15T06:48:56.230Z"
   },
   {
    "duration": 9,
    "start_time": "2023-07-15T06:54:59.033Z"
   },
   {
    "duration": 454,
    "start_time": "2023-07-15T06:56:41.634Z"
   },
   {
    "duration": 1082,
    "start_time": "2023-07-17T13:26:35.885Z"
   },
   {
    "duration": 164,
    "start_time": "2023-07-17T13:26:36.968Z"
   },
   {
    "duration": 10,
    "start_time": "2023-07-17T13:26:37.133Z"
   },
   {
    "duration": 39,
    "start_time": "2023-07-17T13:26:37.145Z"
   },
   {
    "duration": 12,
    "start_time": "2023-07-17T13:26:37.186Z"
   },
   {
    "duration": 22,
    "start_time": "2023-07-17T13:26:37.199Z"
   },
   {
    "duration": 6,
    "start_time": "2023-07-17T13:26:37.222Z"
   },
   {
    "duration": 24,
    "start_time": "2023-07-17T13:26:37.229Z"
   },
   {
    "duration": 16,
    "start_time": "2023-07-17T13:26:37.255Z"
   },
   {
    "duration": 27,
    "start_time": "2023-07-17T13:26:37.272Z"
   },
   {
    "duration": 36,
    "start_time": "2023-07-17T13:26:37.301Z"
   },
   {
    "duration": 19,
    "start_time": "2023-07-17T13:26:37.338Z"
   },
   {
    "duration": 478,
    "start_time": "2023-07-17T13:26:37.359Z"
   },
   {
    "duration": 12,
    "start_time": "2023-07-17T13:26:37.839Z"
   },
   {
    "duration": 8,
    "start_time": "2023-07-17T13:26:37.852Z"
   },
   {
    "duration": 14,
    "start_time": "2023-07-17T13:26:37.861Z"
   },
   {
    "duration": 9,
    "start_time": "2023-07-17T13:26:37.876Z"
   },
   {
    "duration": 399,
    "start_time": "2023-07-17T13:26:37.887Z"
   },
   {
    "duration": 28,
    "start_time": "2023-07-17T13:26:38.288Z"
   },
   {
    "duration": 773,
    "start_time": "2023-07-17T13:26:38.318Z"
   },
   {
    "duration": 128,
    "start_time": "2023-07-17T13:26:39.092Z"
   },
   {
    "duration": 85,
    "start_time": "2023-07-17T13:26:39.222Z"
   },
   {
    "duration": 457,
    "start_time": "2023-07-17T13:26:39.309Z"
   },
   {
    "duration": 18,
    "start_time": "2023-07-17T13:26:39.768Z"
   },
   {
    "duration": 645,
    "start_time": "2023-07-17T13:26:39.788Z"
   },
   {
    "duration": 105,
    "start_time": "2023-07-17T13:26:40.434Z"
   },
   {
    "duration": 66,
    "start_time": "2023-07-17T13:26:40.541Z"
   },
   {
    "duration": 99,
    "start_time": "2023-07-17T13:26:40.609Z"
   },
   {
    "duration": 453,
    "start_time": "2023-07-17T13:26:40.709Z"
   },
   {
    "duration": 24,
    "start_time": "2023-07-17T13:26:41.163Z"
   },
   {
    "duration": 1930,
    "start_time": "2023-07-17T13:26:41.188Z"
   },
   {
    "duration": 387,
    "start_time": "2023-07-17T13:26:43.120Z"
   },
   {
    "duration": 98,
    "start_time": "2023-07-17T13:26:43.509Z"
   },
   {
    "duration": 97,
    "start_time": "2023-07-17T13:26:43.609Z"
   },
   {
    "duration": 189,
    "start_time": "2023-07-17T13:26:43.708Z"
   },
   {
    "duration": 17,
    "start_time": "2023-07-17T13:26:43.898Z"
   },
   {
    "duration": 1217,
    "start_time": "2023-07-17T13:26:43.917Z"
   },
   {
    "duration": 134,
    "start_time": "2023-07-17T13:26:45.135Z"
   },
   {
    "duration": 136,
    "start_time": "2023-07-17T13:26:45.270Z"
   },
   {
    "duration": 13,
    "start_time": "2023-07-17T13:26:45.408Z"
   },
   {
    "duration": 82,
    "start_time": "2023-07-17T13:26:45.424Z"
   },
   {
    "duration": 142,
    "start_time": "2023-07-17T13:26:45.508Z"
   },
   {
    "duration": 3,
    "start_time": "2023-07-17T13:52:38.824Z"
   },
   {
    "duration": 49,
    "start_time": "2023-07-17T13:52:38.853Z"
   },
   {
    "duration": 11,
    "start_time": "2023-07-17T13:52:38.904Z"
   },
   {
    "duration": 65,
    "start_time": "2023-07-17T13:52:38.916Z"
   },
   {
    "duration": 12,
    "start_time": "2023-07-17T13:52:38.982Z"
   },
   {
    "duration": 21,
    "start_time": "2023-07-17T13:52:38.996Z"
   },
   {
    "duration": 5,
    "start_time": "2023-07-17T13:52:39.018Z"
   },
   {
    "duration": 5,
    "start_time": "2023-07-17T13:52:39.024Z"
   },
   {
    "duration": 6,
    "start_time": "2023-07-17T13:52:39.031Z"
   },
   {
    "duration": 14,
    "start_time": "2023-07-17T13:52:39.038Z"
   },
   {
    "duration": 16,
    "start_time": "2023-07-17T13:52:39.053Z"
   },
   {
    "duration": 8,
    "start_time": "2023-07-17T13:52:39.071Z"
   },
   {
    "duration": 116,
    "start_time": "2023-07-17T13:52:39.080Z"
   },
   {
    "duration": 17,
    "start_time": "2023-07-17T13:52:39.197Z"
   },
   {
    "duration": 21,
    "start_time": "2023-07-17T13:52:39.217Z"
   },
   {
    "duration": 17,
    "start_time": "2023-07-17T13:52:39.240Z"
   },
   {
    "duration": 7,
    "start_time": "2023-07-17T13:52:39.258Z"
   },
   {
    "duration": 376,
    "start_time": "2023-07-17T13:52:39.266Z"
   },
   {
    "duration": 22,
    "start_time": "2023-07-17T13:52:39.643Z"
   },
   {
    "duration": 807,
    "start_time": "2023-07-17T13:52:39.666Z"
   },
   {
    "duration": 132,
    "start_time": "2023-07-17T13:52:40.474Z"
   },
   {
    "duration": 23,
    "start_time": "2023-07-17T13:52:40.607Z"
   },
   {
    "duration": 550,
    "start_time": "2023-07-17T13:52:40.633Z"
   },
   {
    "duration": 25,
    "start_time": "2023-07-17T13:52:41.185Z"
   },
   {
    "duration": 652,
    "start_time": "2023-07-17T13:52:41.212Z"
   },
   {
    "duration": 107,
    "start_time": "2023-07-17T13:52:41.865Z"
   },
   {
    "duration": 42,
    "start_time": "2023-07-17T13:52:41.974Z"
   },
   {
    "duration": 97,
    "start_time": "2023-07-17T13:52:42.109Z"
   },
   {
    "duration": 499,
    "start_time": "2023-07-17T13:52:42.208Z"
   },
   {
    "duration": 25,
    "start_time": "2023-07-17T13:52:42.709Z"
   },
   {
    "duration": 1952,
    "start_time": "2023-07-17T13:52:42.736Z"
   },
   {
    "duration": 392,
    "start_time": "2023-07-17T13:52:44.690Z"
   },
   {
    "duration": 37,
    "start_time": "2023-07-17T13:52:45.083Z"
   },
   {
    "duration": 101,
    "start_time": "2023-07-17T13:52:45.206Z"
   },
   {
    "duration": 193,
    "start_time": "2023-07-17T13:52:45.308Z"
   },
   {
    "duration": 14,
    "start_time": "2023-07-17T13:52:45.503Z"
   },
   {
    "duration": 1238,
    "start_time": "2023-07-17T13:52:45.518Z"
   },
   {
    "duration": 137,
    "start_time": "2023-07-17T13:52:46.758Z"
   },
   {
    "duration": 20,
    "start_time": "2023-07-17T13:52:46.896Z"
   },
   {
    "duration": 96,
    "start_time": "2023-07-17T13:52:46.918Z"
   },
   {
    "duration": 104,
    "start_time": "2023-07-17T13:52:47.016Z"
   },
   {
    "duration": 400,
    "start_time": "2023-07-17T13:52:47.123Z"
   },
   {
    "duration": 1159,
    "start_time": "2023-07-18T05:33:14.217Z"
   },
   {
    "duration": 177,
    "start_time": "2023-07-18T05:33:15.378Z"
   },
   {
    "duration": 14,
    "start_time": "2023-07-18T05:33:15.557Z"
   },
   {
    "duration": 47,
    "start_time": "2023-07-18T05:33:15.573Z"
   },
   {
    "duration": 24,
    "start_time": "2023-07-18T05:33:15.622Z"
   },
   {
    "duration": 35,
    "start_time": "2023-07-18T05:33:15.648Z"
   },
   {
    "duration": 7,
    "start_time": "2023-07-18T05:33:15.685Z"
   },
   {
    "duration": 30,
    "start_time": "2023-07-18T05:33:15.693Z"
   },
   {
    "duration": 28,
    "start_time": "2023-07-18T05:33:15.725Z"
   },
   {
    "duration": 26,
    "start_time": "2023-07-18T05:33:15.756Z"
   },
   {
    "duration": 60,
    "start_time": "2023-07-18T05:33:15.784Z"
   },
   {
    "duration": 24,
    "start_time": "2023-07-18T05:33:15.846Z"
   },
   {
    "duration": 618,
    "start_time": "2023-07-18T05:33:15.872Z"
   },
   {
    "duration": 14,
    "start_time": "2023-07-18T05:33:16.492Z"
   },
   {
    "duration": 4,
    "start_time": "2023-07-18T05:33:16.508Z"
   },
   {
    "duration": 10,
    "start_time": "2023-07-18T05:33:16.513Z"
   },
   {
    "duration": 20,
    "start_time": "2023-07-18T05:33:16.525Z"
   },
   {
    "duration": 477,
    "start_time": "2023-07-18T05:33:16.546Z"
   },
   {
    "duration": 27,
    "start_time": "2023-07-18T05:33:17.025Z"
   },
   {
    "duration": 991,
    "start_time": "2023-07-18T05:33:17.066Z"
   },
   {
    "duration": 174,
    "start_time": "2023-07-18T05:33:18.059Z"
   },
   {
    "duration": 134,
    "start_time": "2023-07-18T05:33:18.234Z"
   },
   {
    "duration": 572,
    "start_time": "2023-07-18T05:33:18.370Z"
   },
   {
    "duration": 33,
    "start_time": "2023-07-18T05:33:18.945Z"
   },
   {
    "duration": 862,
    "start_time": "2023-07-18T05:33:18.980Z"
   },
   {
    "duration": 135,
    "start_time": "2023-07-18T05:33:19.844Z"
   },
   {
    "duration": 93,
    "start_time": "2023-07-18T05:33:19.981Z"
   },
   {
    "duration": 99,
    "start_time": "2023-07-18T05:33:20.077Z"
   },
   {
    "duration": 655,
    "start_time": "2023-07-18T05:33:20.178Z"
   },
   {
    "duration": 41,
    "start_time": "2023-07-18T05:33:20.835Z"
   },
   {
    "duration": 34706,
    "start_time": "2023-07-18T05:33:20.878Z"
   },
   {
    "duration": 499,
    "start_time": "2023-07-18T05:33:55.586Z"
   },
   {
    "duration": 81,
    "start_time": "2023-07-18T05:33:56.087Z"
   },
   {
    "duration": 101,
    "start_time": "2023-07-18T05:33:56.170Z"
   },
   {
    "duration": 249,
    "start_time": "2023-07-18T05:33:56.273Z"
   },
   {
    "duration": 17,
    "start_time": "2023-07-18T05:33:56.524Z"
   },
   {
    "duration": 7748,
    "start_time": "2023-07-18T05:33:56.544Z"
   },
   {
    "duration": 166,
    "start_time": "2023-07-18T05:34:04.294Z"
   },
   {
    "duration": 104,
    "start_time": "2023-07-18T05:34:04.467Z"
   },
   {
    "duration": 105,
    "start_time": "2023-07-18T05:34:04.573Z"
   },
   {
    "duration": 7,
    "start_time": "2023-07-18T05:34:04.680Z"
   },
   {
    "duration": 557,
    "start_time": "2023-07-18T05:34:04.689Z"
   },
   {
    "duration": 4,
    "start_time": "2023-07-18T05:36:16.758Z"
   },
   {
    "duration": 67,
    "start_time": "2023-07-18T05:36:16.764Z"
   },
   {
    "duration": 15,
    "start_time": "2023-07-18T05:36:16.833Z"
   },
   {
    "duration": 64,
    "start_time": "2023-07-18T05:36:16.850Z"
   },
   {
    "duration": 15,
    "start_time": "2023-07-18T05:36:16.917Z"
   },
   {
    "duration": 40,
    "start_time": "2023-07-18T05:36:16.933Z"
   },
   {
    "duration": 9,
    "start_time": "2023-07-18T05:36:16.975Z"
   },
   {
    "duration": 21,
    "start_time": "2023-07-18T05:36:16.986Z"
   },
   {
    "duration": 70,
    "start_time": "2023-07-18T05:36:17.009Z"
   },
   {
    "duration": 44,
    "start_time": "2023-07-18T05:36:17.081Z"
   },
   {
    "duration": 49,
    "start_time": "2023-07-18T05:36:17.128Z"
   },
   {
    "duration": 29,
    "start_time": "2023-07-18T05:36:17.179Z"
   },
   {
    "duration": 147,
    "start_time": "2023-07-18T05:36:17.210Z"
   },
   {
    "duration": 20,
    "start_time": "2023-07-18T05:36:17.359Z"
   },
   {
    "duration": 8,
    "start_time": "2023-07-18T05:36:17.382Z"
   },
   {
    "duration": 15,
    "start_time": "2023-07-18T05:36:17.392Z"
   },
   {
    "duration": 12,
    "start_time": "2023-07-18T05:36:17.408Z"
   },
   {
    "duration": 502,
    "start_time": "2023-07-18T05:36:17.422Z"
   },
   {
    "duration": 28,
    "start_time": "2023-07-18T05:36:17.925Z"
   },
   {
    "duration": 1053,
    "start_time": "2023-07-18T05:36:17.966Z"
   },
   {
    "duration": 171,
    "start_time": "2023-07-18T05:36:19.021Z"
   },
   {
    "duration": 73,
    "start_time": "2023-07-18T05:36:19.195Z"
   },
   {
    "duration": 584,
    "start_time": "2023-07-18T05:36:19.270Z"
   },
   {
    "duration": 34,
    "start_time": "2023-07-18T05:36:19.856Z"
   },
   {
    "duration": 12495,
    "start_time": "2023-07-18T05:36:19.892Z"
   },
   {
    "duration": 144,
    "start_time": "2023-07-18T05:36:32.391Z"
   },
   {
    "duration": 41,
    "start_time": "2023-07-18T05:36:32.538Z"
   },
   {
    "duration": 91,
    "start_time": "2023-07-18T05:36:32.581Z"
   },
   {
    "duration": 680,
    "start_time": "2023-07-18T05:36:32.676Z"
   },
   {
    "duration": 41,
    "start_time": "2023-07-18T05:36:33.358Z"
   },
   {
    "duration": 187538,
    "start_time": "2023-07-18T05:36:33.401Z"
   },
   {
    "duration": 503,
    "start_time": "2023-07-18T05:39:40.941Z"
   },
   {
    "duration": 121,
    "start_time": "2023-07-18T05:39:41.446Z"
   },
   {
    "duration": 99,
    "start_time": "2023-07-18T05:39:41.570Z"
   },
   {
    "duration": 251,
    "start_time": "2023-07-18T05:39:41.671Z"
   },
   {
    "duration": 17,
    "start_time": "2023-07-18T05:39:41.924Z"
   },
   {
    "duration": 81180,
    "start_time": "2023-07-18T05:39:41.943Z"
   },
   {
    "duration": 179,
    "start_time": "2023-07-18T05:41:03.124Z"
   },
   {
    "duration": 69,
    "start_time": "2023-07-18T05:41:03.305Z"
   },
   {
    "duration": 202,
    "start_time": "2023-07-18T05:41:03.376Z"
   },
   {
    "duration": 8,
    "start_time": "2023-07-18T05:41:03.579Z"
   },
   {
    "duration": 555,
    "start_time": "2023-07-18T05:41:03.589Z"
   },
   {
    "duration": 4,
    "start_time": "2023-07-18T05:41:34.770Z"
   },
   {
    "duration": 68,
    "start_time": "2023-07-18T05:41:34.780Z"
   },
   {
    "duration": 19,
    "start_time": "2023-07-18T05:41:34.851Z"
   },
   {
    "duration": 49,
    "start_time": "2023-07-18T05:41:34.872Z"
   },
   {
    "duration": 14,
    "start_time": "2023-07-18T05:41:34.923Z"
   },
   {
    "duration": 46,
    "start_time": "2023-07-18T05:41:34.940Z"
   },
   {
    "duration": 6,
    "start_time": "2023-07-18T05:41:34.988Z"
   },
   {
    "duration": 15,
    "start_time": "2023-07-18T05:41:34.996Z"
   },
   {
    "duration": 30,
    "start_time": "2023-07-18T05:41:35.013Z"
   },
   {
    "duration": 14,
    "start_time": "2023-07-18T05:41:35.045Z"
   },
   {
    "duration": 29,
    "start_time": "2023-07-18T05:41:35.061Z"
   },
   {
    "duration": 13,
    "start_time": "2023-07-18T05:41:35.092Z"
   },
   {
    "duration": 130,
    "start_time": "2023-07-18T05:41:35.106Z"
   },
   {
    "duration": 14,
    "start_time": "2023-07-18T05:41:35.238Z"
   },
   {
    "duration": 5,
    "start_time": "2023-07-18T05:41:35.266Z"
   },
   {
    "duration": 11,
    "start_time": "2023-07-18T05:41:35.272Z"
   },
   {
    "duration": 9,
    "start_time": "2023-07-18T05:41:35.285Z"
   },
   {
    "duration": 464,
    "start_time": "2023-07-18T05:41:35.295Z"
   },
   {
    "duration": 27,
    "start_time": "2023-07-18T05:41:35.768Z"
   },
   {
    "duration": 3037,
    "start_time": "2023-07-18T05:41:35.798Z"
   },
   {
    "duration": 174,
    "start_time": "2023-07-18T05:41:38.837Z"
   },
   {
    "duration": 61,
    "start_time": "2023-07-18T05:41:39.013Z"
   },
   {
    "duration": 574,
    "start_time": "2023-07-18T05:41:39.166Z"
   },
   {
    "duration": 32,
    "start_time": "2023-07-18T05:41:39.742Z"
   },
   {
    "duration": 12229,
    "start_time": "2023-07-18T05:41:39.776Z"
   },
   {
    "duration": 135,
    "start_time": "2023-07-18T05:41:52.007Z"
   },
   {
    "duration": 38,
    "start_time": "2023-07-18T05:41:52.144Z"
   },
   {
    "duration": 102,
    "start_time": "2023-07-18T05:41:52.267Z"
   },
   {
    "duration": 585,
    "start_time": "2023-07-18T05:41:52.371Z"
   },
   {
    "duration": 36,
    "start_time": "2023-07-18T05:41:52.958Z"
   },
   {
    "duration": 189291,
    "start_time": "2023-07-18T05:41:52.996Z"
   },
   {
    "duration": 531,
    "start_time": "2023-07-18T05:45:02.289Z"
   },
   {
    "duration": 59,
    "start_time": "2023-07-18T05:45:02.822Z"
   },
   {
    "duration": 191,
    "start_time": "2023-07-18T05:45:02.884Z"
   },
   {
    "duration": 257,
    "start_time": "2023-07-18T05:45:03.079Z"
   },
   {
    "duration": 16,
    "start_time": "2023-07-18T05:45:03.338Z"
   },
   {
    "duration": 81597,
    "start_time": "2023-07-18T05:45:03.356Z"
   },
   {
    "duration": 179,
    "start_time": "2023-07-18T05:46:24.955Z"
   },
   {
    "duration": 45,
    "start_time": "2023-07-18T05:46:25.136Z"
   },
   {
    "duration": 98,
    "start_time": "2023-07-18T05:46:25.184Z"
   },
   {
    "duration": 91,
    "start_time": "2023-07-18T05:46:25.287Z"
   },
   {
    "duration": 518,
    "start_time": "2023-07-18T05:46:25.382Z"
   },
   {
    "duration": 5,
    "start_time": "2023-07-18T05:46:59.041Z"
   },
   {
    "duration": 60,
    "start_time": "2023-07-18T05:46:59.048Z"
   },
   {
    "duration": 13,
    "start_time": "2023-07-18T05:46:59.110Z"
   },
   {
    "duration": 51,
    "start_time": "2023-07-18T05:46:59.125Z"
   },
   {
    "duration": 14,
    "start_time": "2023-07-18T05:46:59.178Z"
   },
   {
    "duration": 27,
    "start_time": "2023-07-18T05:46:59.194Z"
   },
   {
    "duration": 7,
    "start_time": "2023-07-18T05:46:59.222Z"
   },
   {
    "duration": 36,
    "start_time": "2023-07-18T05:46:59.231Z"
   },
   {
    "duration": 4,
    "start_time": "2023-07-18T05:46:59.271Z"
   },
   {
    "duration": 15,
    "start_time": "2023-07-18T05:46:59.277Z"
   },
   {
    "duration": 21,
    "start_time": "2023-07-18T05:46:59.294Z"
   },
   {
    "duration": 10,
    "start_time": "2023-07-18T05:46:59.317Z"
   },
   {
    "duration": 159,
    "start_time": "2023-07-18T05:46:59.329Z"
   },
   {
    "duration": 17,
    "start_time": "2023-07-18T05:46:59.490Z"
   },
   {
    "duration": 4,
    "start_time": "2023-07-18T05:46:59.509Z"
   },
   {
    "duration": 6,
    "start_time": "2023-07-18T05:46:59.515Z"
   },
   {
    "duration": 7,
    "start_time": "2023-07-18T05:46:59.523Z"
   },
   {
    "duration": 496,
    "start_time": "2023-07-18T05:46:59.532Z"
   },
   {
    "duration": 39,
    "start_time": "2023-07-18T05:47:00.030Z"
   },
   {
    "duration": 69751,
    "start_time": "2023-07-18T05:47:00.071Z"
   },
   {
    "duration": 160,
    "start_time": "2023-07-18T05:48:09.824Z"
   },
   {
    "duration": 84,
    "start_time": "2023-07-18T05:48:09.986Z"
   },
   {
    "duration": 581,
    "start_time": "2023-07-18T05:48:10.071Z"
   },
   {
    "duration": 25,
    "start_time": "2023-07-18T05:48:10.656Z"
   },
   {
    "duration": 139246,
    "start_time": "2023-07-18T05:48:10.683Z"
   },
   {
    "duration": 144,
    "start_time": "2023-07-18T05:50:29.932Z"
   },
   {
    "duration": 188,
    "start_time": "2023-07-18T05:50:30.079Z"
   },
   {
    "duration": 16,
    "start_time": "2023-07-18T05:50:30.270Z"
   },
   {
    "duration": 600,
    "start_time": "2023-07-18T05:50:30.288Z"
   },
   {
    "duration": 44,
    "start_time": "2023-07-18T05:50:30.891Z"
   },
   {
    "duration": 188100,
    "start_time": "2023-07-18T05:50:30.937Z"
   },
   {
    "duration": 512,
    "start_time": "2023-07-18T05:53:39.039Z"
   },
   {
    "duration": 115,
    "start_time": "2023-07-18T05:53:39.553Z"
   },
   {
    "duration": 101,
    "start_time": "2023-07-18T05:53:39.671Z"
   },
   {
    "duration": 263,
    "start_time": "2023-07-18T05:53:39.774Z"
   },
   {
    "duration": 16,
    "start_time": "2023-07-18T05:53:40.039Z"
   },
   {
    "duration": 79963,
    "start_time": "2023-07-18T05:53:40.067Z"
   },
   {
    "duration": 182,
    "start_time": "2023-07-18T05:55:00.032Z"
   },
   {
    "duration": 158,
    "start_time": "2023-07-18T05:55:00.216Z"
   },
   {
    "duration": 17,
    "start_time": "2023-07-18T05:55:00.466Z"
   },
   {
    "duration": 27,
    "start_time": "2023-07-18T05:55:00.485Z"
   },
   {
    "duration": 521,
    "start_time": "2023-07-18T05:55:00.514Z"
   },
   {
    "duration": 89,
    "start_time": "2023-07-18T06:05:09.709Z"
   },
   {
    "duration": 4,
    "start_time": "2023-07-18T06:05:17.312Z"
   },
   {
    "duration": 56,
    "start_time": "2023-07-18T06:05:17.325Z"
   },
   {
    "duration": 16,
    "start_time": "2023-07-18T06:05:17.384Z"
   },
   {
    "duration": 69,
    "start_time": "2023-07-18T06:05:17.403Z"
   },
   {
    "duration": 16,
    "start_time": "2023-07-18T06:05:17.474Z"
   },
   {
    "duration": 27,
    "start_time": "2023-07-18T06:05:17.493Z"
   },
   {
    "duration": 7,
    "start_time": "2023-07-18T06:05:17.522Z"
   },
   {
    "duration": 36,
    "start_time": "2023-07-18T06:05:17.531Z"
   },
   {
    "duration": 10,
    "start_time": "2023-07-18T06:05:17.569Z"
   },
   {
    "duration": 17,
    "start_time": "2023-07-18T06:05:17.581Z"
   },
   {
    "duration": 27,
    "start_time": "2023-07-18T06:05:17.601Z"
   },
   {
    "duration": 13,
    "start_time": "2023-07-18T06:05:17.630Z"
   },
   {
    "duration": 147,
    "start_time": "2023-07-18T06:05:17.645Z"
   },
   {
    "duration": 14,
    "start_time": "2023-07-18T06:05:17.794Z"
   },
   {
    "duration": 4,
    "start_time": "2023-07-18T06:05:17.812Z"
   },
   {
    "duration": 10,
    "start_time": "2023-07-18T06:05:17.818Z"
   },
   {
    "duration": 39,
    "start_time": "2023-07-18T06:05:17.829Z"
   },
   {
    "duration": 482,
    "start_time": "2023-07-18T06:05:17.870Z"
   },
   {
    "duration": 33,
    "start_time": "2023-07-18T06:05:18.354Z"
   },
   {
    "duration": 137396,
    "start_time": "2023-07-18T06:05:18.389Z"
   },
   {
    "duration": 159,
    "start_time": "2023-07-18T06:07:35.786Z"
   },
   {
    "duration": 35,
    "start_time": "2023-07-18T06:07:35.947Z"
   },
   {
    "duration": 603,
    "start_time": "2023-07-18T06:07:36.066Z"
   },
   {
    "duration": 26,
    "start_time": "2023-07-18T06:07:36.671Z"
   },
   {
    "duration": 138519,
    "start_time": "2023-07-18T06:07:36.698Z"
   },
   {
    "duration": 83,
    "start_time": "2023-07-18T06:09:55.219Z"
   },
   {
    "duration": 162,
    "start_time": "2023-07-18T06:09:55.304Z"
   },
   {
    "duration": 98,
    "start_time": "2023-07-18T06:09:55.469Z"
   },
   {
    "duration": 572,
    "start_time": "2023-07-18T06:09:55.569Z"
   },
   {
    "duration": 41,
    "start_time": "2023-07-18T06:09:56.143Z"
   },
   {
    "duration": 189105,
    "start_time": "2023-07-18T06:09:56.186Z"
   },
   {
    "duration": 319,
    "start_time": "2023-07-18T06:13:05.293Z"
   },
   {
    "duration": 59,
    "start_time": "2023-07-18T06:13:05.614Z"
   },
   {
    "duration": 101,
    "start_time": "2023-07-18T06:13:05.675Z"
   },
   {
    "duration": 331,
    "start_time": "2023-07-18T06:13:05.778Z"
   },
   {
    "duration": 25,
    "start_time": "2023-07-18T06:13:06.111Z"
   },
   {
    "duration": 80209,
    "start_time": "2023-07-18T06:13:06.138Z"
   },
   {
    "duration": 94,
    "start_time": "2023-07-18T06:14:26.348Z"
   },
   {
    "duration": 32,
    "start_time": "2023-07-18T06:14:26.444Z"
   },
   {
    "duration": 101,
    "start_time": "2023-07-18T06:14:26.568Z"
   },
   {
    "duration": 8,
    "start_time": "2023-07-18T06:14:26.671Z"
   },
   {
    "duration": 506,
    "start_time": "2023-07-18T06:14:26.683Z"
   },
   {
    "duration": 316,
    "start_time": "2023-07-18T06:15:43.013Z"
   },
   {
    "duration": 101,
    "start_time": "2023-07-18T06:16:57.835Z"
   },
   {
    "duration": 350,
    "start_time": "2023-07-18T06:18:03.676Z"
   },
   {
    "duration": 55,
    "start_time": "2023-07-18T10:38:07.748Z"
   },
   {
    "duration": 1317,
    "start_time": "2023-07-18T10:38:10.202Z"
   },
   {
    "duration": 102,
    "start_time": "2023-07-18T10:38:11.521Z"
   },
   {
    "duration": 15,
    "start_time": "2023-07-18T10:38:11.625Z"
   },
   {
    "duration": 42,
    "start_time": "2023-07-18T10:38:11.642Z"
   },
   {
    "duration": 37,
    "start_time": "2023-07-18T10:38:11.686Z"
   },
   {
    "duration": 29,
    "start_time": "2023-07-18T10:38:11.726Z"
   },
   {
    "duration": 9,
    "start_time": "2023-07-18T10:38:11.757Z"
   },
   {
    "duration": 42,
    "start_time": "2023-07-18T10:38:11.768Z"
   },
   {
    "duration": 8,
    "start_time": "2023-07-18T10:38:11.813Z"
   },
   {
    "duration": 22,
    "start_time": "2023-07-18T10:38:11.825Z"
   },
   {
    "duration": 21,
    "start_time": "2023-07-18T10:38:11.850Z"
   },
   {
    "duration": 11,
    "start_time": "2023-07-18T10:38:11.873Z"
   },
   {
    "duration": 666,
    "start_time": "2023-07-18T10:38:11.886Z"
   },
   {
    "duration": 16,
    "start_time": "2023-07-18T10:38:12.555Z"
   },
   {
    "duration": 5,
    "start_time": "2023-07-18T10:38:12.573Z"
   },
   {
    "duration": 8,
    "start_time": "2023-07-18T10:38:12.579Z"
   },
   {
    "duration": 9,
    "start_time": "2023-07-18T10:38:12.608Z"
   },
   {
    "duration": 476,
    "start_time": "2023-07-18T10:38:12.619Z"
   },
   {
    "duration": 35,
    "start_time": "2023-07-18T10:38:13.097Z"
   },
   {
    "duration": 136429,
    "start_time": "2023-07-18T10:38:13.134Z"
   },
   {
    "duration": 159,
    "start_time": "2023-07-18T10:40:29.565Z"
   },
   {
    "duration": 84,
    "start_time": "2023-07-18T10:40:29.726Z"
   },
   {
    "duration": 564,
    "start_time": "2023-07-18T10:40:29.812Z"
   },
   {
    "duration": 33,
    "start_time": "2023-07-18T10:40:30.378Z"
   },
   {
    "duration": 138705,
    "start_time": "2023-07-18T10:40:30.413Z"
   },
   {
    "duration": 79,
    "start_time": "2023-07-18T10:42:49.120Z"
   },
   {
    "duration": 109,
    "start_time": "2023-07-18T10:42:49.200Z"
   },
   {
    "duration": 98,
    "start_time": "2023-07-18T10:42:49.314Z"
   },
   {
    "duration": 636,
    "start_time": "2023-07-18T10:42:49.414Z"
   },
   {
    "duration": 31,
    "start_time": "2023-07-18T10:42:50.052Z"
   },
   {
    "duration": 185543,
    "start_time": "2023-07-18T10:42:50.085Z"
   },
   {
    "duration": 343,
    "start_time": "2023-07-18T10:45:55.630Z"
   },
   {
    "duration": 47,
    "start_time": "2023-07-18T10:45:55.976Z"
   },
   {
    "duration": 94,
    "start_time": "2023-07-18T10:45:56.026Z"
   },
   {
    "duration": 249,
    "start_time": "2023-07-18T10:45:56.208Z"
   },
   {
    "duration": 16,
    "start_time": "2023-07-18T10:45:56.459Z"
   },
   {
    "duration": 78486,
    "start_time": "2023-07-18T10:45:56.477Z"
   },
   {
    "duration": 98,
    "start_time": "2023-07-18T10:47:14.965Z"
   },
   {
    "duration": 150,
    "start_time": "2023-07-18T10:47:15.065Z"
   },
   {
    "duration": 223,
    "start_time": "2023-07-18T10:47:15.218Z"
   },
   {
    "duration": 99,
    "start_time": "2023-07-18T10:47:15.442Z"
   },
   {
    "duration": 505,
    "start_time": "2023-07-18T10:47:15.543Z"
   },
   {
    "duration": 4,
    "start_time": "2023-07-18T10:47:53.208Z"
   },
   {
    "duration": 135,
    "start_time": "2023-07-18T10:47:53.215Z"
   },
   {
    "duration": 14,
    "start_time": "2023-07-18T10:47:53.352Z"
   },
   {
    "duration": 51,
    "start_time": "2023-07-18T10:47:53.368Z"
   },
   {
    "duration": 16,
    "start_time": "2023-07-18T10:47:53.420Z"
   },
   {
    "duration": 33,
    "start_time": "2023-07-18T10:47:53.438Z"
   },
   {
    "duration": 7,
    "start_time": "2023-07-18T10:47:53.473Z"
   },
   {
    "duration": 38,
    "start_time": "2023-07-18T10:47:53.482Z"
   },
   {
    "duration": 24,
    "start_time": "2023-07-18T10:47:53.522Z"
   },
   {
    "duration": 30,
    "start_time": "2023-07-18T10:47:53.549Z"
   },
   {
    "duration": 20,
    "start_time": "2023-07-18T10:47:53.581Z"
   },
   {
    "duration": 17,
    "start_time": "2023-07-18T10:47:53.602Z"
   },
   {
    "duration": 137,
    "start_time": "2023-07-18T10:47:53.620Z"
   },
   {
    "duration": 15,
    "start_time": "2023-07-18T10:47:53.758Z"
   },
   {
    "duration": 28,
    "start_time": "2023-07-18T10:47:53.775Z"
   },
   {
    "duration": 19,
    "start_time": "2023-07-18T10:47:53.805Z"
   },
   {
    "duration": 25,
    "start_time": "2023-07-18T10:47:53.826Z"
   },
   {
    "duration": 460,
    "start_time": "2023-07-18T10:47:53.854Z"
   },
   {
    "duration": 28,
    "start_time": "2023-07-18T10:47:54.316Z"
   },
   {
    "duration": 8431,
    "start_time": "2023-07-18T10:47:54.346Z"
   },
   {
    "duration": 160,
    "start_time": "2023-07-18T10:48:02.779Z"
   },
   {
    "duration": 71,
    "start_time": "2023-07-18T10:48:02.941Z"
   },
   {
    "duration": 570,
    "start_time": "2023-07-18T10:48:03.013Z"
   },
   {
    "duration": 31,
    "start_time": "2023-07-18T10:48:03.585Z"
   },
   {
    "duration": 13498,
    "start_time": "2023-07-18T10:48:03.618Z"
   },
   {
    "duration": 76,
    "start_time": "2023-07-18T10:48:17.119Z"
   },
   {
    "duration": 108,
    "start_time": "2023-07-18T10:48:17.207Z"
   },
   {
    "duration": 110,
    "start_time": "2023-07-18T10:48:17.319Z"
   },
   {
    "duration": 598,
    "start_time": "2023-07-18T10:48:17.431Z"
   },
   {
    "duration": 30,
    "start_time": "2023-07-18T10:48:18.031Z"
   },
   {
    "duration": 16010,
    "start_time": "2023-07-18T10:48:18.063Z"
   },
   {
    "duration": 333,
    "start_time": "2023-07-18T10:48:34.076Z"
   },
   {
    "duration": 105,
    "start_time": "2023-07-18T10:48:34.411Z"
   },
   {
    "duration": 99,
    "start_time": "2023-07-18T10:48:34.518Z"
   },
   {
    "duration": 295,
    "start_time": "2023-07-18T10:48:34.619Z"
   },
   {
    "duration": 18,
    "start_time": "2023-07-18T10:48:34.916Z"
   },
   {
    "duration": 3518,
    "start_time": "2023-07-18T10:48:34.936Z"
   },
   {
    "duration": 110,
    "start_time": "2023-07-18T10:48:38.456Z"
   },
   {
    "duration": 141,
    "start_time": "2023-07-18T10:48:38.568Z"
   },
   {
    "duration": 109,
    "start_time": "2023-07-18T10:48:38.712Z"
   },
   {
    "duration": 30,
    "start_time": "2023-07-18T10:48:38.823Z"
   },
   {
    "duration": 377,
    "start_time": "2023-07-18T10:48:38.855Z"
   },
   {
    "duration": 4,
    "start_time": "2023-07-18T10:50:38.349Z"
   },
   {
    "duration": 77,
    "start_time": "2023-07-18T10:50:38.355Z"
   },
   {
    "duration": 13,
    "start_time": "2023-07-18T10:50:38.434Z"
   },
   {
    "duration": 47,
    "start_time": "2023-07-18T10:50:38.449Z"
   },
   {
    "duration": 202,
    "start_time": "2023-07-18T10:50:38.508Z"
   },
   {
    "duration": 186,
    "start_time": "2023-07-18T10:50:38.712Z"
   },
   {
    "duration": 120,
    "start_time": "2023-07-18T10:50:38.900Z"
   },
   {
    "duration": 16,
    "start_time": "2023-07-18T10:50:39.022Z"
   },
   {
    "duration": 24,
    "start_time": "2023-07-18T10:50:39.040Z"
   },
   {
    "duration": 27,
    "start_time": "2023-07-18T10:50:39.067Z"
   },
   {
    "duration": 36,
    "start_time": "2023-07-18T10:50:39.096Z"
   },
   {
    "duration": 13,
    "start_time": "2023-07-18T10:50:39.134Z"
   },
   {
    "duration": 148,
    "start_time": "2023-07-18T10:50:39.149Z"
   },
   {
    "duration": 19,
    "start_time": "2023-07-18T10:50:39.300Z"
   },
   {
    "duration": 33,
    "start_time": "2023-07-18T10:50:39.321Z"
   },
   {
    "duration": 69,
    "start_time": "2023-07-18T10:50:39.357Z"
   },
   {
    "duration": 35,
    "start_time": "2023-07-18T10:50:39.428Z"
   },
   {
    "duration": 481,
    "start_time": "2023-07-18T10:50:39.465Z"
   },
   {
    "duration": 29,
    "start_time": "2023-07-18T10:50:39.948Z"
   },
   {
    "duration": 28713,
    "start_time": "2023-07-18T10:50:39.979Z"
   },
   {
    "duration": 165,
    "start_time": "2023-07-18T10:51:08.695Z"
   },
   {
    "duration": 55,
    "start_time": "2023-07-18T10:51:08.862Z"
   },
   {
    "duration": 348,
    "start_time": "2023-07-18T10:51:08.919Z"
   },
   {
    "duration": 40,
    "start_time": "2023-07-18T10:51:09.269Z"
   },
   {
    "duration": 5020,
    "start_time": "2023-07-18T10:51:09.311Z"
   },
   {
    "duration": 87,
    "start_time": "2023-07-18T10:51:14.333Z"
   },
   {
    "duration": 91,
    "start_time": "2023-07-18T10:51:14.422Z"
   },
   {
    "duration": 98,
    "start_time": "2023-07-18T10:51:14.515Z"
   },
   {
    "duration": 222,
    "start_time": "2023-07-18T10:51:14.615Z"
   },
   {
    "duration": 31,
    "start_time": "2023-07-18T10:51:14.839Z"
   },
   {
    "duration": 16151,
    "start_time": "2023-07-18T10:51:14.871Z"
   },
   {
    "duration": 334,
    "start_time": "2023-07-18T10:51:31.025Z"
   },
   {
    "duration": 63,
    "start_time": "2023-07-18T10:51:31.362Z"
   },
   {
    "duration": 399,
    "start_time": "2023-07-18T10:51:31.509Z"
   },
   {
    "duration": 376,
    "start_time": "2023-07-18T10:51:31.910Z"
   },
   {
    "duration": 197,
    "start_time": "2023-07-18T10:51:32.288Z"
   },
   {
    "duration": 3628,
    "start_time": "2023-07-18T10:51:32.487Z"
   },
   {
    "duration": 108,
    "start_time": "2023-07-18T10:51:36.118Z"
   },
   {
    "duration": 83,
    "start_time": "2023-07-18T10:51:36.229Z"
   },
   {
    "duration": 130,
    "start_time": "2023-07-18T10:51:36.319Z"
   },
   {
    "duration": 17,
    "start_time": "2023-07-18T10:51:36.452Z"
   },
   {
    "duration": 456,
    "start_time": "2023-07-18T10:51:36.471Z"
   },
   {
    "duration": 1163,
    "start_time": "2023-07-18T17:06:49.928Z"
   },
   {
    "duration": 105,
    "start_time": "2023-07-18T17:06:51.093Z"
   },
   {
    "duration": 12,
    "start_time": "2023-07-18T17:06:51.200Z"
   },
   {
    "duration": 47,
    "start_time": "2023-07-18T17:06:51.214Z"
   },
   {
    "duration": 14,
    "start_time": "2023-07-18T17:06:51.262Z"
   },
   {
    "duration": 46,
    "start_time": "2023-07-18T17:06:51.278Z"
   },
   {
    "duration": 6,
    "start_time": "2023-07-18T17:06:51.326Z"
   },
   {
    "duration": 14,
    "start_time": "2023-07-18T17:06:51.334Z"
   },
   {
    "duration": 22,
    "start_time": "2023-07-18T17:06:51.350Z"
   },
   {
    "duration": 26,
    "start_time": "2023-07-18T17:06:51.375Z"
   },
   {
    "duration": 24,
    "start_time": "2023-07-18T17:06:51.403Z"
   },
   {
    "duration": 11,
    "start_time": "2023-07-18T17:06:51.428Z"
   },
   {
    "duration": 604,
    "start_time": "2023-07-18T17:06:51.441Z"
   },
   {
    "duration": 13,
    "start_time": "2023-07-18T17:06:52.053Z"
   },
   {
    "duration": 4,
    "start_time": "2023-07-18T17:06:52.068Z"
   },
   {
    "duration": 26,
    "start_time": "2023-07-18T17:06:52.073Z"
   },
   {
    "duration": 12,
    "start_time": "2023-07-18T17:06:52.101Z"
   },
   {
    "duration": 416,
    "start_time": "2023-07-18T17:06:52.115Z"
   },
   {
    "duration": 29,
    "start_time": "2023-07-18T17:06:52.533Z"
   },
   {
    "duration": 8902,
    "start_time": "2023-07-18T17:06:52.563Z"
   },
   {
    "duration": 154,
    "start_time": "2023-07-18T17:07:01.466Z"
   },
   {
    "duration": 131,
    "start_time": "2023-07-18T17:07:01.621Z"
   },
   {
    "duration": 272,
    "start_time": "2023-07-18T17:07:01.754Z"
   },
   {
    "duration": 24,
    "start_time": "2023-07-18T17:07:02.028Z"
   },
   {
    "duration": 4360,
    "start_time": "2023-07-18T17:07:02.054Z"
   },
   {
    "duration": 75,
    "start_time": "2023-07-18T17:07:06.415Z"
   },
   {
    "duration": 67,
    "start_time": "2023-07-18T17:07:06.492Z"
   },
   {
    "duration": 99,
    "start_time": "2023-07-18T17:07:06.563Z"
   },
   {
    "duration": 218,
    "start_time": "2023-07-18T17:07:06.664Z"
   },
   {
    "duration": 28,
    "start_time": "2023-07-18T17:07:06.884Z"
   },
   {
    "duration": 14062,
    "start_time": "2023-07-18T17:07:06.913Z"
   },
   {
    "duration": 300,
    "start_time": "2023-07-18T17:07:20.977Z"
   },
   {
    "duration": 80,
    "start_time": "2023-07-18T17:07:21.278Z"
   },
   {
    "duration": 101,
    "start_time": "2023-07-18T17:07:21.360Z"
   },
   {
    "duration": 101,
    "start_time": "2023-07-18T17:07:21.463Z"
   },
   {
    "duration": 15,
    "start_time": "2023-07-18T17:07:21.566Z"
   },
   {
    "duration": 3012,
    "start_time": "2023-07-18T17:07:21.583Z"
   },
   {
    "duration": 86,
    "start_time": "2023-07-18T17:07:24.596Z"
   },
   {
    "duration": 70,
    "start_time": "2023-07-18T17:07:24.684Z"
   },
   {
    "duration": 107,
    "start_time": "2023-07-18T17:07:24.756Z"
   },
   {
    "duration": 27,
    "start_time": "2023-07-18T17:07:24.864Z"
   },
   {
    "duration": 312,
    "start_time": "2023-07-18T17:07:24.893Z"
   },
   {
    "duration": 78,
    "start_time": "2023-07-18T17:11:34.869Z"
   },
   {
    "duration": 92,
    "start_time": "2023-07-18T17:12:44.973Z"
   },
   {
    "duration": 283,
    "start_time": "2023-07-18T17:13:41.510Z"
   },
   {
    "duration": 16,
    "start_time": "2023-07-18T17:36:31.942Z"
   },
   {
    "duration": 17,
    "start_time": "2023-07-18T17:37:05.463Z"
   },
   {
    "duration": 78,
    "start_time": "2023-07-18T17:55:35.857Z"
   },
   {
    "duration": 321,
    "start_time": "2023-07-18T17:56:35.587Z"
   },
   {
    "duration": 4,
    "start_time": "2023-07-18T18:12:20.836Z"
   },
   {
    "duration": 97,
    "start_time": "2023-07-18T18:12:20.842Z"
   },
   {
    "duration": 47,
    "start_time": "2023-07-18T18:12:20.941Z"
   },
   {
    "duration": 66,
    "start_time": "2023-07-18T18:12:20.991Z"
   },
   {
    "duration": 24,
    "start_time": "2023-07-18T18:12:21.059Z"
   },
   {
    "duration": 26,
    "start_time": "2023-07-18T18:12:21.085Z"
   },
   {
    "duration": 7,
    "start_time": "2023-07-18T18:12:21.112Z"
   },
   {
    "duration": 28,
    "start_time": "2023-07-18T18:12:21.120Z"
   },
   {
    "duration": 15,
    "start_time": "2023-07-18T18:12:21.151Z"
   },
   {
    "duration": 23,
    "start_time": "2023-07-18T18:12:21.168Z"
   },
   {
    "duration": 23,
    "start_time": "2023-07-18T18:12:21.192Z"
   },
   {
    "duration": 12,
    "start_time": "2023-07-18T18:12:21.216Z"
   },
   {
    "duration": 142,
    "start_time": "2023-07-18T18:12:21.229Z"
   },
   {
    "duration": 13,
    "start_time": "2023-07-18T18:12:21.373Z"
   },
   {
    "duration": 18,
    "start_time": "2023-07-18T18:12:21.388Z"
   },
   {
    "duration": 10,
    "start_time": "2023-07-18T18:12:21.408Z"
   },
   {
    "duration": 11,
    "start_time": "2023-07-18T18:12:21.419Z"
   },
   {
    "duration": 430,
    "start_time": "2023-07-18T18:12:21.432Z"
   },
   {
    "duration": 24,
    "start_time": "2023-07-18T18:12:21.864Z"
   },
   {
    "duration": 8722,
    "start_time": "2023-07-18T18:12:21.890Z"
   },
   {
    "duration": 147,
    "start_time": "2023-07-18T18:12:30.614Z"
   },
   {
    "duration": 90,
    "start_time": "2023-07-18T18:12:30.763Z"
   },
   {
    "duration": 252,
    "start_time": "2023-07-18T18:12:30.855Z"
   },
   {
    "duration": 25,
    "start_time": "2023-07-18T18:12:31.110Z"
   },
   {
    "duration": 4396,
    "start_time": "2023-07-18T18:12:31.137Z"
   },
   {
    "duration": 76,
    "start_time": "2023-07-18T18:12:35.535Z"
   },
   {
    "duration": 45,
    "start_time": "2023-07-18T18:12:35.613Z"
   },
   {
    "duration": 104,
    "start_time": "2023-07-18T18:12:35.660Z"
   },
   {
    "duration": 271,
    "start_time": "2023-07-18T18:12:35.766Z"
   },
   {
    "duration": 38,
    "start_time": "2023-07-18T18:12:36.039Z"
   },
   {
    "duration": 14126,
    "start_time": "2023-07-18T18:12:36.078Z"
   },
   {
    "duration": 309,
    "start_time": "2023-07-18T18:12:50.206Z"
   },
   {
    "duration": 142,
    "start_time": "2023-07-18T18:12:50.517Z"
   },
   {
    "duration": 93,
    "start_time": "2023-07-18T18:12:50.661Z"
   },
   {
    "duration": 130,
    "start_time": "2023-07-18T18:12:50.756Z"
   },
   {
    "duration": 16,
    "start_time": "2023-07-18T18:12:50.888Z"
   },
   {
    "duration": 3031,
    "start_time": "2023-07-18T18:12:50.906Z"
   },
   {
    "duration": 90,
    "start_time": "2023-07-18T18:12:53.938Z"
   },
   {
    "duration": 33,
    "start_time": "2023-07-18T18:12:54.030Z"
   },
   {
    "duration": 111,
    "start_time": "2023-07-18T18:12:54.155Z"
   },
   {
    "duration": 415,
    "start_time": "2023-07-18T18:12:54.268Z"
   },
   {
    "duration": 0,
    "start_time": "2023-07-18T18:12:54.685Z"
   },
   {
    "duration": 4,
    "start_time": "2023-07-18T18:14:10.015Z"
   },
   {
    "duration": 64,
    "start_time": "2023-07-18T18:14:10.021Z"
   },
   {
    "duration": 13,
    "start_time": "2023-07-18T18:14:10.087Z"
   },
   {
    "duration": 61,
    "start_time": "2023-07-18T18:14:10.101Z"
   },
   {
    "duration": 14,
    "start_time": "2023-07-18T18:14:10.165Z"
   },
   {
    "duration": 25,
    "start_time": "2023-07-18T18:14:10.180Z"
   },
   {
    "duration": 6,
    "start_time": "2023-07-18T18:14:10.206Z"
   },
   {
    "duration": 24,
    "start_time": "2023-07-18T18:14:10.214Z"
   },
   {
    "duration": 14,
    "start_time": "2023-07-18T18:14:10.240Z"
   },
   {
    "duration": 14,
    "start_time": "2023-07-18T18:14:10.255Z"
   },
   {
    "duration": 18,
    "start_time": "2023-07-18T18:14:10.271Z"
   },
   {
    "duration": 12,
    "start_time": "2023-07-18T18:14:10.291Z"
   },
   {
    "duration": 151,
    "start_time": "2023-07-18T18:14:10.304Z"
   },
   {
    "duration": 14,
    "start_time": "2023-07-18T18:14:10.456Z"
   },
   {
    "duration": 8,
    "start_time": "2023-07-18T18:14:10.472Z"
   },
   {
    "duration": 11,
    "start_time": "2023-07-18T18:14:10.481Z"
   },
   {
    "duration": 11,
    "start_time": "2023-07-18T18:14:10.494Z"
   },
   {
    "duration": 451,
    "start_time": "2023-07-18T18:14:10.507Z"
   },
   {
    "duration": 30,
    "start_time": "2023-07-18T18:14:10.960Z"
   },
   {
    "duration": 8943,
    "start_time": "2023-07-18T18:14:10.992Z"
   },
   {
    "duration": 153,
    "start_time": "2023-07-18T18:14:19.937Z"
   },
   {
    "duration": 63,
    "start_time": "2023-07-18T18:14:20.092Z"
   },
   {
    "duration": 254,
    "start_time": "2023-07-18T18:14:20.158Z"
   },
   {
    "duration": 25,
    "start_time": "2023-07-18T18:14:20.416Z"
   },
   {
    "duration": 4468,
    "start_time": "2023-07-18T18:14:20.443Z"
   },
   {
    "duration": 77,
    "start_time": "2023-07-18T18:14:24.913Z"
   },
   {
    "duration": 66,
    "start_time": "2023-07-18T18:14:24.992Z"
   },
   {
    "duration": 102,
    "start_time": "2023-07-18T18:14:25.060Z"
   },
   {
    "duration": 270,
    "start_time": "2023-07-18T18:14:25.166Z"
   },
   {
    "duration": 33,
    "start_time": "2023-07-18T18:14:25.438Z"
   },
   {
    "duration": 14745,
    "start_time": "2023-07-18T18:14:25.473Z"
   },
   {
    "duration": 293,
    "start_time": "2023-07-18T18:14:40.220Z"
   },
   {
    "duration": 44,
    "start_time": "2023-07-18T18:14:40.515Z"
   },
   {
    "duration": 198,
    "start_time": "2023-07-18T18:14:40.560Z"
   },
   {
    "duration": 93,
    "start_time": "2023-07-18T18:14:40.760Z"
   },
   {
    "duration": 15,
    "start_time": "2023-07-18T18:14:40.855Z"
   },
   {
    "duration": 3374,
    "start_time": "2023-07-18T18:14:40.871Z"
   },
   {
    "duration": 92,
    "start_time": "2023-07-18T18:14:44.247Z"
   },
   {
    "duration": 27,
    "start_time": "2023-07-18T18:14:44.340Z"
   },
   {
    "duration": 189,
    "start_time": "2023-07-18T18:14:44.369Z"
   },
   {
    "duration": 323,
    "start_time": "2023-07-18T18:14:44.560Z"
   },
   {
    "duration": 0,
    "start_time": "2023-07-18T18:14:44.885Z"
   },
   {
    "duration": 295,
    "start_time": "2023-07-18T18:15:40.920Z"
   },
   {
    "duration": 164,
    "start_time": "2023-07-18T18:15:44.721Z"
   },
   {
    "duration": 194,
    "start_time": "2023-07-18T18:16:01.785Z"
   },
   {
    "duration": 154,
    "start_time": "2023-07-18T18:18:13.436Z"
   },
   {
    "duration": 157,
    "start_time": "2023-07-18T18:31:15.330Z"
   },
   {
    "duration": 153,
    "start_time": "2023-07-18T18:31:22.243Z"
   },
   {
    "duration": 4,
    "start_time": "2023-07-18T19:20:13.626Z"
   },
   {
    "duration": 57,
    "start_time": "2023-07-18T19:20:13.632Z"
   },
   {
    "duration": 12,
    "start_time": "2023-07-18T19:20:13.690Z"
   },
   {
    "duration": 49,
    "start_time": "2023-07-18T19:20:13.704Z"
   },
   {
    "duration": 13,
    "start_time": "2023-07-18T19:20:13.754Z"
   },
   {
    "duration": 28,
    "start_time": "2023-07-18T19:20:13.768Z"
   },
   {
    "duration": 6,
    "start_time": "2023-07-18T19:20:13.798Z"
   },
   {
    "duration": 20,
    "start_time": "2023-07-18T19:20:13.805Z"
   },
   {
    "duration": 15,
    "start_time": "2023-07-18T19:20:13.827Z"
   },
   {
    "duration": 26,
    "start_time": "2023-07-18T19:20:13.843Z"
   },
   {
    "duration": 21,
    "start_time": "2023-07-18T19:20:13.870Z"
   },
   {
    "duration": 11,
    "start_time": "2023-07-18T19:20:13.893Z"
   },
   {
    "duration": 125,
    "start_time": "2023-07-18T19:20:13.905Z"
   },
   {
    "duration": 28,
    "start_time": "2023-07-18T19:20:14.032Z"
   },
   {
    "duration": 3,
    "start_time": "2023-07-18T19:20:14.062Z"
   },
   {
    "duration": 23,
    "start_time": "2023-07-18T19:20:14.067Z"
   },
   {
    "duration": 16,
    "start_time": "2023-07-18T19:20:14.092Z"
   },
   {
    "duration": 424,
    "start_time": "2023-07-18T19:20:14.109Z"
   },
   {
    "duration": 31,
    "start_time": "2023-07-18T19:20:14.534Z"
   },
   {
    "duration": 8758,
    "start_time": "2023-07-18T19:20:14.567Z"
   },
   {
    "duration": 153,
    "start_time": "2023-07-18T19:20:23.327Z"
   },
   {
    "duration": 81,
    "start_time": "2023-07-18T19:20:23.482Z"
   },
   {
    "duration": 249,
    "start_time": "2023-07-18T19:20:23.653Z"
   },
   {
    "duration": 23,
    "start_time": "2023-07-18T19:20:23.907Z"
   },
   {
    "duration": 4395,
    "start_time": "2023-07-18T19:20:23.931Z"
   },
   {
    "duration": 93,
    "start_time": "2023-07-18T19:20:28.328Z"
   },
   {
    "duration": 42,
    "start_time": "2023-07-18T19:20:28.423Z"
   },
   {
    "duration": 97,
    "start_time": "2023-07-18T19:20:28.467Z"
   },
   {
    "duration": 185,
    "start_time": "2023-07-18T19:20:28.653Z"
   },
   {
    "duration": 29,
    "start_time": "2023-07-18T19:20:28.840Z"
   },
   {
    "duration": 14045,
    "start_time": "2023-07-18T19:20:28.871Z"
   },
   {
    "duration": 281,
    "start_time": "2023-07-18T19:20:42.917Z"
   },
   {
    "duration": 58,
    "start_time": "2023-07-18T19:20:43.200Z"
   },
   {
    "duration": 101,
    "start_time": "2023-07-18T19:20:43.260Z"
   },
   {
    "duration": 158,
    "start_time": "2023-07-18T19:20:43.363Z"
   },
   {
    "duration": 14,
    "start_time": "2023-07-18T19:20:43.523Z"
   },
   {
    "duration": 3033,
    "start_time": "2023-07-18T19:20:43.539Z"
   },
   {
    "duration": 86,
    "start_time": "2023-07-18T19:20:46.574Z"
   },
   {
    "duration": 90,
    "start_time": "2023-07-18T19:20:46.662Z"
   },
   {
    "duration": 112,
    "start_time": "2023-07-18T19:20:46.755Z"
   },
   {
    "duration": 309,
    "start_time": "2023-07-18T19:20:46.869Z"
   },
   {
    "duration": 173,
    "start_time": "2023-07-18T19:20:47.180Z"
   },
   {
    "duration": 1400,
    "start_time": "2023-07-18T19:21:33.136Z"
   },
   {
    "duration": 53,
    "start_time": "2023-07-18T19:21:34.538Z"
   },
   {
    "duration": 13,
    "start_time": "2023-07-18T19:21:34.593Z"
   },
   {
    "duration": 39,
    "start_time": "2023-07-18T19:21:34.607Z"
   },
   {
    "duration": 13,
    "start_time": "2023-07-18T19:21:34.651Z"
   },
   {
    "duration": 25,
    "start_time": "2023-07-18T19:21:34.666Z"
   },
   {
    "duration": 7,
    "start_time": "2023-07-18T19:21:34.692Z"
   },
   {
    "duration": 4,
    "start_time": "2023-07-18T19:21:34.701Z"
   },
   {
    "duration": 6,
    "start_time": "2023-07-18T19:21:34.707Z"
   },
   {
    "duration": 45,
    "start_time": "2023-07-18T19:21:34.714Z"
   },
   {
    "duration": 20,
    "start_time": "2023-07-18T19:21:34.761Z"
   },
   {
    "duration": 10,
    "start_time": "2023-07-18T19:21:34.783Z"
   },
   {
    "duration": 264,
    "start_time": "2023-07-18T19:21:34.795Z"
   },
   {
    "duration": 37,
    "start_time": "2023-07-18T19:21:35.062Z"
   },
   {
    "duration": 5,
    "start_time": "2023-07-18T19:21:35.100Z"
   },
   {
    "duration": 28,
    "start_time": "2023-07-18T19:21:35.107Z"
   },
   {
    "duration": 9,
    "start_time": "2023-07-18T19:21:35.137Z"
   },
   {
    "duration": 530,
    "start_time": "2023-07-18T19:21:35.147Z"
   },
   {
    "duration": 27,
    "start_time": "2023-07-18T19:21:35.678Z"
   },
   {
    "duration": 8503,
    "start_time": "2023-07-18T19:21:35.706Z"
   },
   {
    "duration": 137,
    "start_time": "2023-07-18T19:21:44.210Z"
   },
   {
    "duration": 104,
    "start_time": "2023-07-18T19:21:44.348Z"
   },
   {
    "duration": 241,
    "start_time": "2023-07-18T19:21:44.455Z"
   },
   {
    "duration": 22,
    "start_time": "2023-07-18T19:21:44.698Z"
   },
   {
    "duration": 4360,
    "start_time": "2023-07-18T19:21:44.722Z"
   },
   {
    "duration": 73,
    "start_time": "2023-07-18T19:21:49.083Z"
   },
   {
    "duration": 96,
    "start_time": "2023-07-18T19:21:49.158Z"
   },
   {
    "duration": 103,
    "start_time": "2023-07-18T19:21:49.255Z"
   },
   {
    "duration": 180,
    "start_time": "2023-07-18T19:21:49.360Z"
   },
   {
    "duration": 34,
    "start_time": "2023-07-18T19:21:49.542Z"
   },
   {
    "duration": 14179,
    "start_time": "2023-07-18T19:21:49.577Z"
   },
   {
    "duration": 277,
    "start_time": "2023-07-18T19:22:03.758Z"
   },
   {
    "duration": 38,
    "start_time": "2023-07-18T19:22:04.037Z"
   },
   {
    "duration": 100,
    "start_time": "2023-07-18T19:22:04.153Z"
   },
   {
    "duration": 83,
    "start_time": "2023-07-18T19:22:04.255Z"
   },
   {
    "duration": 16,
    "start_time": "2023-07-18T19:22:04.352Z"
   },
   {
    "duration": 3041,
    "start_time": "2023-07-18T19:22:04.370Z"
   },
   {
    "duration": 89,
    "start_time": "2023-07-18T19:22:07.413Z"
   },
   {
    "duration": 54,
    "start_time": "2023-07-18T19:22:07.504Z"
   },
   {
    "duration": 117,
    "start_time": "2023-07-18T19:22:07.560Z"
   },
   {
    "duration": 360,
    "start_time": "2023-07-18T19:22:07.681Z"
   },
   {
    "duration": 169,
    "start_time": "2023-07-18T19:22:08.043Z"
   },
   {
    "duration": 2233,
    "start_time": "2023-07-19T07:57:30.701Z"
   },
   {
    "duration": 184,
    "start_time": "2023-07-19T07:57:32.937Z"
   },
   {
    "duration": 13,
    "start_time": "2023-07-19T07:57:33.123Z"
   },
   {
    "duration": 118,
    "start_time": "2023-07-19T07:57:33.138Z"
   },
   {
    "duration": 30,
    "start_time": "2023-07-19T07:57:33.257Z"
   },
   {
    "duration": 43,
    "start_time": "2023-07-19T07:57:33.289Z"
   },
   {
    "duration": 10,
    "start_time": "2023-07-19T07:57:33.334Z"
   },
   {
    "duration": 52,
    "start_time": "2023-07-19T07:57:33.346Z"
   },
   {
    "duration": 31,
    "start_time": "2023-07-19T07:57:33.400Z"
   },
   {
    "duration": 28,
    "start_time": "2023-07-19T07:57:33.434Z"
   },
   {
    "duration": 32,
    "start_time": "2023-07-19T07:57:33.463Z"
   },
   {
    "duration": 28,
    "start_time": "2023-07-19T07:57:33.497Z"
   },
   {
    "duration": 160,
    "start_time": "2023-07-19T07:57:33.526Z"
   },
   {
    "duration": 14,
    "start_time": "2023-07-19T07:57:33.688Z"
   },
   {
    "duration": 11,
    "start_time": "2023-07-19T07:57:33.714Z"
   },
   {
    "duration": 17,
    "start_time": "2023-07-19T07:57:33.727Z"
   },
   {
    "duration": 16,
    "start_time": "2023-07-19T07:57:33.746Z"
   },
   {
    "duration": 449,
    "start_time": "2023-07-19T07:57:33.764Z"
   },
   {
    "duration": 25,
    "start_time": "2023-07-19T07:57:34.215Z"
   },
   {
    "duration": 10376,
    "start_time": "2023-07-19T07:57:34.242Z"
   },
   {
    "duration": 159,
    "start_time": "2023-07-19T07:57:44.620Z"
   },
   {
    "duration": 135,
    "start_time": "2023-07-19T07:57:44.781Z"
   },
   {
    "duration": 254,
    "start_time": "2023-07-19T07:57:44.918Z"
   },
   {
    "duration": 24,
    "start_time": "2023-07-19T07:57:45.173Z"
   },
   {
    "duration": 5153,
    "start_time": "2023-07-19T07:57:45.199Z"
   },
   {
    "duration": 85,
    "start_time": "2023-07-19T07:57:50.353Z"
   },
   {
    "duration": 175,
    "start_time": "2023-07-19T07:57:50.440Z"
   },
   {
    "duration": 97,
    "start_time": "2023-07-19T07:57:50.619Z"
   },
   {
    "duration": 329,
    "start_time": "2023-07-19T07:57:50.718Z"
   },
   {
    "duration": 30,
    "start_time": "2023-07-19T07:57:51.049Z"
   },
   {
    "duration": 16144,
    "start_time": "2023-07-19T07:57:51.081Z"
   },
   {
    "duration": 617,
    "start_time": "2023-07-19T07:58:07.227Z"
   },
   {
    "duration": 75,
    "start_time": "2023-07-19T07:58:07.845Z"
   },
   {
    "duration": 100,
    "start_time": "2023-07-19T07:58:07.922Z"
   },
   {
    "duration": 189,
    "start_time": "2023-07-19T07:58:08.024Z"
   },
   {
    "duration": 26,
    "start_time": "2023-07-19T07:58:08.215Z"
   },
   {
    "duration": 6417,
    "start_time": "2023-07-19T07:58:08.243Z"
   },
   {
    "duration": 228,
    "start_time": "2023-07-19T07:58:14.713Z"
   },
   {
    "duration": 177,
    "start_time": "2023-07-19T07:58:14.944Z"
   },
   {
    "duration": 105,
    "start_time": "2023-07-19T07:58:15.123Z"
   },
   {
    "duration": 692,
    "start_time": "2023-07-19T07:58:15.230Z"
   },
   {
    "duration": 403,
    "start_time": "2023-07-19T07:58:15.924Z"
   },
   {
    "duration": 1590,
    "start_time": "2023-07-19T08:17:21.024Z"
   },
   {
    "duration": 172,
    "start_time": "2023-07-19T08:17:23.091Z"
   },
   {
    "duration": 14,
    "start_time": "2023-07-19T08:17:25.035Z"
   },
   {
    "duration": 47,
    "start_time": "2023-07-19T08:17:31.546Z"
   },
   {
    "duration": 47,
    "start_time": "2023-07-19T08:17:50.204Z"
   },
   {
    "duration": 1576,
    "start_time": "2023-07-19T17:56:25.219Z"
   },
   {
    "duration": 173,
    "start_time": "2023-07-19T17:56:26.797Z"
   },
   {
    "duration": 13,
    "start_time": "2023-07-19T17:56:27.267Z"
   },
   {
    "duration": 61,
    "start_time": "2023-07-19T17:56:30.697Z"
   },
   {
    "duration": 14,
    "start_time": "2023-07-19T17:56:35.600Z"
   },
   {
    "duration": 23,
    "start_time": "2023-07-19T17:56:37.880Z"
   },
   {
    "duration": 9,
    "start_time": "2023-07-19T17:56:39.584Z"
   },
   {
    "duration": 6,
    "start_time": "2023-07-19T17:56:49.695Z"
   },
   {
    "duration": 6,
    "start_time": "2023-07-19T17:56:51.448Z"
   },
   {
    "duration": 4,
    "start_time": "2023-07-19T18:00:56.123Z"
   },
   {
    "duration": 60,
    "start_time": "2023-07-19T18:00:57.095Z"
   },
   {
    "duration": 12,
    "start_time": "2023-07-19T18:00:58.034Z"
   },
   {
    "duration": 48,
    "start_time": "2023-07-19T18:01:01.484Z"
   },
   {
    "duration": 13,
    "start_time": "2023-07-19T18:01:03.794Z"
   },
   {
    "duration": 23,
    "start_time": "2023-07-19T18:01:04.970Z"
   },
   {
    "duration": 4,
    "start_time": "2023-07-19T18:01:08.346Z"
   },
   {
    "duration": 9,
    "start_time": "2023-07-19T18:01:11.554Z"
   },
   {
    "duration": 5,
    "start_time": "2023-07-19T18:01:15.508Z"
   },
   {
    "duration": 8,
    "start_time": "2023-07-19T18:02:10.971Z"
   },
   {
    "duration": 9160,
    "start_time": "2023-07-19T18:28:11.079Z"
   },
   {
    "duration": 2061,
    "start_time": "2023-07-19T18:28:35.590Z"
   },
   {
    "duration": 1110,
    "start_time": "2023-07-19T18:28:37.653Z"
   },
   {
    "duration": 62,
    "start_time": "2023-07-19T18:28:38.765Z"
   },
   {
    "duration": 12,
    "start_time": "2023-07-19T18:28:38.829Z"
   },
   {
    "duration": 52,
    "start_time": "2023-07-19T18:28:38.843Z"
   },
   {
    "duration": 26,
    "start_time": "2023-07-19T18:28:38.897Z"
   },
   {
    "duration": 24,
    "start_time": "2023-07-19T18:28:38.925Z"
   },
   {
    "duration": 4,
    "start_time": "2023-07-19T18:28:38.951Z"
   },
   {
    "duration": 14,
    "start_time": "2023-07-19T18:28:38.957Z"
   },
   {
    "duration": 9,
    "start_time": "2023-07-19T18:28:38.974Z"
   },
   {
    "duration": 38,
    "start_time": "2023-07-19T18:28:38.985Z"
   },
   {
    "duration": 15,
    "start_time": "2023-07-19T18:28:39.024Z"
   },
   {
    "duration": 13,
    "start_time": "2023-07-19T18:28:39.041Z"
   },
   {
    "duration": 21,
    "start_time": "2023-07-19T18:28:39.056Z"
   },
   {
    "duration": 10,
    "start_time": "2023-07-19T18:28:39.079Z"
   },
   {
    "duration": 151,
    "start_time": "2023-07-19T18:28:39.091Z"
   },
   {
    "duration": 4,
    "start_time": "2023-07-19T18:28:39.243Z"
   },
   {
    "duration": 6,
    "start_time": "2023-07-19T18:28:39.249Z"
   },
   {
    "duration": 18,
    "start_time": "2023-07-19T18:28:39.256Z"
   },
   {
    "duration": 468,
    "start_time": "2023-07-19T18:28:39.276Z"
   },
   {
    "duration": 32,
    "start_time": "2023-07-19T18:28:39.746Z"
   },
   {
    "duration": 9257,
    "start_time": "2023-07-19T18:28:39.780Z"
   },
   {
    "duration": 148,
    "start_time": "2023-07-19T18:28:49.039Z"
   },
   {
    "duration": 142,
    "start_time": "2023-07-19T18:28:49.188Z"
   },
   {
    "duration": 258,
    "start_time": "2023-07-19T18:28:49.420Z"
   },
   {
    "duration": 44,
    "start_time": "2023-07-19T18:28:49.680Z"
   },
   {
    "duration": 4851,
    "start_time": "2023-07-19T18:28:49.730Z"
   },
   {
    "duration": 85,
    "start_time": "2023-07-19T18:28:54.584Z"
   },
   {
    "duration": 61,
    "start_time": "2023-07-19T18:28:54.672Z"
   },
   {
    "duration": 113,
    "start_time": "2023-07-19T18:28:54.814Z"
   },
   {
    "duration": 202,
    "start_time": "2023-07-19T18:28:54.929Z"
   },
   {
    "duration": 29,
    "start_time": "2023-07-19T18:28:55.133Z"
   },
   {
    "duration": 15069,
    "start_time": "2023-07-19T18:28:55.163Z"
   },
   {
    "duration": 303,
    "start_time": "2023-07-19T18:29:10.233Z"
   },
   {
    "duration": 95,
    "start_time": "2023-07-19T18:29:10.538Z"
   },
   {
    "duration": 100,
    "start_time": "2023-07-19T18:29:10.634Z"
   },
   {
    "duration": 106,
    "start_time": "2023-07-19T18:29:10.814Z"
   },
   {
    "duration": 17,
    "start_time": "2023-07-19T18:29:10.927Z"
   },
   {
    "duration": 3337,
    "start_time": "2023-07-19T18:29:10.946Z"
   },
   {
    "duration": 98,
    "start_time": "2023-07-19T18:29:14.285Z"
   },
   {
    "duration": 43,
    "start_time": "2023-07-19T18:29:14.385Z"
   },
   {
    "duration": 190,
    "start_time": "2023-07-19T18:29:14.432Z"
   },
   {
    "duration": 338,
    "start_time": "2023-07-19T18:29:14.627Z"
   },
   {
    "duration": 182,
    "start_time": "2023-07-19T18:29:14.967Z"
   },
   {
    "duration": 4,
    "start_time": "2023-07-19T18:37:13.238Z"
   },
   {
    "duration": 53,
    "start_time": "2023-07-19T18:37:16.187Z"
   },
   {
    "duration": 17,
    "start_time": "2023-07-19T18:37:17.303Z"
   },
   {
    "duration": 48,
    "start_time": "2023-07-19T18:37:18.945Z"
   },
   {
    "duration": 15,
    "start_time": "2023-07-19T18:37:21.495Z"
   },
   {
    "duration": 32,
    "start_time": "2023-07-19T18:37:22.293Z"
   },
   {
    "duration": 4,
    "start_time": "2023-07-19T18:37:27.266Z"
   },
   {
    "duration": 9,
    "start_time": "2023-07-19T18:37:29.200Z"
   },
   {
    "duration": 7,
    "start_time": "2023-07-19T18:37:30.000Z"
   },
   {
    "duration": 8,
    "start_time": "2023-07-19T18:37:31.050Z"
   },
   {
    "duration": 5,
    "start_time": "2023-07-19T18:41:02.166Z"
   },
   {
    "duration": 4,
    "start_time": "2023-07-19T18:41:18.149Z"
   },
   {
    "duration": 57,
    "start_time": "2023-07-19T18:41:18.872Z"
   },
   {
    "duration": 13,
    "start_time": "2023-07-19T18:41:19.441Z"
   },
   {
    "duration": 44,
    "start_time": "2023-07-19T18:41:20.339Z"
   },
   {
    "duration": 16,
    "start_time": "2023-07-19T18:41:21.769Z"
   },
   {
    "duration": 30,
    "start_time": "2023-07-19T18:41:22.282Z"
   },
   {
    "duration": 4,
    "start_time": "2023-07-19T18:41:25.042Z"
   },
   {
    "duration": 8,
    "start_time": "2023-07-19T18:41:26.474Z"
   },
   {
    "duration": 5,
    "start_time": "2023-07-19T18:41:27.345Z"
   },
   {
    "duration": 10,
    "start_time": "2023-07-19T18:41:27.943Z"
   },
   {
    "duration": 3,
    "start_time": "2023-07-19T18:41:30.393Z"
   },
   {
    "duration": 13,
    "start_time": "2023-07-19T18:41:31.769Z"
   },
   {
    "duration": 5,
    "start_time": "2023-07-19T18:41:35.602Z"
   },
   {
    "duration": 6,
    "start_time": "2023-07-19T18:44:23.692Z"
   },
   {
    "duration": 141,
    "start_time": "2023-07-19T18:46:59.554Z"
   },
   {
    "duration": 2,
    "start_time": "2023-07-19T18:48:38.103Z"
   },
   {
    "duration": 33,
    "start_time": "2023-07-19T18:57:11.864Z"
   },
   {
    "duration": 23,
    "start_time": "2023-07-19T19:04:51.943Z"
   },
   {
    "duration": 22,
    "start_time": "2023-07-19T19:07:05.374Z"
   },
   {
    "duration": 4,
    "start_time": "2023-07-19T19:14:17.162Z"
   },
   {
    "duration": 2188,
    "start_time": "2023-07-19T19:25:30.546Z"
   },
   {
    "duration": 4,
    "start_time": "2023-07-19T19:25:32.737Z"
   },
   {
    "duration": 106,
    "start_time": "2023-07-19T19:25:32.743Z"
   },
   {
    "duration": 12,
    "start_time": "2023-07-19T19:25:32.851Z"
   },
   {
    "duration": 71,
    "start_time": "2023-07-19T19:25:32.865Z"
   },
   {
    "duration": 14,
    "start_time": "2023-07-19T19:25:32.938Z"
   },
   {
    "duration": 55,
    "start_time": "2023-07-19T19:25:32.953Z"
   },
   {
    "duration": 19,
    "start_time": "2023-07-19T19:25:33.010Z"
   },
   {
    "duration": 31,
    "start_time": "2023-07-19T19:25:33.030Z"
   },
   {
    "duration": 28,
    "start_time": "2023-07-19T19:25:33.063Z"
   },
   {
    "duration": 40,
    "start_time": "2023-07-19T19:25:33.093Z"
   },
   {
    "duration": 20,
    "start_time": "2023-07-19T19:25:33.135Z"
   },
   {
    "duration": 40,
    "start_time": "2023-07-19T19:25:33.157Z"
   },
   {
    "duration": 9,
    "start_time": "2023-07-19T19:25:33.202Z"
   },
   {
    "duration": 15,
    "start_time": "2023-07-19T19:25:33.220Z"
   },
   {
    "duration": 74,
    "start_time": "2023-07-19T19:25:33.238Z"
   },
   {
    "duration": 37,
    "start_time": "2023-07-19T19:25:33.317Z"
   },
   {
    "duration": 35,
    "start_time": "2023-07-19T19:25:33.356Z"
   },
   {
    "duration": 38,
    "start_time": "2023-07-19T19:25:33.392Z"
   },
   {
    "duration": 133,
    "start_time": "2023-07-19T19:25:33.433Z"
   },
   {
    "duration": 5,
    "start_time": "2023-07-19T19:25:33.567Z"
   },
   {
    "duration": 15,
    "start_time": "2023-07-19T19:25:33.574Z"
   },
   {
    "duration": 12,
    "start_time": "2023-07-19T19:25:33.591Z"
   },
   {
    "duration": 495,
    "start_time": "2023-07-19T19:25:33.630Z"
   },
   {
    "duration": 26,
    "start_time": "2023-07-19T19:25:34.131Z"
   },
   {
    "duration": 9668,
    "start_time": "2023-07-19T19:25:34.159Z"
   },
   {
    "duration": 163,
    "start_time": "2023-07-19T19:25:43.834Z"
   },
   {
    "duration": 121,
    "start_time": "2023-07-19T19:25:43.999Z"
   },
   {
    "duration": 254,
    "start_time": "2023-07-19T19:25:44.126Z"
   },
   {
    "duration": 47,
    "start_time": "2023-07-19T19:25:44.382Z"
   },
   {
    "duration": 5223,
    "start_time": "2023-07-19T19:25:44.431Z"
   },
   {
    "duration": 94,
    "start_time": "2023-07-19T19:25:49.656Z"
   },
   {
    "duration": 70,
    "start_time": "2023-07-19T19:25:49.752Z"
   },
   {
    "duration": 98,
    "start_time": "2023-07-19T19:25:49.824Z"
   },
   {
    "duration": 226,
    "start_time": "2023-07-19T19:25:49.929Z"
   },
   {
    "duration": 36,
    "start_time": "2023-07-19T19:25:50.157Z"
   },
   {
    "duration": 16039,
    "start_time": "2023-07-19T19:25:50.195Z"
   },
   {
    "duration": 298,
    "start_time": "2023-07-19T19:26:06.235Z"
   },
   {
    "duration": 91,
    "start_time": "2023-07-19T19:26:06.535Z"
   },
   {
    "duration": 87,
    "start_time": "2023-07-19T19:26:06.628Z"
   },
   {
    "duration": 110,
    "start_time": "2023-07-19T19:26:06.721Z"
   },
   {
    "duration": 14,
    "start_time": "2023-07-19T19:26:06.833Z"
   },
   {
    "duration": 3413,
    "start_time": "2023-07-19T19:26:06.849Z"
   },
   {
    "duration": 96,
    "start_time": "2023-07-19T19:26:10.263Z"
   },
   {
    "duration": 60,
    "start_time": "2023-07-19T19:26:10.361Z"
   },
   {
    "duration": 105,
    "start_time": "2023-07-19T19:26:10.423Z"
   },
   {
    "duration": 325,
    "start_time": "2023-07-19T19:26:10.530Z"
   },
   {
    "duration": 195,
    "start_time": "2023-07-19T19:26:10.857Z"
   },
   {
    "duration": 136956,
    "start_time": "2023-07-19T19:30:17.756Z"
   },
   {
    "duration": 323,
    "start_time": "2023-07-19T19:34:57.049Z"
   },
   {
    "duration": 128850,
    "start_time": "2023-07-19T19:37:57.595Z"
   },
   {
    "duration": 311,
    "start_time": "2023-07-19T19:42:46.316Z"
   },
   {
    "duration": 28,
    "start_time": "2023-07-19T19:43:02.531Z"
   },
   {
    "duration": 3940,
    "start_time": "2023-07-19T19:57:23.385Z"
   },
   {
    "duration": 15,
    "start_time": "2023-07-19T19:57:44.356Z"
   },
   {
    "duration": 2159,
    "start_time": "2023-07-19T20:01:46.200Z"
   },
   {
    "duration": 2101,
    "start_time": "2023-07-19T20:01:48.361Z"
   },
   {
    "duration": 1251,
    "start_time": "2023-07-19T20:01:50.464Z"
   },
   {
    "duration": 55,
    "start_time": "2023-07-19T20:01:51.717Z"
   },
   {
    "duration": 13,
    "start_time": "2023-07-19T20:01:51.773Z"
   },
   {
    "duration": 61,
    "start_time": "2023-07-19T20:01:51.788Z"
   },
   {
    "duration": 14,
    "start_time": "2023-07-19T20:01:51.850Z"
   },
   {
    "duration": 26,
    "start_time": "2023-07-19T20:01:51.866Z"
   },
   {
    "duration": 23,
    "start_time": "2023-07-19T20:01:51.893Z"
   },
   {
    "duration": 38,
    "start_time": "2023-07-19T20:01:51.919Z"
   },
   {
    "duration": 14,
    "start_time": "2023-07-19T20:01:51.959Z"
   },
   {
    "duration": 27,
    "start_time": "2023-07-19T20:01:51.975Z"
   },
   {
    "duration": 16,
    "start_time": "2023-07-19T20:01:52.004Z"
   },
   {
    "duration": 16,
    "start_time": "2023-07-19T20:01:52.022Z"
   },
   {
    "duration": 6,
    "start_time": "2023-07-19T20:01:52.040Z"
   },
   {
    "duration": 20,
    "start_time": "2023-07-19T20:01:52.047Z"
   },
   {
    "duration": 70,
    "start_time": "2023-07-19T20:01:52.069Z"
   },
   {
    "duration": 42,
    "start_time": "2023-07-19T20:01:52.141Z"
   },
   {
    "duration": 22,
    "start_time": "2023-07-19T20:01:52.185Z"
   },
   {
    "duration": 115,
    "start_time": "2023-07-19T20:01:52.209Z"
   },
   {
    "duration": 0,
    "start_time": "2023-07-19T20:01:52.327Z"
   },
   {
    "duration": 0,
    "start_time": "2023-07-19T20:01:52.328Z"
   },
   {
    "duration": 0,
    "start_time": "2023-07-19T20:01:52.329Z"
   },
   {
    "duration": 0,
    "start_time": "2023-07-19T20:01:52.331Z"
   },
   {
    "duration": 0,
    "start_time": "2023-07-19T20:01:52.332Z"
   },
   {
    "duration": 0,
    "start_time": "2023-07-19T20:01:52.333Z"
   },
   {
    "duration": 0,
    "start_time": "2023-07-19T20:01:52.334Z"
   },
   {
    "duration": 0,
    "start_time": "2023-07-19T20:01:52.335Z"
   },
   {
    "duration": 0,
    "start_time": "2023-07-19T20:01:52.336Z"
   },
   {
    "duration": 0,
    "start_time": "2023-07-19T20:01:52.338Z"
   },
   {
    "duration": 0,
    "start_time": "2023-07-19T20:01:52.339Z"
   },
   {
    "duration": 0,
    "start_time": "2023-07-19T20:01:52.340Z"
   },
   {
    "duration": 0,
    "start_time": "2023-07-19T20:01:52.342Z"
   },
   {
    "duration": 0,
    "start_time": "2023-07-19T20:01:52.343Z"
   },
   {
    "duration": 0,
    "start_time": "2023-07-19T20:01:52.344Z"
   },
   {
    "duration": 0,
    "start_time": "2023-07-19T20:01:52.345Z"
   },
   {
    "duration": 0,
    "start_time": "2023-07-19T20:01:52.347Z"
   },
   {
    "duration": 0,
    "start_time": "2023-07-19T20:01:52.348Z"
   },
   {
    "duration": 0,
    "start_time": "2023-07-19T20:01:52.349Z"
   },
   {
    "duration": 0,
    "start_time": "2023-07-19T20:01:52.350Z"
   },
   {
    "duration": 0,
    "start_time": "2023-07-19T20:01:52.351Z"
   },
   {
    "duration": 0,
    "start_time": "2023-07-19T20:01:52.353Z"
   },
   {
    "duration": 0,
    "start_time": "2023-07-19T20:01:52.354Z"
   },
   {
    "duration": 0,
    "start_time": "2023-07-19T20:01:52.355Z"
   },
   {
    "duration": 0,
    "start_time": "2023-07-19T20:01:52.356Z"
   },
   {
    "duration": 0,
    "start_time": "2023-07-19T20:01:52.357Z"
   },
   {
    "duration": 0,
    "start_time": "2023-07-19T20:01:52.358Z"
   },
   {
    "duration": 0,
    "start_time": "2023-07-19T20:01:52.359Z"
   },
   {
    "duration": 0,
    "start_time": "2023-07-19T20:01:52.414Z"
   },
   {
    "duration": 0,
    "start_time": "2023-07-19T20:01:52.415Z"
   },
   {
    "duration": 131,
    "start_time": "2023-07-19T20:02:51.282Z"
   },
   {
    "duration": 2144,
    "start_time": "2023-07-19T20:03:12.918Z"
   },
   {
    "duration": 2013,
    "start_time": "2023-07-19T20:03:15.065Z"
   },
   {
    "duration": 6,
    "start_time": "2023-07-19T20:03:17.080Z"
   },
   {
    "duration": 91,
    "start_time": "2023-07-19T20:03:17.088Z"
   },
   {
    "duration": 13,
    "start_time": "2023-07-19T20:03:17.182Z"
   },
   {
    "duration": 46,
    "start_time": "2023-07-19T20:03:17.196Z"
   },
   {
    "duration": 13,
    "start_time": "2023-07-19T20:03:17.244Z"
   },
   {
    "duration": 36,
    "start_time": "2023-07-19T20:03:17.259Z"
   },
   {
    "duration": 20,
    "start_time": "2023-07-19T20:03:17.296Z"
   },
   {
    "duration": 23,
    "start_time": "2023-07-19T20:03:17.317Z"
   },
   {
    "duration": 20,
    "start_time": "2023-07-19T20:03:17.342Z"
   },
   {
    "duration": 13,
    "start_time": "2023-07-19T20:03:17.364Z"
   },
   {
    "duration": 16,
    "start_time": "2023-07-19T20:03:17.378Z"
   },
   {
    "duration": 15,
    "start_time": "2023-07-19T20:03:17.397Z"
   },
   {
    "duration": 6,
    "start_time": "2023-07-19T20:03:17.413Z"
   },
   {
    "duration": 9,
    "start_time": "2023-07-19T20:03:17.421Z"
   },
   {
    "duration": 40,
    "start_time": "2023-07-19T20:03:17.431Z"
   },
   {
    "duration": 21,
    "start_time": "2023-07-19T20:03:17.473Z"
   },
   {
    "duration": 32,
    "start_time": "2023-07-19T20:03:17.496Z"
   },
   {
    "duration": 127,
    "start_time": "2023-07-19T20:03:17.530Z"
   },
   {
    "duration": 4,
    "start_time": "2023-07-19T20:03:17.659Z"
   },
   {
    "duration": 19,
    "start_time": "2023-07-19T20:03:17.665Z"
   },
   {
    "duration": 14,
    "start_time": "2023-07-19T20:03:17.686Z"
   },
   {
    "duration": 440,
    "start_time": "2023-07-19T20:03:17.701Z"
   },
   {
    "duration": 30,
    "start_time": "2023-07-19T20:03:18.143Z"
   },
   {
    "duration": 2868,
    "start_time": "2023-07-19T20:03:18.175Z"
   },
   {
    "duration": 322,
    "start_time": "2023-07-19T20:03:21.045Z"
   },
   {
    "duration": 51,
    "start_time": "2023-07-19T20:03:21.369Z"
   },
   {
    "duration": 345,
    "start_time": "2023-07-19T20:03:21.422Z"
   },
   {
    "duration": 22,
    "start_time": "2023-07-19T20:03:21.769Z"
   },
   {
    "duration": 1107,
    "start_time": "2023-07-19T20:03:21.793Z"
   },
   {
    "duration": 272,
    "start_time": "2023-07-19T20:03:22.902Z"
   },
   {
    "duration": 45,
    "start_time": "2023-07-19T20:03:23.175Z"
   },
   {
    "duration": 91,
    "start_time": "2023-07-19T20:03:23.223Z"
   },
   {
    "duration": 131,
    "start_time": "2023-07-19T20:03:23.316Z"
   },
   {
    "duration": 251,
    "start_time": "2023-07-19T20:03:23.448Z"
   },
   {
    "duration": 39,
    "start_time": "2023-07-19T20:03:23.701Z"
   },
   {
    "duration": 17277,
    "start_time": "2023-07-19T20:03:23.742Z"
   },
   {
    "duration": 369,
    "start_time": "2023-07-19T20:03:41.021Z"
   },
   {
    "duration": 41,
    "start_time": "2023-07-19T20:03:41.391Z"
   },
   {
    "duration": 79,
    "start_time": "2023-07-19T20:03:41.437Z"
   },
   {
    "duration": 110,
    "start_time": "2023-07-19T20:03:41.518Z"
   },
   {
    "duration": 0,
    "start_time": "2023-07-19T20:03:41.630Z"
   },
   {
    "duration": 0,
    "start_time": "2023-07-19T20:03:41.631Z"
   },
   {
    "duration": 0,
    "start_time": "2023-07-19T20:03:41.633Z"
   },
   {
    "duration": 0,
    "start_time": "2023-07-19T20:03:41.635Z"
   },
   {
    "duration": 0,
    "start_time": "2023-07-19T20:03:41.636Z"
   },
   {
    "duration": 0,
    "start_time": "2023-07-19T20:03:41.639Z"
   },
   {
    "duration": 0,
    "start_time": "2023-07-19T20:03:41.640Z"
   },
   {
    "duration": 0,
    "start_time": "2023-07-19T20:03:41.641Z"
   },
   {
    "duration": 2107,
    "start_time": "2023-07-19T20:07:49.887Z"
   },
   {
    "duration": 2068,
    "start_time": "2023-07-19T20:07:51.997Z"
   },
   {
    "duration": 5,
    "start_time": "2023-07-19T20:07:54.068Z"
   },
   {
    "duration": 66,
    "start_time": "2023-07-19T20:07:54.074Z"
   },
   {
    "duration": 15,
    "start_time": "2023-07-19T20:07:54.143Z"
   },
   {
    "duration": 68,
    "start_time": "2023-07-19T20:07:54.160Z"
   },
   {
    "duration": 14,
    "start_time": "2023-07-19T20:07:54.231Z"
   },
   {
    "duration": 40,
    "start_time": "2023-07-19T20:07:54.247Z"
   },
   {
    "duration": 4,
    "start_time": "2023-07-19T20:07:54.289Z"
   },
   {
    "duration": 24,
    "start_time": "2023-07-19T20:07:54.295Z"
   },
   {
    "duration": 176,
    "start_time": "2023-07-19T20:07:54.321Z"
   },
   {
    "duration": 54,
    "start_time": "2023-07-19T20:07:54.499Z"
   },
   {
    "duration": 65,
    "start_time": "2023-07-19T20:07:54.555Z"
   },
   {
    "duration": 21,
    "start_time": "2023-07-19T20:07:54.623Z"
   },
   {
    "duration": 30,
    "start_time": "2023-07-19T20:07:54.646Z"
   },
   {
    "duration": 44,
    "start_time": "2023-07-19T20:07:54.678Z"
   },
   {
    "duration": 61,
    "start_time": "2023-07-19T20:07:54.723Z"
   },
   {
    "duration": 24,
    "start_time": "2023-07-19T20:07:54.786Z"
   },
   {
    "duration": 23,
    "start_time": "2023-07-19T20:07:54.813Z"
   },
   {
    "duration": 140,
    "start_time": "2023-07-19T20:07:54.838Z"
   },
   {
    "duration": 4,
    "start_time": "2023-07-19T20:07:54.979Z"
   },
   {
    "duration": 17,
    "start_time": "2023-07-19T20:07:54.985Z"
   },
   {
    "duration": 15,
    "start_time": "2023-07-19T20:07:55.003Z"
   },
   {
    "duration": 478,
    "start_time": "2023-07-19T20:07:55.020Z"
   },
   {
    "duration": 29,
    "start_time": "2023-07-19T20:07:55.500Z"
   },
   {
    "duration": 129418,
    "start_time": "2023-07-19T20:07:55.531Z"
   },
   {
    "duration": 308,
    "start_time": "2023-07-19T20:10:04.951Z"
   },
   {
    "duration": 60,
    "start_time": "2023-07-19T20:10:05.261Z"
   },
   {
    "duration": 250,
    "start_time": "2023-07-19T20:10:05.413Z"
   },
   {
    "duration": 25,
    "start_time": "2023-07-19T20:10:05.666Z"
   },
   {
    "duration": 131364,
    "start_time": "2023-07-19T20:10:05.693Z"
   },
   {
    "duration": 283,
    "start_time": "2023-07-19T20:12:17.059Z"
   },
   {
    "duration": 71,
    "start_time": "2023-07-19T20:12:17.344Z"
   },
   {
    "duration": 97,
    "start_time": "2023-07-19T20:12:17.418Z"
   },
   {
    "duration": 67,
    "start_time": "2023-07-19T20:12:17.517Z"
   },
   {
    "duration": 262,
    "start_time": "2023-07-19T20:12:17.586Z"
   },
   {
    "duration": 38,
    "start_time": "2023-07-19T20:12:17.850Z"
   },
   {
    "duration": 206233,
    "start_time": "2023-07-19T20:12:17.890Z"
   },
   {
    "duration": 390,
    "start_time": "2023-07-19T20:15:44.125Z"
   },
   {
    "duration": 32,
    "start_time": "2023-07-19T20:15:44.517Z"
   },
   {
    "duration": 66,
    "start_time": "2023-07-19T20:15:44.553Z"
   },
   {
    "duration": 110,
    "start_time": "2023-07-19T20:15:44.621Z"
   },
   {
    "duration": 96,
    "start_time": "2023-07-19T20:15:44.733Z"
   },
   {
    "duration": 17,
    "start_time": "2023-07-19T20:15:44.831Z"
   },
   {
    "duration": 3259,
    "start_time": "2023-07-19T20:15:44.849Z"
   },
   {
    "duration": 86,
    "start_time": "2023-07-19T20:15:48.110Z"
   },
   {
    "duration": 22,
    "start_time": "2023-07-19T20:15:48.214Z"
   },
   {
    "duration": 179,
    "start_time": "2023-07-19T20:15:48.238Z"
   },
   {
    "duration": 369,
    "start_time": "2023-07-19T20:15:48.419Z"
   },
   {
    "duration": 175,
    "start_time": "2023-07-19T20:15:48.789Z"
   },
   {
    "duration": 316,
    "start_time": "2023-07-19T20:21:08.052Z"
   },
   {
    "duration": 124,
    "start_time": "2023-07-19T20:22:49.320Z"
   },
   {
    "duration": 303,
    "start_time": "2023-07-19T20:23:49.541Z"
   },
   {
    "duration": 302,
    "start_time": "2023-07-19T20:26:30.992Z"
   },
   {
    "duration": 29,
    "start_time": "2023-07-19T20:28:05.888Z"
   },
   {
    "duration": 167,
    "start_time": "2023-07-19T20:28:39.630Z"
   },
   {
    "duration": 19,
    "start_time": "2023-07-19T20:29:50.096Z"
   },
   {
    "duration": 7160,
    "start_time": "2023-07-19T20:31:03.690Z"
   },
   {
    "duration": 20505,
    "start_time": "2023-07-19T20:31:33.771Z"
   },
   {
    "duration": 7223,
    "start_time": "2023-07-19T20:32:06.900Z"
   },
   {
    "duration": 30,
    "start_time": "2023-07-19T20:32:33.300Z"
   },
   {
    "duration": 7530,
    "start_time": "2023-07-19T20:33:13.741Z"
   },
   {
    "duration": 79,
    "start_time": "2023-07-19T20:33:39.998Z"
   },
   {
    "duration": 40,
    "start_time": "2023-07-19T20:34:00.030Z"
   },
   {
    "duration": 11110,
    "start_time": "2023-07-19T20:34:19.238Z"
   },
   {
    "duration": 144,
    "start_time": "2023-07-19T20:34:47.956Z"
   },
   {
    "duration": 5264,
    "start_time": "2023-07-19T20:35:10.845Z"
   },
   {
    "duration": 67,
    "start_time": "2023-07-19T20:35:28.701Z"
   },
   {
    "duration": 18,
    "start_time": "2023-07-19T20:35:32.173Z"
   },
   {
    "duration": 141,
    "start_time": "2023-07-19T20:36:46.150Z"
   },
   {
    "duration": 2101,
    "start_time": "2023-07-19T20:36:56.713Z"
   },
   {
    "duration": 2145,
    "start_time": "2023-07-19T20:36:58.817Z"
   },
   {
    "duration": 5,
    "start_time": "2023-07-19T20:37:00.965Z"
   },
   {
    "duration": 59,
    "start_time": "2023-07-19T20:37:00.972Z"
   },
   {
    "duration": 14,
    "start_time": "2023-07-19T20:37:01.033Z"
   },
   {
    "duration": 67,
    "start_time": "2023-07-19T20:37:01.048Z"
   },
   {
    "duration": 16,
    "start_time": "2023-07-19T20:37:01.116Z"
   },
   {
    "duration": 36,
    "start_time": "2023-07-19T20:37:01.134Z"
   },
   {
    "duration": 5,
    "start_time": "2023-07-19T20:37:01.171Z"
   },
   {
    "duration": 26,
    "start_time": "2023-07-19T20:37:01.178Z"
   },
   {
    "duration": 9,
    "start_time": "2023-07-19T20:37:01.206Z"
   },
   {
    "duration": 25,
    "start_time": "2023-07-19T20:37:01.217Z"
   },
   {
    "duration": 7,
    "start_time": "2023-07-19T20:37:01.244Z"
   },
   {
    "duration": 25,
    "start_time": "2023-07-19T20:37:01.253Z"
   },
   {
    "duration": 11,
    "start_time": "2023-07-19T20:37:01.280Z"
   },
   {
    "duration": 43,
    "start_time": "2023-07-19T20:37:01.293Z"
   },
   {
    "duration": 45,
    "start_time": "2023-07-19T20:37:01.338Z"
   },
   {
    "duration": 52,
    "start_time": "2023-07-19T20:37:01.384Z"
   },
   {
    "duration": 34,
    "start_time": "2023-07-19T20:37:01.437Z"
   },
   {
    "duration": 143,
    "start_time": "2023-07-19T20:37:01.473Z"
   },
   {
    "duration": 6,
    "start_time": "2023-07-19T20:37:01.618Z"
   },
   {
    "duration": 25,
    "start_time": "2023-07-19T20:37:01.626Z"
   },
   {
    "duration": 26,
    "start_time": "2023-07-19T20:37:01.653Z"
   },
   {
    "duration": 466,
    "start_time": "2023-07-19T20:37:01.681Z"
   },
   {
    "duration": 27,
    "start_time": "2023-07-19T20:37:02.149Z"
   },
   {
    "duration": 7302,
    "start_time": "2023-07-19T20:37:02.178Z"
   },
   {
    "duration": 35,
    "start_time": "2023-07-19T20:37:09.483Z"
   },
   {
    "duration": 103,
    "start_time": "2023-07-19T20:37:09.522Z"
   },
   {
    "duration": 194,
    "start_time": "2023-07-19T20:37:09.713Z"
   },
   {
    "duration": 32,
    "start_time": "2023-07-19T20:37:09.910Z"
   },
   {
    "duration": 7777,
    "start_time": "2023-07-19T20:37:09.944Z"
   },
   {
    "duration": 78,
    "start_time": "2023-07-19T20:37:17.723Z"
   },
   {
    "duration": 30,
    "start_time": "2023-07-19T20:37:17.813Z"
   },
   {
    "duration": 4,
    "start_time": "2023-07-19T20:37:17.917Z"
   },
   {
    "duration": 129,
    "start_time": "2023-07-19T20:37:17.922Z"
   },
   {
    "duration": 257,
    "start_time": "2023-07-19T20:37:18.053Z"
   },
   {
    "duration": 38,
    "start_time": "2023-07-19T20:37:18.312Z"
   },
   {
    "duration": 11399,
    "start_time": "2023-07-19T20:37:18.352Z"
   },
   {
    "duration": 162,
    "start_time": "2023-07-19T20:37:29.754Z"
   },
   {
    "duration": 98,
    "start_time": "2023-07-19T20:37:29.918Z"
   },
   {
    "duration": 96,
    "start_time": "2023-07-19T20:37:30.018Z"
   },
   {
    "duration": 112,
    "start_time": "2023-07-19T20:37:30.116Z"
   },
   {
    "duration": 129,
    "start_time": "2023-07-19T20:37:30.230Z"
   },
   {
    "duration": 16,
    "start_time": "2023-07-19T20:37:30.361Z"
   },
   {
    "duration": 5181,
    "start_time": "2023-07-19T20:37:30.379Z"
   },
   {
    "duration": 75,
    "start_time": "2023-07-19T20:37:35.562Z"
   },
   {
    "duration": 174,
    "start_time": "2023-07-19T20:37:35.640Z"
   },
   {
    "duration": 23,
    "start_time": "2023-07-19T20:37:35.816Z"
   },
   {
    "duration": 220,
    "start_time": "2023-07-19T20:37:35.841Z"
   },
   {
    "duration": 175,
    "start_time": "2023-07-19T20:37:36.063Z"
   },
   {
    "duration": 3568,
    "start_time": "2023-07-19T20:39:12.877Z"
   },
   {
    "duration": 2214,
    "start_time": "2023-07-19T20:39:16.448Z"
   },
   {
    "duration": 6,
    "start_time": "2023-07-19T20:39:18.665Z"
   },
   {
    "duration": 59,
    "start_time": "2023-07-19T20:39:18.673Z"
   },
   {
    "duration": 13,
    "start_time": "2023-07-19T20:39:18.734Z"
   },
   {
    "duration": 65,
    "start_time": "2023-07-19T20:39:18.749Z"
   },
   {
    "duration": 15,
    "start_time": "2023-07-19T20:39:18.816Z"
   },
   {
    "duration": 27,
    "start_time": "2023-07-19T20:39:18.833Z"
   },
   {
    "duration": 6,
    "start_time": "2023-07-19T20:39:18.862Z"
   },
   {
    "duration": 43,
    "start_time": "2023-07-19T20:39:18.872Z"
   },
   {
    "duration": 7,
    "start_time": "2023-07-19T20:39:18.916Z"
   },
   {
    "duration": 10,
    "start_time": "2023-07-19T20:39:18.924Z"
   },
   {
    "duration": 12,
    "start_time": "2023-07-19T20:39:18.937Z"
   },
   {
    "duration": 23,
    "start_time": "2023-07-19T20:39:18.951Z"
   },
   {
    "duration": 6,
    "start_time": "2023-07-19T20:39:18.976Z"
   },
   {
    "duration": 29,
    "start_time": "2023-07-19T20:39:18.984Z"
   },
   {
    "duration": 42,
    "start_time": "2023-07-19T20:39:19.015Z"
   },
   {
    "duration": 25,
    "start_time": "2023-07-19T20:39:19.059Z"
   },
   {
    "duration": 46,
    "start_time": "2023-07-19T20:39:19.087Z"
   },
   {
    "duration": 149,
    "start_time": "2023-07-19T20:39:19.136Z"
   },
   {
    "duration": 5,
    "start_time": "2023-07-19T20:39:19.288Z"
   },
   {
    "duration": 19,
    "start_time": "2023-07-19T20:39:19.294Z"
   },
   {
    "duration": 12,
    "start_time": "2023-07-19T20:39:19.315Z"
   },
   {
    "duration": 497,
    "start_time": "2023-07-19T20:39:19.329Z"
   },
   {
    "duration": 38,
    "start_time": "2023-07-19T20:39:19.828Z"
   },
   {
    "duration": 7465,
    "start_time": "2023-07-19T20:39:19.869Z"
   },
   {
    "duration": 28,
    "start_time": "2023-07-19T20:39:27.335Z"
   },
   {
    "duration": 148,
    "start_time": "2023-07-19T20:39:27.367Z"
   },
   {
    "duration": 258,
    "start_time": "2023-07-19T20:39:27.517Z"
   },
   {
    "duration": 37,
    "start_time": "2023-07-19T20:39:27.778Z"
   },
   {
    "duration": 7709,
    "start_time": "2023-07-19T20:39:27.817Z"
   },
   {
    "duration": 73,
    "start_time": "2023-07-19T20:39:35.527Z"
   },
   {
    "duration": 101,
    "start_time": "2023-07-19T20:39:35.613Z"
   },
   {
    "duration": 3,
    "start_time": "2023-07-19T20:39:35.716Z"
   },
   {
    "duration": 153,
    "start_time": "2023-07-19T20:39:35.721Z"
   },
   {
    "duration": 240,
    "start_time": "2023-07-19T20:39:35.877Z"
   },
   {
    "duration": 38,
    "start_time": "2023-07-19T20:39:36.119Z"
   },
   {
    "duration": 11390,
    "start_time": "2023-07-19T20:39:36.158Z"
   },
   {
    "duration": 139,
    "start_time": "2023-07-19T20:39:47.550Z"
   },
   {
    "duration": 226,
    "start_time": "2023-07-19T20:39:47.691Z"
   },
   {
    "duration": 92,
    "start_time": "2023-07-19T20:39:47.922Z"
   },
   {
    "duration": 21,
    "start_time": "2023-07-19T20:39:48.015Z"
   },
   {
    "duration": 91,
    "start_time": "2023-07-19T20:39:48.038Z"
   },
   {
    "duration": 18,
    "start_time": "2023-07-19T20:39:48.130Z"
   },
   {
    "duration": 4967,
    "start_time": "2023-07-19T20:39:48.150Z"
   },
   {
    "duration": 63,
    "start_time": "2023-07-19T20:39:53.119Z"
   },
   {
    "duration": 128,
    "start_time": "2023-07-19T20:39:53.184Z"
   },
   {
    "duration": 108,
    "start_time": "2023-07-19T20:39:53.315Z"
   },
   {
    "duration": 161,
    "start_time": "2023-07-19T20:39:53.424Z"
   },
   {
    "duration": 199,
    "start_time": "2023-07-19T20:39:53.586Z"
   },
   {
    "duration": 2129,
    "start_time": "2023-07-19T20:46:15.651Z"
   },
   {
    "duration": 2124,
    "start_time": "2023-07-19T20:46:17.782Z"
   },
   {
    "duration": 6,
    "start_time": "2023-07-19T20:46:19.908Z"
   },
   {
    "duration": 82,
    "start_time": "2023-07-19T20:46:19.916Z"
   },
   {
    "duration": 13,
    "start_time": "2023-07-19T20:46:19.999Z"
   },
   {
    "duration": 60,
    "start_time": "2023-07-19T20:46:20.014Z"
   },
   {
    "duration": 14,
    "start_time": "2023-07-19T20:46:20.075Z"
   },
   {
    "duration": 36,
    "start_time": "2023-07-19T20:46:20.091Z"
   },
   {
    "duration": 30,
    "start_time": "2023-07-19T20:46:20.129Z"
   },
   {
    "duration": 23,
    "start_time": "2023-07-19T20:46:20.162Z"
   },
   {
    "duration": 25,
    "start_time": "2023-07-19T20:46:20.187Z"
   },
   {
    "duration": 24,
    "start_time": "2023-07-19T20:46:20.215Z"
   },
   {
    "duration": 29,
    "start_time": "2023-07-19T20:46:20.241Z"
   },
   {
    "duration": 27,
    "start_time": "2023-07-19T20:46:20.272Z"
   },
   {
    "duration": 25,
    "start_time": "2023-07-19T20:46:20.301Z"
   },
   {
    "duration": 35,
    "start_time": "2023-07-19T20:46:20.328Z"
   },
   {
    "duration": 45,
    "start_time": "2023-07-19T20:46:20.365Z"
   },
   {
    "duration": 36,
    "start_time": "2023-07-19T20:46:20.412Z"
   },
   {
    "duration": 21,
    "start_time": "2023-07-19T20:46:20.450Z"
   },
   {
    "duration": 131,
    "start_time": "2023-07-19T20:46:20.473Z"
   },
   {
    "duration": 9,
    "start_time": "2023-07-19T20:46:20.605Z"
   },
   {
    "duration": 15,
    "start_time": "2023-07-19T20:46:20.618Z"
   },
   {
    "duration": 25,
    "start_time": "2023-07-19T20:46:20.635Z"
   },
   {
    "duration": 87,
    "start_time": "2023-07-19T20:46:20.662Z"
   },
   {
    "duration": 0,
    "start_time": "2023-07-19T20:46:20.751Z"
   },
   {
    "duration": 0,
    "start_time": "2023-07-19T20:46:20.752Z"
   },
   {
    "duration": 0,
    "start_time": "2023-07-19T20:46:20.753Z"
   },
   {
    "duration": 0,
    "start_time": "2023-07-19T20:46:20.754Z"
   },
   {
    "duration": 0,
    "start_time": "2023-07-19T20:46:20.755Z"
   },
   {
    "duration": 0,
    "start_time": "2023-07-19T20:46:20.756Z"
   },
   {
    "duration": 0,
    "start_time": "2023-07-19T20:46:20.757Z"
   },
   {
    "duration": 0,
    "start_time": "2023-07-19T20:46:20.758Z"
   },
   {
    "duration": 0,
    "start_time": "2023-07-19T20:46:20.758Z"
   },
   {
    "duration": 0,
    "start_time": "2023-07-19T20:46:20.759Z"
   },
   {
    "duration": 0,
    "start_time": "2023-07-19T20:46:20.761Z"
   },
   {
    "duration": 0,
    "start_time": "2023-07-19T20:46:20.762Z"
   },
   {
    "duration": 0,
    "start_time": "2023-07-19T20:46:20.764Z"
   },
   {
    "duration": 0,
    "start_time": "2023-07-19T20:46:20.765Z"
   },
   {
    "duration": 0,
    "start_time": "2023-07-19T20:46:20.766Z"
   },
   {
    "duration": 0,
    "start_time": "2023-07-19T20:46:20.767Z"
   },
   {
    "duration": 0,
    "start_time": "2023-07-19T20:46:20.768Z"
   },
   {
    "duration": 0,
    "start_time": "2023-07-19T20:46:20.769Z"
   },
   {
    "duration": 0,
    "start_time": "2023-07-19T20:46:20.770Z"
   },
   {
    "duration": 0,
    "start_time": "2023-07-19T20:46:20.771Z"
   },
   {
    "duration": 0,
    "start_time": "2023-07-19T20:46:20.772Z"
   },
   {
    "duration": 0,
    "start_time": "2023-07-19T20:46:20.773Z"
   },
   {
    "duration": 0,
    "start_time": "2023-07-19T20:46:20.774Z"
   },
   {
    "duration": 0,
    "start_time": "2023-07-19T20:46:20.775Z"
   },
   {
    "duration": 0,
    "start_time": "2023-07-19T20:46:20.776Z"
   },
   {
    "duration": 0,
    "start_time": "2023-07-19T20:46:20.777Z"
   },
   {
    "duration": 2125,
    "start_time": "2023-07-19T20:49:00.760Z"
   },
   {
    "duration": 2095,
    "start_time": "2023-07-19T20:49:02.888Z"
   },
   {
    "duration": 4,
    "start_time": "2023-07-19T20:49:04.986Z"
   },
   {
    "duration": 65,
    "start_time": "2023-07-19T20:49:04.992Z"
   },
   {
    "duration": 13,
    "start_time": "2023-07-19T20:49:05.058Z"
   },
   {
    "duration": 51,
    "start_time": "2023-07-19T20:49:05.072Z"
   },
   {
    "duration": 16,
    "start_time": "2023-07-19T20:49:05.124Z"
   },
   {
    "duration": 25,
    "start_time": "2023-07-19T20:49:05.141Z"
   },
   {
    "duration": 4,
    "start_time": "2023-07-19T20:49:05.167Z"
   },
   {
    "duration": 25,
    "start_time": "2023-07-19T20:49:05.175Z"
   },
   {
    "duration": 24,
    "start_time": "2023-07-19T20:49:05.202Z"
   },
   {
    "duration": 9,
    "start_time": "2023-07-19T20:49:05.228Z"
   },
   {
    "duration": 9,
    "start_time": "2023-07-19T20:49:05.239Z"
   },
   {
    "duration": 14,
    "start_time": "2023-07-19T20:49:05.250Z"
   },
   {
    "duration": 3,
    "start_time": "2023-07-19T20:49:05.265Z"
   },
   {
    "duration": 17,
    "start_time": "2023-07-19T20:49:05.269Z"
   },
   {
    "duration": 37,
    "start_time": "2023-07-19T20:49:05.288Z"
   },
   {
    "duration": 17,
    "start_time": "2023-07-19T20:49:05.327Z"
   },
   {
    "duration": 14,
    "start_time": "2023-07-19T20:49:05.346Z"
   },
   {
    "duration": 133,
    "start_time": "2023-07-19T20:49:05.362Z"
   },
   {
    "duration": 4,
    "start_time": "2023-07-19T20:49:05.496Z"
   },
   {
    "duration": 5,
    "start_time": "2023-07-19T20:49:05.522Z"
   },
   {
    "duration": 16,
    "start_time": "2023-07-19T20:49:05.528Z"
   },
   {
    "duration": 447,
    "start_time": "2023-07-19T20:49:05.546Z"
   },
   {
    "duration": 36,
    "start_time": "2023-07-19T20:49:05.995Z"
   },
   {
    "duration": 7438,
    "start_time": "2023-07-19T20:49:06.033Z"
   },
   {
    "duration": 29,
    "start_time": "2023-07-19T20:49:13.472Z"
   },
   {
    "duration": 105,
    "start_time": "2023-07-19T20:49:13.518Z"
   },
   {
    "duration": 267,
    "start_time": "2023-07-19T20:49:13.626Z"
   },
   {
    "duration": 36,
    "start_time": "2023-07-19T20:49:13.895Z"
   },
   {
    "duration": 7934,
    "start_time": "2023-07-19T20:49:13.933Z"
   },
   {
    "duration": 84,
    "start_time": "2023-07-19T20:49:21.869Z"
   },
   {
    "duration": 66,
    "start_time": "2023-07-19T20:49:21.955Z"
   },
   {
    "duration": 7,
    "start_time": "2023-07-19T20:49:22.023Z"
   },
   {
    "duration": 117,
    "start_time": "2023-07-19T20:49:22.032Z"
   },
   {
    "duration": 245,
    "start_time": "2023-07-19T20:49:22.151Z"
   },
   {
    "duration": 44,
    "start_time": "2023-07-19T20:49:22.398Z"
   },
   {
    "duration": 11214,
    "start_time": "2023-07-19T20:49:22.443Z"
   },
   {
    "duration": 140,
    "start_time": "2023-07-19T20:49:33.659Z"
   },
   {
    "duration": 41,
    "start_time": "2023-07-19T20:49:33.800Z"
   },
   {
    "duration": 4,
    "start_time": "2023-07-19T20:49:33.920Z"
   },
   {
    "duration": 107,
    "start_time": "2023-07-19T20:49:33.926Z"
   },
   {
    "duration": 105,
    "start_time": "2023-07-19T20:49:34.035Z"
   },
   {
    "duration": 15,
    "start_time": "2023-07-19T20:49:34.141Z"
   },
   {
    "duration": 4870,
    "start_time": "2023-07-19T20:49:34.158Z"
   },
   {
    "duration": 61,
    "start_time": "2023-07-19T20:49:39.029Z"
   },
   {
    "duration": 46,
    "start_time": "2023-07-19T20:49:39.092Z"
   },
   {
    "duration": 114,
    "start_time": "2023-07-19T20:49:39.212Z"
   },
   {
    "duration": 145,
    "start_time": "2023-07-19T20:49:39.328Z"
   },
   {
    "duration": 201,
    "start_time": "2023-07-19T20:49:39.475Z"
   },
   {
    "duration": 2110,
    "start_time": "2023-07-19T20:50:18.861Z"
   },
   {
    "duration": 2107,
    "start_time": "2023-07-19T20:50:20.974Z"
   },
   {
    "duration": 5,
    "start_time": "2023-07-19T20:50:23.083Z"
   },
   {
    "duration": 62,
    "start_time": "2023-07-19T20:50:23.090Z"
   },
   {
    "duration": 13,
    "start_time": "2023-07-19T20:50:23.153Z"
   },
   {
    "duration": 61,
    "start_time": "2023-07-19T20:50:23.168Z"
   },
   {
    "duration": 14,
    "start_time": "2023-07-19T20:50:23.231Z"
   },
   {
    "duration": 24,
    "start_time": "2023-07-19T20:50:23.247Z"
   },
   {
    "duration": 4,
    "start_time": "2023-07-19T20:50:23.273Z"
   },
   {
    "duration": 12,
    "start_time": "2023-07-19T20:50:23.280Z"
   },
   {
    "duration": 30,
    "start_time": "2023-07-19T20:50:23.293Z"
   },
   {
    "duration": 9,
    "start_time": "2023-07-19T20:50:23.324Z"
   },
   {
    "duration": 10,
    "start_time": "2023-07-19T20:50:23.335Z"
   },
   {
    "duration": 14,
    "start_time": "2023-07-19T20:50:23.347Z"
   },
   {
    "duration": 6,
    "start_time": "2023-07-19T20:50:23.362Z"
   },
   {
    "duration": 12,
    "start_time": "2023-07-19T20:50:23.370Z"
   },
   {
    "duration": 46,
    "start_time": "2023-07-19T20:50:23.383Z"
   },
   {
    "duration": 16,
    "start_time": "2023-07-19T20:50:23.431Z"
   },
   {
    "duration": 28,
    "start_time": "2023-07-19T20:50:23.449Z"
   },
   {
    "duration": 132,
    "start_time": "2023-07-19T20:50:23.479Z"
   },
   {
    "duration": 9,
    "start_time": "2023-07-19T20:50:23.614Z"
   },
   {
    "duration": 14,
    "start_time": "2023-07-19T20:50:23.625Z"
   },
   {
    "duration": 21,
    "start_time": "2023-07-19T20:50:23.641Z"
   },
   {
    "duration": 503,
    "start_time": "2023-07-19T20:50:23.664Z"
   },
   {
    "duration": 26,
    "start_time": "2023-07-19T20:50:24.169Z"
   },
   {
    "duration": 7503,
    "start_time": "2023-07-19T20:50:24.198Z"
   },
   {
    "duration": 39,
    "start_time": "2023-07-19T20:50:31.703Z"
   },
   {
    "duration": 73,
    "start_time": "2023-07-19T20:50:31.746Z"
   },
   {
    "duration": 250,
    "start_time": "2023-07-19T20:50:31.821Z"
   },
   {
    "duration": 24,
    "start_time": "2023-07-19T20:50:32.073Z"
   },
   {
    "duration": 7691,
    "start_time": "2023-07-19T20:50:32.098Z"
   },
   {
    "duration": 93,
    "start_time": "2023-07-19T20:50:39.791Z"
   },
   {
    "duration": 53,
    "start_time": "2023-07-19T20:50:39.887Z"
   },
   {
    "duration": 74,
    "start_time": "2023-07-19T20:50:39.941Z"
   },
   {
    "duration": 132,
    "start_time": "2023-07-19T20:50:40.017Z"
   },
   {
    "duration": 236,
    "start_time": "2023-07-19T20:50:40.151Z"
   },
   {
    "duration": 47,
    "start_time": "2023-07-19T20:50:40.389Z"
   },
   {
    "duration": 10992,
    "start_time": "2023-07-19T20:50:40.438Z"
   },
   {
    "duration": 138,
    "start_time": "2023-07-19T20:50:51.432Z"
   },
   {
    "duration": 152,
    "start_time": "2023-07-19T20:50:51.572Z"
   },
   {
    "duration": 4,
    "start_time": "2023-07-19T20:50:51.725Z"
   },
   {
    "duration": 94,
    "start_time": "2023-07-19T20:50:51.733Z"
   },
   {
    "duration": 115,
    "start_time": "2023-07-19T20:50:51.829Z"
   },
   {
    "duration": 16,
    "start_time": "2023-07-19T20:50:51.945Z"
   },
   {
    "duration": 4968,
    "start_time": "2023-07-19T20:50:51.962Z"
   },
   {
    "duration": 59,
    "start_time": "2023-07-19T20:50:56.932Z"
   },
   {
    "duration": 31,
    "start_time": "2023-07-19T20:50:56.992Z"
   },
   {
    "duration": 189,
    "start_time": "2023-07-19T20:50:57.028Z"
   },
   {
    "duration": 152,
    "start_time": "2023-07-19T20:50:57.219Z"
   },
   {
    "duration": 174,
    "start_time": "2023-07-19T20:50:57.373Z"
   },
   {
    "duration": 3,
    "start_time": "2023-07-19T20:54:29.645Z"
   },
   {
    "duration": 9,
    "start_time": "2023-07-19T20:54:29.652Z"
   },
   {
    "duration": 7,
    "start_time": "2023-07-19T20:54:29.663Z"
   },
   {
    "duration": 72,
    "start_time": "2023-07-19T20:54:29.672Z"
   },
   {
    "duration": 15,
    "start_time": "2023-07-19T20:54:29.746Z"
   },
   {
    "duration": 81,
    "start_time": "2023-07-19T20:54:29.764Z"
   },
   {
    "duration": 13,
    "start_time": "2023-07-19T20:54:29.847Z"
   },
   {
    "duration": 23,
    "start_time": "2023-07-19T20:54:29.862Z"
   },
   {
    "duration": 4,
    "start_time": "2023-07-19T20:54:29.887Z"
   },
   {
    "duration": 40,
    "start_time": "2023-07-19T20:54:29.892Z"
   },
   {
    "duration": 9,
    "start_time": "2023-07-19T20:54:29.933Z"
   },
   {
    "duration": 9,
    "start_time": "2023-07-19T20:54:29.944Z"
   },
   {
    "duration": 11,
    "start_time": "2023-07-19T20:54:29.955Z"
   },
   {
    "duration": 12,
    "start_time": "2023-07-19T20:54:29.968Z"
   },
   {
    "duration": 3,
    "start_time": "2023-07-19T20:54:29.984Z"
   },
   {
    "duration": 51,
    "start_time": "2023-07-19T20:54:29.988Z"
   },
   {
    "duration": 90,
    "start_time": "2023-07-19T20:54:30.041Z"
   },
   {
    "duration": 58,
    "start_time": "2023-07-19T20:54:30.134Z"
   },
   {
    "duration": 50,
    "start_time": "2023-07-19T20:54:30.194Z"
   },
   {
    "duration": 126,
    "start_time": "2023-07-19T20:54:30.246Z"
   },
   {
    "duration": 4,
    "start_time": "2023-07-19T20:54:30.373Z"
   },
   {
    "duration": 19,
    "start_time": "2023-07-19T20:54:30.379Z"
   },
   {
    "duration": 25,
    "start_time": "2023-07-19T20:54:30.399Z"
   },
   {
    "duration": 481,
    "start_time": "2023-07-19T20:54:30.426Z"
   },
   {
    "duration": 34,
    "start_time": "2023-07-19T20:54:30.909Z"
   },
   {
    "duration": 7330,
    "start_time": "2023-07-19T20:54:30.945Z"
   },
   {
    "duration": 26,
    "start_time": "2023-07-19T20:54:38.277Z"
   },
   {
    "duration": 100,
    "start_time": "2023-07-19T20:54:38.322Z"
   },
   {
    "duration": 239,
    "start_time": "2023-07-19T20:54:38.424Z"
   },
   {
    "duration": 24,
    "start_time": "2023-07-19T20:54:38.665Z"
   },
   {
    "duration": 7594,
    "start_time": "2023-07-19T20:54:38.690Z"
   },
   {
    "duration": 82,
    "start_time": "2023-07-19T20:54:46.286Z"
   },
   {
    "duration": 148,
    "start_time": "2023-07-19T20:54:46.371Z"
   },
   {
    "duration": 96,
    "start_time": "2023-07-19T20:54:46.525Z"
   },
   {
    "duration": 6,
    "start_time": "2023-07-19T20:54:46.623Z"
   },
   {
    "duration": 204,
    "start_time": "2023-07-19T20:54:46.631Z"
   },
   {
    "duration": 32,
    "start_time": "2023-07-19T20:54:46.837Z"
   },
   {
    "duration": 10212,
    "start_time": "2023-07-19T20:54:46.871Z"
   },
   {
    "duration": 123,
    "start_time": "2023-07-19T20:54:57.085Z"
   },
   {
    "duration": 105,
    "start_time": "2023-07-19T20:54:57.213Z"
   },
   {
    "duration": 105,
    "start_time": "2023-07-19T20:54:57.320Z"
   },
   {
    "duration": 3,
    "start_time": "2023-07-19T20:54:57.429Z"
   },
   {
    "duration": 133,
    "start_time": "2023-07-19T20:54:57.433Z"
   },
   {
    "duration": 16,
    "start_time": "2023-07-19T20:54:57.568Z"
   },
   {
    "duration": 5100,
    "start_time": "2023-07-19T20:54:57.586Z"
   },
   {
    "duration": 71,
    "start_time": "2023-07-19T20:55:02.687Z"
   },
   {
    "duration": 68,
    "start_time": "2023-07-19T20:55:02.760Z"
   },
   {
    "duration": 111,
    "start_time": "2023-07-19T20:55:02.830Z"
   },
   {
    "duration": 169,
    "start_time": "2023-07-19T20:55:02.943Z"
   },
   {
    "duration": 173,
    "start_time": "2023-07-19T20:55:03.119Z"
   },
   {
    "duration": 3,
    "start_time": "2023-07-19T20:55:19.271Z"
   },
   {
    "duration": 6,
    "start_time": "2023-07-19T20:55:19.275Z"
   },
   {
    "duration": 5,
    "start_time": "2023-07-19T20:55:19.282Z"
   },
   {
    "duration": 62,
    "start_time": "2023-07-19T20:55:19.289Z"
   },
   {
    "duration": 12,
    "start_time": "2023-07-19T20:55:19.352Z"
   },
   {
    "duration": 72,
    "start_time": "2023-07-19T20:55:19.366Z"
   },
   {
    "duration": 14,
    "start_time": "2023-07-19T20:55:19.440Z"
   },
   {
    "duration": 24,
    "start_time": "2023-07-19T20:55:19.455Z"
   },
   {
    "duration": 5,
    "start_time": "2023-07-19T20:55:19.481Z"
   },
   {
    "duration": 16,
    "start_time": "2023-07-19T20:55:19.513Z"
   },
   {
    "duration": 4,
    "start_time": "2023-07-19T20:55:19.531Z"
   },
   {
    "duration": 8,
    "start_time": "2023-07-19T20:55:19.538Z"
   },
   {
    "duration": 9,
    "start_time": "2023-07-19T20:55:19.548Z"
   },
   {
    "duration": 12,
    "start_time": "2023-07-19T20:55:19.558Z"
   },
   {
    "duration": 2,
    "start_time": "2023-07-19T20:55:19.572Z"
   },
   {
    "duration": 7,
    "start_time": "2023-07-19T20:55:19.575Z"
   },
   {
    "duration": 54,
    "start_time": "2023-07-19T20:55:19.584Z"
   },
   {
    "duration": 20,
    "start_time": "2023-07-19T20:55:19.640Z"
   },
   {
    "duration": 21,
    "start_time": "2023-07-19T20:55:19.662Z"
   },
   {
    "duration": 176,
    "start_time": "2023-07-19T20:55:19.686Z"
   },
   {
    "duration": 5,
    "start_time": "2023-07-19T20:55:19.864Z"
   },
   {
    "duration": 18,
    "start_time": "2023-07-19T20:55:19.870Z"
   },
   {
    "duration": 38,
    "start_time": "2023-07-19T20:55:19.889Z"
   },
   {
    "duration": 450,
    "start_time": "2023-07-19T20:55:19.929Z"
   },
   {
    "duration": 40,
    "start_time": "2023-07-19T20:55:20.381Z"
   },
   {
    "duration": 7367,
    "start_time": "2023-07-19T20:55:20.427Z"
   },
   {
    "duration": 41,
    "start_time": "2023-07-19T20:55:27.796Z"
   },
   {
    "duration": 77,
    "start_time": "2023-07-19T20:55:27.839Z"
   },
   {
    "duration": 256,
    "start_time": "2023-07-19T20:55:27.919Z"
   },
   {
    "duration": 35,
    "start_time": "2023-07-19T20:55:28.179Z"
   },
   {
    "duration": 7616,
    "start_time": "2023-07-19T20:55:28.219Z"
   },
   {
    "duration": 89,
    "start_time": "2023-07-19T20:55:35.836Z"
   },
   {
    "duration": 90,
    "start_time": "2023-07-19T20:55:35.928Z"
   },
   {
    "duration": 121,
    "start_time": "2023-07-19T20:55:36.021Z"
   },
   {
    "duration": 55,
    "start_time": "2023-07-19T20:55:36.144Z"
   },
   {
    "duration": 202,
    "start_time": "2023-07-19T20:55:36.201Z"
   },
   {
    "duration": 43,
    "start_time": "2023-07-19T20:55:36.405Z"
   },
   {
    "duration": 10878,
    "start_time": "2023-07-19T20:55:36.449Z"
   },
   {
    "duration": 121,
    "start_time": "2023-07-19T20:55:47.330Z"
   },
   {
    "duration": 75,
    "start_time": "2023-07-19T20:55:47.453Z"
   },
   {
    "duration": 97,
    "start_time": "2023-07-19T20:55:47.533Z"
   },
   {
    "duration": 3,
    "start_time": "2023-07-19T20:55:47.634Z"
   },
   {
    "duration": 134,
    "start_time": "2023-07-19T20:55:47.639Z"
   },
   {
    "duration": 15,
    "start_time": "2023-07-19T20:55:47.775Z"
   },
   {
    "duration": 5114,
    "start_time": "2023-07-19T20:55:47.792Z"
   },
   {
    "duration": 70,
    "start_time": "2023-07-19T20:55:52.908Z"
   },
   {
    "duration": 43,
    "start_time": "2023-07-19T20:55:52.979Z"
   },
   {
    "duration": 192,
    "start_time": "2023-07-19T20:55:53.025Z"
   },
   {
    "duration": 124,
    "start_time": "2023-07-19T20:55:53.225Z"
   },
   {
    "duration": 185,
    "start_time": "2023-07-19T20:55:53.351Z"
   },
   {
    "duration": 5,
    "start_time": "2023-07-19T20:56:06.224Z"
   },
   {
    "duration": 9,
    "start_time": "2023-07-19T20:56:06.231Z"
   },
   {
    "duration": 1191,
    "start_time": "2023-07-19T20:56:06.242Z"
   },
   {
    "duration": 51,
    "start_time": "2023-07-19T20:56:07.435Z"
   },
   {
    "duration": 13,
    "start_time": "2023-07-19T20:56:07.489Z"
   },
   {
    "duration": 55,
    "start_time": "2023-07-19T20:56:07.504Z"
   },
   {
    "duration": 15,
    "start_time": "2023-07-19T20:56:07.560Z"
   },
   {
    "duration": 46,
    "start_time": "2023-07-19T20:56:07.576Z"
   },
   {
    "duration": 5,
    "start_time": "2023-07-19T20:56:07.623Z"
   },
   {
    "duration": 26,
    "start_time": "2023-07-19T20:56:07.630Z"
   },
   {
    "duration": 8,
    "start_time": "2023-07-19T20:56:07.657Z"
   },
   {
    "duration": 9,
    "start_time": "2023-07-19T20:56:07.667Z"
   },
   {
    "duration": 11,
    "start_time": "2023-07-19T20:56:07.678Z"
   },
   {
    "duration": 14,
    "start_time": "2023-07-19T20:56:07.692Z"
   },
   {
    "duration": 5,
    "start_time": "2023-07-19T20:56:07.712Z"
   },
   {
    "duration": 9,
    "start_time": "2023-07-19T20:56:07.720Z"
   },
   {
    "duration": 28,
    "start_time": "2023-07-19T20:56:07.732Z"
   },
   {
    "duration": 15,
    "start_time": "2023-07-19T20:56:07.762Z"
   },
   {
    "duration": 15,
    "start_time": "2023-07-19T20:56:07.779Z"
   },
   {
    "duration": 146,
    "start_time": "2023-07-19T20:56:07.796Z"
   },
   {
    "duration": 3,
    "start_time": "2023-07-19T20:56:07.944Z"
   },
   {
    "duration": 7,
    "start_time": "2023-07-19T20:56:07.949Z"
   },
   {
    "duration": 11,
    "start_time": "2023-07-19T20:56:07.958Z"
   },
   {
    "duration": 452,
    "start_time": "2023-07-19T20:56:07.970Z"
   },
   {
    "duration": 25,
    "start_time": "2023-07-19T20:56:08.424Z"
   },
   {
    "duration": 7437,
    "start_time": "2023-07-19T20:56:08.451Z"
   },
   {
    "duration": 45,
    "start_time": "2023-07-19T20:56:15.890Z"
   },
   {
    "duration": 84,
    "start_time": "2023-07-19T20:56:15.937Z"
   },
   {
    "duration": 256,
    "start_time": "2023-07-19T20:56:16.024Z"
   },
   {
    "duration": 44,
    "start_time": "2023-07-19T20:56:16.282Z"
   },
   {
    "duration": 8764,
    "start_time": "2023-07-19T20:56:16.328Z"
   },
   {
    "duration": 82,
    "start_time": "2023-07-19T20:56:25.094Z"
   },
   {
    "duration": 47,
    "start_time": "2023-07-19T20:56:25.178Z"
   },
   {
    "duration": 185,
    "start_time": "2023-07-19T20:56:25.232Z"
   },
   {
    "duration": 3,
    "start_time": "2023-07-19T20:56:25.421Z"
   },
   {
    "duration": 206,
    "start_time": "2023-07-19T20:56:25.427Z"
   },
   {
    "duration": 36,
    "start_time": "2023-07-19T20:56:25.635Z"
   },
   {
    "duration": 9699,
    "start_time": "2023-07-19T20:56:25.673Z"
   },
   {
    "duration": 116,
    "start_time": "2023-07-19T20:56:35.374Z"
   },
   {
    "duration": 45,
    "start_time": "2023-07-19T20:56:35.491Z"
   },
   {
    "duration": 105,
    "start_time": "2023-07-19T20:56:35.620Z"
   },
   {
    "duration": 6,
    "start_time": "2023-07-19T20:56:35.727Z"
   },
   {
    "duration": 100,
    "start_time": "2023-07-19T20:56:35.735Z"
   },
   {
    "duration": 15,
    "start_time": "2023-07-19T20:56:35.838Z"
   },
   {
    "duration": 4947,
    "start_time": "2023-07-19T20:56:35.855Z"
   },
   {
    "duration": 69,
    "start_time": "2023-07-19T20:56:40.804Z"
   },
   {
    "duration": 51,
    "start_time": "2023-07-19T20:56:40.874Z"
   },
   {
    "duration": 106,
    "start_time": "2023-07-19T20:56:40.929Z"
   },
   {
    "duration": 212,
    "start_time": "2023-07-19T20:56:41.037Z"
   },
   {
    "duration": 177,
    "start_time": "2023-07-19T20:56:41.251Z"
   },
   {
    "duration": 2,
    "start_time": "2023-07-19T20:56:50.594Z"
   },
   {
    "duration": 7,
    "start_time": "2023-07-19T20:56:50.598Z"
   },
   {
    "duration": 13,
    "start_time": "2023-07-19T20:56:50.606Z"
   },
   {
    "duration": 90,
    "start_time": "2023-07-19T20:56:50.620Z"
   },
   {
    "duration": 17,
    "start_time": "2023-07-19T20:56:50.713Z"
   },
   {
    "duration": 57,
    "start_time": "2023-07-19T20:56:50.732Z"
   },
   {
    "duration": 38,
    "start_time": "2023-07-19T20:56:50.790Z"
   },
   {
    "duration": 25,
    "start_time": "2023-07-19T20:56:50.830Z"
   },
   {
    "duration": 5,
    "start_time": "2023-07-19T20:56:50.857Z"
   },
   {
    "duration": 23,
    "start_time": "2023-07-19T20:56:50.863Z"
   },
   {
    "duration": 14,
    "start_time": "2023-07-19T20:56:50.889Z"
   },
   {
    "duration": 26,
    "start_time": "2023-07-19T20:56:50.904Z"
   },
   {
    "duration": 35,
    "start_time": "2023-07-19T20:56:50.932Z"
   },
   {
    "duration": 24,
    "start_time": "2023-07-19T20:56:50.969Z"
   },
   {
    "duration": 18,
    "start_time": "2023-07-19T20:56:50.995Z"
   },
   {
    "duration": 35,
    "start_time": "2023-07-19T20:56:51.015Z"
   },
   {
    "duration": 50,
    "start_time": "2023-07-19T20:56:51.052Z"
   },
   {
    "duration": 40,
    "start_time": "2023-07-19T20:56:51.103Z"
   },
   {
    "duration": 33,
    "start_time": "2023-07-19T20:56:51.145Z"
   },
   {
    "duration": 148,
    "start_time": "2023-07-19T20:56:51.180Z"
   },
   {
    "duration": 5,
    "start_time": "2023-07-19T20:56:51.330Z"
   },
   {
    "duration": 21,
    "start_time": "2023-07-19T20:56:51.336Z"
   },
   {
    "duration": 17,
    "start_time": "2023-07-19T20:56:51.358Z"
   },
   {
    "duration": 437,
    "start_time": "2023-07-19T20:56:51.377Z"
   },
   {
    "duration": 27,
    "start_time": "2023-07-19T20:56:51.815Z"
   },
   {
    "duration": 7419,
    "start_time": "2023-07-19T20:56:51.844Z"
   },
   {
    "duration": 27,
    "start_time": "2023-07-19T20:56:59.264Z"
   },
   {
    "duration": 42,
    "start_time": "2023-07-19T20:56:59.293Z"
   },
   {
    "duration": 358,
    "start_time": "2023-07-19T20:56:59.339Z"
   },
   {
    "duration": 37,
    "start_time": "2023-07-19T20:56:59.700Z"
   },
   {
    "duration": 8717,
    "start_time": "2023-07-19T20:56:59.739Z"
   },
   {
    "duration": 82,
    "start_time": "2023-07-19T20:57:08.458Z"
   },
   {
    "duration": 84,
    "start_time": "2023-07-19T20:57:08.541Z"
   },
   {
    "duration": 98,
    "start_time": "2023-07-19T20:57:08.627Z"
   },
   {
    "duration": 3,
    "start_time": "2023-07-19T20:57:08.728Z"
   },
   {
    "duration": 193,
    "start_time": "2023-07-19T20:57:08.733Z"
   },
   {
    "duration": 32,
    "start_time": "2023-07-19T20:57:08.928Z"
   },
   {
    "duration": 9864,
    "start_time": "2023-07-19T20:57:08.962Z"
   },
   {
    "duration": 113,
    "start_time": "2023-07-19T20:57:18.828Z"
   },
   {
    "duration": 76,
    "start_time": "2023-07-19T20:57:18.943Z"
   },
   {
    "duration": 104,
    "start_time": "2023-07-19T20:57:19.021Z"
   },
   {
    "duration": 3,
    "start_time": "2023-07-19T20:57:19.127Z"
   },
   {
    "duration": 107,
    "start_time": "2023-07-19T20:57:19.131Z"
   },
   {
    "duration": 15,
    "start_time": "2023-07-19T20:57:19.240Z"
   },
   {
    "duration": 5004,
    "start_time": "2023-07-19T20:57:19.257Z"
   },
   {
    "duration": 77,
    "start_time": "2023-07-19T20:57:24.262Z"
   },
   {
    "duration": 78,
    "start_time": "2023-07-19T20:57:24.341Z"
   },
   {
    "duration": 108,
    "start_time": "2023-07-19T20:57:24.422Z"
   },
   {
    "duration": 159,
    "start_time": "2023-07-19T20:57:24.532Z"
   },
   {
    "duration": 203,
    "start_time": "2023-07-19T20:57:24.693Z"
   },
   {
    "duration": 2,
    "start_time": "2023-07-19T20:59:11.033Z"
   },
   {
    "duration": 10,
    "start_time": "2023-07-19T20:59:11.037Z"
   },
   {
    "duration": 15,
    "start_time": "2023-07-19T20:59:11.049Z"
   },
   {
    "duration": 61,
    "start_time": "2023-07-19T20:59:11.066Z"
   },
   {
    "duration": 14,
    "start_time": "2023-07-19T20:59:11.130Z"
   },
   {
    "duration": 56,
    "start_time": "2023-07-19T20:59:11.145Z"
   },
   {
    "duration": 14,
    "start_time": "2023-07-19T20:59:11.223Z"
   },
   {
    "duration": 37,
    "start_time": "2023-07-19T20:59:11.239Z"
   },
   {
    "duration": 7,
    "start_time": "2023-07-19T20:59:11.278Z"
   },
   {
    "duration": 41,
    "start_time": "2023-07-19T20:59:11.286Z"
   },
   {
    "duration": 4,
    "start_time": "2023-07-19T20:59:11.329Z"
   },
   {
    "duration": 24,
    "start_time": "2023-07-19T20:59:11.335Z"
   },
   {
    "duration": 13,
    "start_time": "2023-07-19T20:59:11.361Z"
   },
   {
    "duration": 12,
    "start_time": "2023-07-19T20:59:11.376Z"
   },
   {
    "duration": 8,
    "start_time": "2023-07-19T20:59:11.390Z"
   },
   {
    "duration": 8,
    "start_time": "2023-07-19T20:59:11.400Z"
   },
   {
    "duration": 38,
    "start_time": "2023-07-19T20:59:11.409Z"
   },
   {
    "duration": 15,
    "start_time": "2023-07-19T20:59:11.448Z"
   },
   {
    "duration": 15,
    "start_time": "2023-07-19T20:59:11.465Z"
   },
   {
    "duration": 125,
    "start_time": "2023-07-19T20:59:11.481Z"
   },
   {
    "duration": 18,
    "start_time": "2023-07-19T20:59:11.608Z"
   },
   {
    "duration": 6,
    "start_time": "2023-07-19T20:59:11.629Z"
   },
   {
    "duration": 9,
    "start_time": "2023-07-19T20:59:11.637Z"
   },
   {
    "duration": 483,
    "start_time": "2023-07-19T20:59:11.648Z"
   },
   {
    "duration": 27,
    "start_time": "2023-07-19T20:59:12.132Z"
   },
   {
    "duration": 7762,
    "start_time": "2023-07-19T20:59:12.161Z"
   },
   {
    "duration": 30,
    "start_time": "2023-07-19T20:59:19.925Z"
   },
   {
    "duration": 67,
    "start_time": "2023-07-19T20:59:19.957Z"
   },
   {
    "duration": 303,
    "start_time": "2023-07-19T20:59:20.028Z"
   },
   {
    "duration": 24,
    "start_time": "2023-07-19T20:59:20.333Z"
   },
   {
    "duration": 8817,
    "start_time": "2023-07-19T20:59:20.359Z"
   },
   {
    "duration": 84,
    "start_time": "2023-07-19T20:59:29.177Z"
   },
   {
    "duration": 69,
    "start_time": "2023-07-19T20:59:29.263Z"
   },
   {
    "duration": 22,
    "start_time": "2023-07-19T20:59:29.413Z"
   },
   {
    "duration": 8,
    "start_time": "2023-07-19T20:59:29.437Z"
   },
   {
    "duration": 229,
    "start_time": "2023-07-19T20:59:29.447Z"
   },
   {
    "duration": 52,
    "start_time": "2023-07-19T20:59:29.678Z"
   },
   {
    "duration": 9848,
    "start_time": "2023-07-19T20:59:29.732Z"
   },
   {
    "duration": 148,
    "start_time": "2023-07-19T20:59:39.582Z"
   },
   {
    "duration": 96,
    "start_time": "2023-07-19T20:59:39.732Z"
   },
   {
    "duration": 95,
    "start_time": "2023-07-19T20:59:39.834Z"
   },
   {
    "duration": 7,
    "start_time": "2023-07-19T20:59:39.931Z"
   },
   {
    "duration": 127,
    "start_time": "2023-07-19T20:59:39.939Z"
   },
   {
    "duration": 15,
    "start_time": "2023-07-19T20:59:40.067Z"
   },
   {
    "duration": 5188,
    "start_time": "2023-07-19T20:59:40.083Z"
   },
   {
    "duration": 74,
    "start_time": "2023-07-19T20:59:45.273Z"
   },
   {
    "duration": 73,
    "start_time": "2023-07-19T20:59:45.349Z"
   },
   {
    "duration": 101,
    "start_time": "2023-07-19T20:59:45.424Z"
   },
   {
    "duration": 140,
    "start_time": "2023-07-19T20:59:45.528Z"
   },
   {
    "duration": 185,
    "start_time": "2023-07-19T20:59:45.670Z"
   },
   {
    "duration": 114,
    "start_time": "2023-07-19T21:00:57.174Z"
   },
   {
    "duration": 3,
    "start_time": "2023-07-19T21:02:14.224Z"
   },
   {
    "duration": 8,
    "start_time": "2023-07-19T21:02:15.951Z"
   },
   {
    "duration": 11,
    "start_time": "2023-07-19T21:08:18.666Z"
   },
   {
    "duration": 5,
    "start_time": "2023-07-19T21:08:30.926Z"
   },
   {
    "duration": 10,
    "start_time": "2023-07-19T21:08:32.259Z"
   },
   {
    "duration": 2,
    "start_time": "2023-07-19T21:09:01.107Z"
   },
   {
    "duration": 10,
    "start_time": "2023-07-19T21:09:01.723Z"
   },
   {
    "duration": 8,
    "start_time": "2023-07-19T21:09:23.250Z"
   },
   {
    "duration": 3,
    "start_time": "2023-07-19T21:09:28.065Z"
   },
   {
    "duration": 23,
    "start_time": "2023-07-19T21:09:28.070Z"
   },
   {
    "duration": 40,
    "start_time": "2023-07-19T21:09:28.095Z"
   },
   {
    "duration": 104,
    "start_time": "2023-07-19T21:09:28.137Z"
   },
   {
    "duration": 12,
    "start_time": "2023-07-19T21:09:28.244Z"
   },
   {
    "duration": 70,
    "start_time": "2023-07-19T21:09:28.257Z"
   },
   {
    "duration": 13,
    "start_time": "2023-07-19T21:09:28.329Z"
   },
   {
    "duration": 23,
    "start_time": "2023-07-19T21:09:28.343Z"
   },
   {
    "duration": 4,
    "start_time": "2023-07-19T21:09:28.368Z"
   },
   {
    "duration": 10,
    "start_time": "2023-07-19T21:09:28.373Z"
   },
   {
    "duration": 2,
    "start_time": "2023-07-19T21:09:28.385Z"
   },
   {
    "duration": 33,
    "start_time": "2023-07-19T21:09:28.388Z"
   },
   {
    "duration": 9,
    "start_time": "2023-07-19T21:09:28.423Z"
   },
   {
    "duration": 12,
    "start_time": "2023-07-19T21:09:28.434Z"
   },
   {
    "duration": 2,
    "start_time": "2023-07-19T21:09:28.447Z"
   },
   {
    "duration": 4,
    "start_time": "2023-07-19T21:09:28.451Z"
   },
   {
    "duration": 30,
    "start_time": "2023-07-19T21:09:28.456Z"
   },
   {
    "duration": 40,
    "start_time": "2023-07-19T21:09:28.488Z"
   },
   {
    "duration": 17,
    "start_time": "2023-07-19T21:09:28.530Z"
   },
   {
    "duration": 126,
    "start_time": "2023-07-19T21:09:28.549Z"
   },
   {
    "duration": 4,
    "start_time": "2023-07-19T21:09:28.677Z"
   },
   {
    "duration": 19,
    "start_time": "2023-07-19T21:09:28.683Z"
   },
   {
    "duration": 29,
    "start_time": "2023-07-19T21:09:28.704Z"
   },
   {
    "duration": 28,
    "start_time": "2023-07-19T21:09:28.735Z"
   },
   {
    "duration": 0,
    "start_time": "2023-07-19T21:09:28.765Z"
   },
   {
    "duration": 0,
    "start_time": "2023-07-19T21:09:28.767Z"
   },
   {
    "duration": 0,
    "start_time": "2023-07-19T21:09:28.769Z"
   },
   {
    "duration": 0,
    "start_time": "2023-07-19T21:09:28.771Z"
   },
   {
    "duration": 0,
    "start_time": "2023-07-19T21:09:28.772Z"
   },
   {
    "duration": 0,
    "start_time": "2023-07-19T21:09:28.774Z"
   },
   {
    "duration": 0,
    "start_time": "2023-07-19T21:09:28.775Z"
   },
   {
    "duration": 0,
    "start_time": "2023-07-19T21:09:28.777Z"
   },
   {
    "duration": 0,
    "start_time": "2023-07-19T21:09:28.778Z"
   },
   {
    "duration": 0,
    "start_time": "2023-07-19T21:09:28.779Z"
   },
   {
    "duration": 0,
    "start_time": "2023-07-19T21:09:28.781Z"
   },
   {
    "duration": 0,
    "start_time": "2023-07-19T21:09:28.782Z"
   },
   {
    "duration": 0,
    "start_time": "2023-07-19T21:09:28.784Z"
   },
   {
    "duration": 0,
    "start_time": "2023-07-19T21:09:28.785Z"
   },
   {
    "duration": 0,
    "start_time": "2023-07-19T21:09:28.787Z"
   },
   {
    "duration": 0,
    "start_time": "2023-07-19T21:09:28.788Z"
   },
   {
    "duration": 0,
    "start_time": "2023-07-19T21:09:28.790Z"
   },
   {
    "duration": 0,
    "start_time": "2023-07-19T21:09:28.818Z"
   },
   {
    "duration": 0,
    "start_time": "2023-07-19T21:09:28.819Z"
   },
   {
    "duration": 0,
    "start_time": "2023-07-19T21:09:28.820Z"
   },
   {
    "duration": 0,
    "start_time": "2023-07-19T21:09:28.821Z"
   },
   {
    "duration": 0,
    "start_time": "2023-07-19T21:09:28.822Z"
   },
   {
    "duration": 0,
    "start_time": "2023-07-19T21:09:28.824Z"
   },
   {
    "duration": 0,
    "start_time": "2023-07-19T21:09:28.826Z"
   },
   {
    "duration": 0,
    "start_time": "2023-07-19T21:09:28.827Z"
   },
   {
    "duration": 0,
    "start_time": "2023-07-19T21:09:28.827Z"
   },
   {
    "duration": 5,
    "start_time": "2023-07-19T21:09:47.291Z"
   },
   {
    "duration": 2,
    "start_time": "2023-07-19T21:09:52.570Z"
   },
   {
    "duration": 20,
    "start_time": "2023-07-19T21:09:52.582Z"
   },
   {
    "duration": 20,
    "start_time": "2023-07-19T21:09:52.604Z"
   },
   {
    "duration": 62,
    "start_time": "2023-07-19T21:09:52.625Z"
   },
   {
    "duration": 13,
    "start_time": "2023-07-19T21:09:52.688Z"
   },
   {
    "duration": 54,
    "start_time": "2023-07-19T21:09:52.703Z"
   },
   {
    "duration": 14,
    "start_time": "2023-07-19T21:09:52.758Z"
   },
   {
    "duration": 25,
    "start_time": "2023-07-19T21:09:52.774Z"
   },
   {
    "duration": 24,
    "start_time": "2023-07-19T21:09:52.801Z"
   },
   {
    "duration": 21,
    "start_time": "2023-07-19T21:09:52.827Z"
   },
   {
    "duration": 31,
    "start_time": "2023-07-19T21:09:52.850Z"
   },
   {
    "duration": 41,
    "start_time": "2023-07-19T21:09:52.882Z"
   },
   {
    "duration": 15,
    "start_time": "2023-07-19T21:09:52.925Z"
   },
   {
    "duration": 15,
    "start_time": "2023-07-19T21:09:52.941Z"
   },
   {
    "duration": 3,
    "start_time": "2023-07-19T21:09:52.959Z"
   },
   {
    "duration": 18,
    "start_time": "2023-07-19T21:09:52.964Z"
   },
   {
    "duration": 35,
    "start_time": "2023-07-19T21:09:52.984Z"
   },
   {
    "duration": 27,
    "start_time": "2023-07-19T21:09:53.025Z"
   },
   {
    "duration": 31,
    "start_time": "2023-07-19T21:09:53.054Z"
   },
   {
    "duration": 135,
    "start_time": "2023-07-19T21:09:53.086Z"
   },
   {
    "duration": 4,
    "start_time": "2023-07-19T21:09:53.227Z"
   },
   {
    "duration": 47,
    "start_time": "2023-07-19T21:09:53.233Z"
   },
   {
    "duration": 28,
    "start_time": "2023-07-19T21:09:53.282Z"
   },
   {
    "duration": 492,
    "start_time": "2023-07-19T21:09:53.311Z"
   },
   {
    "duration": 36,
    "start_time": "2023-07-19T21:09:53.805Z"
   },
   {
    "duration": 8554,
    "start_time": "2023-07-19T21:09:53.843Z"
   },
   {
    "duration": 36,
    "start_time": "2023-07-19T21:10:02.398Z"
   },
   {
    "duration": 97,
    "start_time": "2023-07-19T21:10:02.435Z"
   },
   {
    "duration": 342,
    "start_time": "2023-07-19T21:10:02.536Z"
   },
   {
    "duration": 23,
    "start_time": "2023-07-19T21:10:02.880Z"
   },
   {
    "duration": 7739,
    "start_time": "2023-07-19T21:10:02.905Z"
   },
   {
    "duration": 89,
    "start_time": "2023-07-19T21:10:10.646Z"
   },
   {
    "duration": 180,
    "start_time": "2023-07-19T21:10:10.737Z"
   },
   {
    "duration": 106,
    "start_time": "2023-07-19T21:10:10.922Z"
   },
   {
    "duration": 3,
    "start_time": "2023-07-19T21:10:11.030Z"
   },
   {
    "duration": 191,
    "start_time": "2023-07-19T21:10:11.034Z"
   },
   {
    "duration": 33,
    "start_time": "2023-07-19T21:10:11.227Z"
   },
   {
    "duration": 10002,
    "start_time": "2023-07-19T21:10:11.262Z"
   },
   {
    "duration": 130,
    "start_time": "2023-07-19T21:10:21.265Z"
   },
   {
    "duration": 48,
    "start_time": "2023-07-19T21:10:21.396Z"
   },
   {
    "duration": 102,
    "start_time": "2023-07-19T21:10:21.519Z"
   },
   {
    "duration": 3,
    "start_time": "2023-07-19T21:10:21.630Z"
   },
   {
    "duration": 106,
    "start_time": "2023-07-19T21:10:21.635Z"
   },
   {
    "duration": 15,
    "start_time": "2023-07-19T21:10:21.743Z"
   },
   {
    "duration": 5176,
    "start_time": "2023-07-19T21:10:21.760Z"
   },
   {
    "duration": 60,
    "start_time": "2023-07-19T21:10:26.938Z"
   },
   {
    "duration": 101,
    "start_time": "2023-07-19T21:10:27.013Z"
   },
   {
    "duration": 104,
    "start_time": "2023-07-19T21:10:27.117Z"
   },
   {
    "duration": 137,
    "start_time": "2023-07-19T21:10:27.223Z"
   },
   {
    "duration": 175,
    "start_time": "2023-07-19T21:10:27.361Z"
   },
   {
    "duration": 3,
    "start_time": "2023-07-19T21:10:42.098Z"
   },
   {
    "duration": 10,
    "start_time": "2023-07-19T21:10:42.102Z"
   },
   {
    "duration": 11,
    "start_time": "2023-07-19T21:10:42.116Z"
   },
   {
    "duration": 59,
    "start_time": "2023-07-19T21:10:42.129Z"
   },
   {
    "duration": 11,
    "start_time": "2023-07-19T21:10:42.190Z"
   },
   {
    "duration": 51,
    "start_time": "2023-07-19T21:10:42.202Z"
   },
   {
    "duration": 13,
    "start_time": "2023-07-19T21:10:42.255Z"
   },
   {
    "duration": 59,
    "start_time": "2023-07-19T21:10:42.269Z"
   },
   {
    "duration": 5,
    "start_time": "2023-07-19T21:10:42.330Z"
   },
   {
    "duration": 17,
    "start_time": "2023-07-19T21:10:42.337Z"
   },
   {
    "duration": 5,
    "start_time": "2023-07-19T21:10:42.358Z"
   },
   {
    "duration": 14,
    "start_time": "2023-07-19T21:10:42.366Z"
   },
   {
    "duration": 16,
    "start_time": "2023-07-19T21:10:42.382Z"
   },
   {
    "duration": 27,
    "start_time": "2023-07-19T21:10:42.400Z"
   },
   {
    "duration": 21,
    "start_time": "2023-07-19T21:10:42.429Z"
   },
   {
    "duration": 20,
    "start_time": "2023-07-19T21:10:42.452Z"
   },
   {
    "duration": 47,
    "start_time": "2023-07-19T21:10:42.474Z"
   },
   {
    "duration": 20,
    "start_time": "2023-07-19T21:10:42.523Z"
   },
   {
    "duration": 23,
    "start_time": "2023-07-19T21:10:42.544Z"
   },
   {
    "duration": 138,
    "start_time": "2023-07-19T21:10:42.569Z"
   },
   {
    "duration": 6,
    "start_time": "2023-07-19T21:10:42.708Z"
   },
   {
    "duration": 6,
    "start_time": "2023-07-19T21:10:42.715Z"
   },
   {
    "duration": 21,
    "start_time": "2023-07-19T21:10:42.722Z"
   },
   {
    "duration": 449,
    "start_time": "2023-07-19T21:10:42.745Z"
   },
   {
    "duration": 41,
    "start_time": "2023-07-19T21:10:43.195Z"
   },
   {
    "duration": 7988,
    "start_time": "2023-07-19T21:10:43.238Z"
   },
   {
    "duration": 29,
    "start_time": "2023-07-19T21:10:51.228Z"
   },
   {
    "duration": 65,
    "start_time": "2023-07-19T21:10:51.259Z"
   },
   {
    "duration": 281,
    "start_time": "2023-07-19T21:10:51.328Z"
   },
   {
    "duration": 29,
    "start_time": "2023-07-19T21:10:51.622Z"
   },
   {
    "duration": 8855,
    "start_time": "2023-07-19T21:10:51.653Z"
   },
   {
    "duration": 81,
    "start_time": "2023-07-19T21:11:00.512Z"
   },
   {
    "duration": 42,
    "start_time": "2023-07-19T21:11:00.595Z"
   },
   {
    "duration": 90,
    "start_time": "2023-07-19T21:11:00.639Z"
   },
   {
    "duration": 13,
    "start_time": "2023-07-19T21:11:00.814Z"
   },
   {
    "duration": 221,
    "start_time": "2023-07-19T21:11:00.829Z"
   },
   {
    "duration": 32,
    "start_time": "2023-07-19T21:11:01.051Z"
   },
   {
    "duration": 10049,
    "start_time": "2023-07-19T21:11:01.085Z"
   },
   {
    "duration": 138,
    "start_time": "2023-07-19T21:11:11.135Z"
   },
   {
    "duration": 145,
    "start_time": "2023-07-19T21:11:11.275Z"
   },
   {
    "duration": 101,
    "start_time": "2023-07-19T21:11:11.421Z"
   },
   {
    "duration": 2,
    "start_time": "2023-07-19T21:11:11.524Z"
   },
   {
    "duration": 99,
    "start_time": "2023-07-19T21:11:11.528Z"
   },
   {
    "duration": 18,
    "start_time": "2023-07-19T21:11:11.629Z"
   },
   {
    "duration": 5109,
    "start_time": "2023-07-19T21:11:11.649Z"
   },
   {
    "duration": 79,
    "start_time": "2023-07-19T21:11:16.759Z"
   },
   {
    "duration": 81,
    "start_time": "2023-07-19T21:11:16.840Z"
   },
   {
    "duration": 100,
    "start_time": "2023-07-19T21:11:16.925Z"
   },
   {
    "duration": 138,
    "start_time": "2023-07-19T21:11:17.028Z"
   },
   {
    "duration": 186,
    "start_time": "2023-07-19T21:11:17.168Z"
   },
   {
    "duration": 2219,
    "start_time": "2023-07-19T21:20:12.377Z"
   },
   {
    "duration": 2126,
    "start_time": "2023-07-19T21:20:14.598Z"
   },
   {
    "duration": 7,
    "start_time": "2023-07-19T21:20:16.726Z"
   },
   {
    "duration": 54,
    "start_time": "2023-07-19T21:20:16.736Z"
   },
   {
    "duration": 14,
    "start_time": "2023-07-19T21:20:16.791Z"
   },
   {
    "duration": 60,
    "start_time": "2023-07-19T21:20:16.807Z"
   },
   {
    "duration": 16,
    "start_time": "2023-07-19T21:20:16.869Z"
   },
   {
    "duration": 47,
    "start_time": "2023-07-19T21:20:16.887Z"
   },
   {
    "duration": 5,
    "start_time": "2023-07-19T21:20:16.937Z"
   },
   {
    "duration": 12,
    "start_time": "2023-07-19T21:20:16.946Z"
   },
   {
    "duration": 5,
    "start_time": "2023-07-19T21:20:16.960Z"
   },
   {
    "duration": 17,
    "start_time": "2023-07-19T21:20:16.967Z"
   },
   {
    "duration": 4,
    "start_time": "2023-07-19T21:20:16.986Z"
   },
   {
    "duration": 41,
    "start_time": "2023-07-19T21:20:16.991Z"
   },
   {
    "duration": 7,
    "start_time": "2023-07-19T21:20:17.034Z"
   },
   {
    "duration": 6,
    "start_time": "2023-07-19T21:20:17.042Z"
   },
   {
    "duration": 105,
    "start_time": "2023-07-19T21:20:17.050Z"
   },
   {
    "duration": 0,
    "start_time": "2023-07-19T21:20:17.158Z"
   },
   {
    "duration": 0,
    "start_time": "2023-07-19T21:20:17.159Z"
   },
   {
    "duration": 0,
    "start_time": "2023-07-19T21:20:17.160Z"
   },
   {
    "duration": 0,
    "start_time": "2023-07-19T21:20:17.161Z"
   },
   {
    "duration": 0,
    "start_time": "2023-07-19T21:20:17.162Z"
   },
   {
    "duration": 0,
    "start_time": "2023-07-19T21:20:17.164Z"
   },
   {
    "duration": 0,
    "start_time": "2023-07-19T21:20:17.165Z"
   },
   {
    "duration": 0,
    "start_time": "2023-07-19T21:20:17.166Z"
   },
   {
    "duration": 0,
    "start_time": "2023-07-19T21:20:17.167Z"
   },
   {
    "duration": 0,
    "start_time": "2023-07-19T21:20:17.168Z"
   },
   {
    "duration": 0,
    "start_time": "2023-07-19T21:20:17.169Z"
   },
   {
    "duration": 0,
    "start_time": "2023-07-19T21:20:17.170Z"
   },
   {
    "duration": 0,
    "start_time": "2023-07-19T21:20:17.171Z"
   },
   {
    "duration": 0,
    "start_time": "2023-07-19T21:20:17.172Z"
   },
   {
    "duration": 0,
    "start_time": "2023-07-19T21:20:17.174Z"
   },
   {
    "duration": 0,
    "start_time": "2023-07-19T21:20:17.175Z"
   },
   {
    "duration": 0,
    "start_time": "2023-07-19T21:20:17.176Z"
   },
   {
    "duration": 0,
    "start_time": "2023-07-19T21:20:17.177Z"
   },
   {
    "duration": 0,
    "start_time": "2023-07-19T21:20:17.178Z"
   },
   {
    "duration": 0,
    "start_time": "2023-07-19T21:20:17.179Z"
   },
   {
    "duration": 0,
    "start_time": "2023-07-19T21:20:17.180Z"
   },
   {
    "duration": 0,
    "start_time": "2023-07-19T21:20:17.181Z"
   },
   {
    "duration": 0,
    "start_time": "2023-07-19T21:20:17.182Z"
   },
   {
    "duration": 0,
    "start_time": "2023-07-19T21:20:17.183Z"
   },
   {
    "duration": 0,
    "start_time": "2023-07-19T21:20:17.184Z"
   },
   {
    "duration": 0,
    "start_time": "2023-07-19T21:20:17.186Z"
   },
   {
    "duration": 0,
    "start_time": "2023-07-19T21:20:17.187Z"
   },
   {
    "duration": 0,
    "start_time": "2023-07-19T21:20:17.188Z"
   },
   {
    "duration": 0,
    "start_time": "2023-07-19T21:20:17.189Z"
   },
   {
    "duration": 0,
    "start_time": "2023-07-19T21:20:17.190Z"
   },
   {
    "duration": 0,
    "start_time": "2023-07-19T21:20:17.191Z"
   },
   {
    "duration": 0,
    "start_time": "2023-07-19T21:20:17.192Z"
   },
   {
    "duration": 0,
    "start_time": "2023-07-19T21:20:17.193Z"
   },
   {
    "duration": 102,
    "start_time": "2023-07-19T21:21:13.874Z"
   },
   {
    "duration": 36,
    "start_time": "2023-07-19T21:21:29.892Z"
   },
   {
    "duration": 22,
    "start_time": "2023-07-19T21:21:36.075Z"
   },
   {
    "duration": 21,
    "start_time": "2023-07-19T21:21:41.682Z"
   },
   {
    "duration": 133,
    "start_time": "2023-07-19T21:21:46.802Z"
   },
   {
    "duration": 6,
    "start_time": "2023-07-19T21:21:48.230Z"
   },
   {
    "duration": 5,
    "start_time": "2023-07-19T21:21:48.794Z"
   },
   {
    "duration": 7,
    "start_time": "2023-07-19T21:21:49.378Z"
   },
   {
    "duration": 439,
    "start_time": "2023-07-19T21:21:50.850Z"
   },
   {
    "duration": 31,
    "start_time": "2023-07-19T21:21:53.492Z"
   },
   {
    "duration": 7513,
    "start_time": "2023-07-19T21:21:56.459Z"
   },
   {
    "duration": 30,
    "start_time": "2023-07-19T21:22:06.762Z"
   },
   {
    "duration": 105,
    "start_time": "2023-07-19T21:22:08.011Z"
   },
   {
    "duration": 2222,
    "start_time": "2023-07-19T21:22:14.470Z"
   },
   {
    "duration": 2118,
    "start_time": "2023-07-19T21:22:16.694Z"
   },
   {
    "duration": 9,
    "start_time": "2023-07-19T21:22:18.816Z"
   },
   {
    "duration": 54,
    "start_time": "2023-07-19T21:22:18.826Z"
   },
   {
    "duration": 12,
    "start_time": "2023-07-19T21:22:18.882Z"
   },
   {
    "duration": 56,
    "start_time": "2023-07-19T21:22:18.895Z"
   },
   {
    "duration": 13,
    "start_time": "2023-07-19T21:22:18.952Z"
   },
   {
    "duration": 24,
    "start_time": "2023-07-19T21:22:18.966Z"
   },
   {
    "duration": 32,
    "start_time": "2023-07-19T21:22:18.991Z"
   },
   {
    "duration": 20,
    "start_time": "2023-07-19T21:22:19.025Z"
   },
   {
    "duration": 7,
    "start_time": "2023-07-19T21:22:19.046Z"
   },
   {
    "duration": 23,
    "start_time": "2023-07-19T21:22:19.054Z"
   },
   {
    "duration": 9,
    "start_time": "2023-07-19T21:22:19.079Z"
   },
   {
    "duration": 19,
    "start_time": "2023-07-19T21:22:19.090Z"
   },
   {
    "duration": 19,
    "start_time": "2023-07-19T21:22:19.111Z"
   },
   {
    "duration": 12,
    "start_time": "2023-07-19T21:22:19.132Z"
   },
   {
    "duration": 41,
    "start_time": "2023-07-19T21:22:19.146Z"
   },
   {
    "duration": 21,
    "start_time": "2023-07-19T21:22:19.189Z"
   },
   {
    "duration": 27,
    "start_time": "2023-07-19T21:22:19.211Z"
   },
   {
    "duration": 129,
    "start_time": "2023-07-19T21:22:19.239Z"
   },
   {
    "duration": 4,
    "start_time": "2023-07-19T21:22:19.370Z"
   },
   {
    "duration": 15,
    "start_time": "2023-07-19T21:22:19.375Z"
   },
   {
    "duration": 15,
    "start_time": "2023-07-19T21:22:19.392Z"
   },
   {
    "duration": 474,
    "start_time": "2023-07-19T21:22:19.413Z"
   },
   {
    "duration": 35,
    "start_time": "2023-07-19T21:22:19.889Z"
   },
   {
    "duration": 7520,
    "start_time": "2023-07-19T21:22:19.925Z"
   },
   {
    "duration": 28,
    "start_time": "2023-07-19T21:22:27.447Z"
   },
   {
    "duration": 141,
    "start_time": "2023-07-19T21:22:27.477Z"
   },
   {
    "duration": 246,
    "start_time": "2023-07-19T21:22:27.619Z"
   },
   {
    "duration": 24,
    "start_time": "2023-07-19T21:22:27.867Z"
   },
   {
    "duration": 7635,
    "start_time": "2023-07-19T21:22:27.892Z"
   },
   {
    "duration": 72,
    "start_time": "2023-07-19T21:22:35.529Z"
   },
   {
    "duration": 34,
    "start_time": "2023-07-19T21:22:35.631Z"
   },
   {
    "duration": 101,
    "start_time": "2023-07-19T21:22:35.714Z"
   },
   {
    "duration": 38,
    "start_time": "2023-07-19T21:22:35.823Z"
   },
   {
    "duration": 247,
    "start_time": "2023-07-19T21:22:35.863Z"
   },
   {
    "duration": 42,
    "start_time": "2023-07-19T21:22:36.119Z"
   },
   {
    "duration": 11368,
    "start_time": "2023-07-19T21:22:36.163Z"
   },
   {
    "duration": 144,
    "start_time": "2023-07-19T21:22:47.533Z"
   },
   {
    "duration": 57,
    "start_time": "2023-07-19T21:22:47.679Z"
   },
   {
    "duration": 78,
    "start_time": "2023-07-19T21:22:47.741Z"
   },
   {
    "duration": 154,
    "start_time": "2023-07-19T21:22:47.821Z"
   },
   {
    "duration": 106,
    "start_time": "2023-07-19T21:22:47.977Z"
   },
   {
    "duration": 15,
    "start_time": "2023-07-19T21:22:48.085Z"
   },
   {
    "duration": 4953,
    "start_time": "2023-07-19T21:22:48.101Z"
   },
   {
    "duration": 73,
    "start_time": "2023-07-19T21:22:53.056Z"
   },
   {
    "duration": 84,
    "start_time": "2023-07-19T21:22:53.130Z"
   },
   {
    "duration": 105,
    "start_time": "2023-07-19T21:22:53.220Z"
   },
   {
    "duration": 151,
    "start_time": "2023-07-19T21:22:53.327Z"
   },
   {
    "duration": 203,
    "start_time": "2023-07-19T21:22:53.480Z"
   },
   {
    "duration": 18,
    "start_time": "2023-07-19T21:23:48.140Z"
   },
   {
    "duration": 124,
    "start_time": "2023-07-19T21:24:31.300Z"
   },
   {
    "duration": 168,
    "start_time": "2023-07-19T21:24:53.624Z"
   },
   {
    "duration": 12,
    "start_time": "2023-07-19T21:25:07.807Z"
   },
   {
    "duration": 60,
    "start_time": "2023-07-19T21:25:22.276Z"
   },
   {
    "duration": 18,
    "start_time": "2023-07-19T21:25:29.881Z"
   },
   {
    "duration": 236,
    "start_time": "2023-07-19T21:26:09.589Z"
   },
   {
    "duration": 2129,
    "start_time": "2023-07-19T21:30:03.543Z"
   },
   {
    "duration": 2095,
    "start_time": "2023-07-19T21:30:05.675Z"
   },
   {
    "duration": 5,
    "start_time": "2023-07-19T21:30:07.772Z"
   },
   {
    "duration": 71,
    "start_time": "2023-07-19T21:30:07.780Z"
   },
   {
    "duration": 14,
    "start_time": "2023-07-19T21:30:07.852Z"
   },
   {
    "duration": 60,
    "start_time": "2023-07-19T21:30:07.868Z"
   },
   {
    "duration": 15,
    "start_time": "2023-07-19T21:30:07.930Z"
   },
   {
    "duration": 26,
    "start_time": "2023-07-19T21:30:07.946Z"
   },
   {
    "duration": 4,
    "start_time": "2023-07-19T21:30:07.975Z"
   },
   {
    "duration": 39,
    "start_time": "2023-07-19T21:30:07.983Z"
   },
   {
    "duration": 4,
    "start_time": "2023-07-19T21:30:08.024Z"
   },
   {
    "duration": 12,
    "start_time": "2023-07-19T21:30:08.030Z"
   },
   {
    "duration": 13,
    "start_time": "2023-07-19T21:30:08.043Z"
   },
   {
    "duration": 30,
    "start_time": "2023-07-19T21:30:08.057Z"
   },
   {
    "duration": 7,
    "start_time": "2023-07-19T21:30:08.088Z"
   },
   {
    "duration": 33,
    "start_time": "2023-07-19T21:30:08.096Z"
   },
   {
    "duration": 72,
    "start_time": "2023-07-19T21:30:08.131Z"
   },
   {
    "duration": 29,
    "start_time": "2023-07-19T21:30:08.205Z"
   },
   {
    "duration": 25,
    "start_time": "2023-07-19T21:30:08.237Z"
   },
   {
    "duration": 165,
    "start_time": "2023-07-19T21:30:08.264Z"
   },
   {
    "duration": 5,
    "start_time": "2023-07-19T21:30:08.431Z"
   },
   {
    "duration": 25,
    "start_time": "2023-07-19T21:30:08.438Z"
   },
   {
    "duration": 21,
    "start_time": "2023-07-19T21:30:08.464Z"
   },
   {
    "duration": 443,
    "start_time": "2023-07-19T21:30:08.487Z"
   },
   {
    "duration": 25,
    "start_time": "2023-07-19T21:30:08.932Z"
   },
   {
    "duration": 7596,
    "start_time": "2023-07-19T21:30:08.960Z"
   },
   {
    "duration": 15,
    "start_time": "2023-07-19T21:30:16.558Z"
   },
   {
    "duration": 142,
    "start_time": "2023-07-19T21:30:16.577Z"
   },
   {
    "duration": 245,
    "start_time": "2023-07-19T21:30:16.724Z"
   },
   {
    "duration": 25,
    "start_time": "2023-07-19T21:30:16.971Z"
   },
   {
    "duration": 7904,
    "start_time": "2023-07-19T21:30:16.998Z"
   },
   {
    "duration": 106,
    "start_time": "2023-07-19T21:30:24.904Z"
   },
   {
    "duration": 104,
    "start_time": "2023-07-19T21:30:25.015Z"
   },
   {
    "duration": 2,
    "start_time": "2023-07-19T21:30:25.121Z"
   },
   {
    "duration": 156,
    "start_time": "2023-07-19T21:30:25.125Z"
   },
   {
    "duration": 290,
    "start_time": "2023-07-19T21:30:25.283Z"
   },
   {
    "duration": 55,
    "start_time": "2023-07-19T21:30:25.575Z"
   },
   {
    "duration": 11739,
    "start_time": "2023-07-19T21:30:25.632Z"
   },
   {
    "duration": 169,
    "start_time": "2023-07-19T21:30:37.372Z"
   },
   {
    "duration": 84,
    "start_time": "2023-07-19T21:30:37.543Z"
   },
   {
    "duration": 4,
    "start_time": "2023-07-19T21:30:37.628Z"
   },
   {
    "duration": 36,
    "start_time": "2023-07-19T21:30:37.715Z"
   },
   {
    "duration": 99,
    "start_time": "2023-07-19T21:30:37.753Z"
   },
   {
    "duration": 15,
    "start_time": "2023-07-19T21:30:37.854Z"
   },
   {
    "duration": 4976,
    "start_time": "2023-07-19T21:30:37.871Z"
   },
   {
    "duration": 78,
    "start_time": "2023-07-19T21:30:42.849Z"
   },
   {
    "duration": 94,
    "start_time": "2023-07-19T21:30:42.929Z"
   },
   {
    "duration": 100,
    "start_time": "2023-07-19T21:30:43.026Z"
   },
   {
    "duration": 196,
    "start_time": "2023-07-19T21:30:43.128Z"
   },
   {
    "duration": 192,
    "start_time": "2023-07-19T21:30:43.326Z"
   },
   {
    "duration": 11,
    "start_time": "2023-07-19T21:30:43.520Z"
   },
   {
    "duration": 2072,
    "start_time": "2023-07-19T21:36:38.967Z"
   },
   {
    "duration": 1990,
    "start_time": "2023-07-19T21:36:41.041Z"
   },
   {
    "duration": 5,
    "start_time": "2023-07-19T21:36:43.033Z"
   },
   {
    "duration": 61,
    "start_time": "2023-07-19T21:36:43.040Z"
   },
   {
    "duration": 23,
    "start_time": "2023-07-19T21:36:43.103Z"
   },
   {
    "duration": 149,
    "start_time": "2023-07-19T21:36:43.128Z"
   },
   {
    "duration": 13,
    "start_time": "2023-07-19T21:36:43.279Z"
   },
   {
    "duration": 50,
    "start_time": "2023-07-19T21:36:43.294Z"
   },
   {
    "duration": 5,
    "start_time": "2023-07-19T21:36:43.346Z"
   },
   {
    "duration": 13,
    "start_time": "2023-07-19T21:36:43.353Z"
   },
   {
    "duration": 4,
    "start_time": "2023-07-19T21:36:43.368Z"
   },
   {
    "duration": 13,
    "start_time": "2023-07-19T21:36:43.374Z"
   },
   {
    "duration": 3,
    "start_time": "2023-07-19T21:36:43.388Z"
   },
   {
    "duration": 38,
    "start_time": "2023-07-19T21:36:43.392Z"
   },
   {
    "duration": 6,
    "start_time": "2023-07-19T21:36:43.432Z"
   },
   {
    "duration": 18,
    "start_time": "2023-07-19T21:36:43.439Z"
   },
   {
    "duration": 35,
    "start_time": "2023-07-19T21:36:43.459Z"
   },
   {
    "duration": 33,
    "start_time": "2023-07-19T21:36:43.496Z"
   },
   {
    "duration": 21,
    "start_time": "2023-07-19T21:36:43.530Z"
   },
   {
    "duration": 119,
    "start_time": "2023-07-19T21:36:43.553Z"
   },
   {
    "duration": 3,
    "start_time": "2023-07-19T21:36:43.674Z"
   },
   {
    "duration": 8,
    "start_time": "2023-07-19T21:36:43.679Z"
   },
   {
    "duration": 37,
    "start_time": "2023-07-19T21:36:43.689Z"
   },
   {
    "duration": 436,
    "start_time": "2023-07-19T21:36:43.728Z"
   },
   {
    "duration": 24,
    "start_time": "2023-07-19T21:36:44.166Z"
   },
   {
    "duration": 7479,
    "start_time": "2023-07-19T21:36:44.192Z"
   },
   {
    "duration": 15,
    "start_time": "2023-07-19T21:36:51.673Z"
   },
   {
    "duration": 126,
    "start_time": "2023-07-19T21:36:51.691Z"
   },
   {
    "duration": 254,
    "start_time": "2023-07-19T21:36:51.822Z"
   },
   {
    "duration": 25,
    "start_time": "2023-07-19T21:36:52.078Z"
   },
   {
    "duration": 7713,
    "start_time": "2023-07-19T21:36:52.113Z"
   },
   {
    "duration": 93,
    "start_time": "2023-07-19T21:36:59.828Z"
   },
   {
    "duration": 98,
    "start_time": "2023-07-19T21:36:59.925Z"
   },
   {
    "duration": 3,
    "start_time": "2023-07-19T21:37:00.029Z"
   },
   {
    "duration": 155,
    "start_time": "2023-07-19T21:37:00.034Z"
   },
   {
    "duration": 240,
    "start_time": "2023-07-19T21:37:00.191Z"
   },
   {
    "duration": 38,
    "start_time": "2023-07-19T21:37:00.433Z"
   },
   {
    "duration": 11255,
    "start_time": "2023-07-19T21:37:00.473Z"
   },
   {
    "duration": 155,
    "start_time": "2023-07-19T21:37:11.730Z"
   },
   {
    "duration": 48,
    "start_time": "2023-07-19T21:37:11.887Z"
   },
   {
    "duration": 86,
    "start_time": "2023-07-19T21:37:11.937Z"
   },
   {
    "duration": 100,
    "start_time": "2023-07-19T21:37:12.026Z"
   },
   {
    "duration": 97,
    "start_time": "2023-07-19T21:37:12.128Z"
   },
   {
    "duration": 15,
    "start_time": "2023-07-19T21:37:12.227Z"
   },
   {
    "duration": 5030,
    "start_time": "2023-07-19T21:37:12.244Z"
   },
   {
    "duration": 64,
    "start_time": "2023-07-19T21:37:17.276Z"
   },
   {
    "duration": 77,
    "start_time": "2023-07-19T21:37:17.342Z"
   },
   {
    "duration": 102,
    "start_time": "2023-07-19T21:37:17.425Z"
   },
   {
    "duration": 177,
    "start_time": "2023-07-19T21:37:17.528Z"
   },
   {
    "duration": 170,
    "start_time": "2023-07-19T21:37:17.707Z"
   },
   {
    "duration": 7,
    "start_time": "2023-07-19T21:37:17.878Z"
   },
   {
    "duration": 18,
    "start_time": "2023-07-19T21:37:17.886Z"
   },
   {
    "duration": 2178,
    "start_time": "2023-07-19T22:04:22.954Z"
   },
   {
    "duration": 2121,
    "start_time": "2023-07-19T22:04:25.135Z"
   },
   {
    "duration": 1244,
    "start_time": "2023-07-19T22:04:27.258Z"
   },
   {
    "duration": 61,
    "start_time": "2023-07-19T22:04:28.504Z"
   },
   {
    "duration": 13,
    "start_time": "2023-07-19T22:04:28.566Z"
   },
   {
    "duration": 65,
    "start_time": "2023-07-19T22:04:28.580Z"
   },
   {
    "duration": 14,
    "start_time": "2023-07-19T22:04:28.646Z"
   },
   {
    "duration": 84,
    "start_time": "2023-07-19T22:04:28.662Z"
   },
   {
    "duration": 3,
    "start_time": "2023-07-19T22:04:28.748Z"
   },
   {
    "duration": 8,
    "start_time": "2023-07-19T22:04:28.754Z"
   },
   {
    "duration": 6,
    "start_time": "2023-07-19T22:04:28.763Z"
   },
   {
    "duration": 8,
    "start_time": "2023-07-19T22:04:28.771Z"
   },
   {
    "duration": 4,
    "start_time": "2023-07-19T22:04:28.780Z"
   },
   {
    "duration": 35,
    "start_time": "2023-07-19T22:04:28.786Z"
   },
   {
    "duration": 7,
    "start_time": "2023-07-19T22:04:28.823Z"
   },
   {
    "duration": 12,
    "start_time": "2023-07-19T22:04:28.832Z"
   },
   {
    "duration": 48,
    "start_time": "2023-07-19T22:04:28.845Z"
   },
   {
    "duration": 35,
    "start_time": "2023-07-19T22:04:28.895Z"
   },
   {
    "duration": 22,
    "start_time": "2023-07-19T22:04:28.932Z"
   },
   {
    "duration": 111,
    "start_time": "2023-07-19T22:04:28.955Z"
   },
   {
    "duration": 0,
    "start_time": "2023-07-19T22:04:29.068Z"
   },
   {
    "duration": 0,
    "start_time": "2023-07-19T22:04:29.069Z"
   },
   {
    "duration": 0,
    "start_time": "2023-07-19T22:04:29.071Z"
   },
   {
    "duration": 0,
    "start_time": "2023-07-19T22:04:29.072Z"
   },
   {
    "duration": 0,
    "start_time": "2023-07-19T22:04:29.073Z"
   },
   {
    "duration": 0,
    "start_time": "2023-07-19T22:04:29.074Z"
   },
   {
    "duration": 0,
    "start_time": "2023-07-19T22:04:29.075Z"
   },
   {
    "duration": 0,
    "start_time": "2023-07-19T22:04:29.077Z"
   },
   {
    "duration": 0,
    "start_time": "2023-07-19T22:04:29.078Z"
   },
   {
    "duration": 0,
    "start_time": "2023-07-19T22:04:29.079Z"
   },
   {
    "duration": 0,
    "start_time": "2023-07-19T22:04:29.080Z"
   },
   {
    "duration": 0,
    "start_time": "2023-07-19T22:04:29.081Z"
   },
   {
    "duration": 0,
    "start_time": "2023-07-19T22:04:29.082Z"
   },
   {
    "duration": 0,
    "start_time": "2023-07-19T22:04:29.083Z"
   },
   {
    "duration": 0,
    "start_time": "2023-07-19T22:04:29.085Z"
   },
   {
    "duration": 0,
    "start_time": "2023-07-19T22:04:29.086Z"
   },
   {
    "duration": 0,
    "start_time": "2023-07-19T22:04:29.087Z"
   },
   {
    "duration": 0,
    "start_time": "2023-07-19T22:04:29.088Z"
   },
   {
    "duration": 0,
    "start_time": "2023-07-19T22:04:29.118Z"
   },
   {
    "duration": 0,
    "start_time": "2023-07-19T22:04:29.118Z"
   },
   {
    "duration": 0,
    "start_time": "2023-07-19T22:04:29.119Z"
   },
   {
    "duration": 0,
    "start_time": "2023-07-19T22:04:29.120Z"
   },
   {
    "duration": 0,
    "start_time": "2023-07-19T22:04:29.120Z"
   },
   {
    "duration": 0,
    "start_time": "2023-07-19T22:04:29.121Z"
   },
   {
    "duration": 0,
    "start_time": "2023-07-19T22:04:29.126Z"
   },
   {
    "duration": 0,
    "start_time": "2023-07-19T22:04:29.127Z"
   },
   {
    "duration": 0,
    "start_time": "2023-07-19T22:04:29.128Z"
   },
   {
    "duration": 0,
    "start_time": "2023-07-19T22:04:29.129Z"
   },
   {
    "duration": 0,
    "start_time": "2023-07-19T22:04:29.130Z"
   },
   {
    "duration": 0,
    "start_time": "2023-07-19T22:04:29.131Z"
   },
   {
    "duration": 0,
    "start_time": "2023-07-19T22:04:29.132Z"
   },
   {
    "duration": 0,
    "start_time": "2023-07-19T22:04:29.133Z"
   },
   {
    "duration": 2148,
    "start_time": "2023-07-19T22:05:33.709Z"
   },
   {
    "duration": 2136,
    "start_time": "2023-07-19T22:05:35.859Z"
   },
   {
    "duration": 1260,
    "start_time": "2023-07-19T22:05:37.997Z"
   },
   {
    "duration": 65,
    "start_time": "2023-07-19T22:05:39.260Z"
   },
   {
    "duration": 13,
    "start_time": "2023-07-19T22:05:39.328Z"
   },
   {
    "duration": 49,
    "start_time": "2023-07-19T22:05:39.343Z"
   },
   {
    "duration": 31,
    "start_time": "2023-07-19T22:05:39.394Z"
   },
   {
    "duration": 24,
    "start_time": "2023-07-19T22:05:39.427Z"
   },
   {
    "duration": 4,
    "start_time": "2023-07-19T22:05:39.453Z"
   },
   {
    "duration": 43,
    "start_time": "2023-07-19T22:05:39.459Z"
   },
   {
    "duration": 27,
    "start_time": "2023-07-19T22:05:39.503Z"
   },
   {
    "duration": 24,
    "start_time": "2023-07-19T22:05:39.532Z"
   },
   {
    "duration": 19,
    "start_time": "2023-07-19T22:05:39.559Z"
   },
   {
    "duration": 43,
    "start_time": "2023-07-19T22:05:39.580Z"
   },
   {
    "duration": 39,
    "start_time": "2023-07-19T22:05:39.626Z"
   },
   {
    "duration": 25,
    "start_time": "2023-07-19T22:05:39.667Z"
   },
   {
    "duration": 60,
    "start_time": "2023-07-19T22:05:39.694Z"
   },
   {
    "duration": 26,
    "start_time": "2023-07-19T22:05:39.756Z"
   },
   {
    "duration": 45,
    "start_time": "2023-07-19T22:05:39.784Z"
   },
   {
    "duration": 135,
    "start_time": "2023-07-19T22:05:39.831Z"
   },
   {
    "duration": 4,
    "start_time": "2023-07-19T22:05:39.968Z"
   },
   {
    "duration": 18,
    "start_time": "2023-07-19T22:05:39.973Z"
   },
   {
    "duration": 37,
    "start_time": "2023-07-19T22:05:39.992Z"
   },
   {
    "duration": 466,
    "start_time": "2023-07-19T22:05:40.031Z"
   },
   {
    "duration": 36,
    "start_time": "2023-07-19T22:05:40.498Z"
   },
   {
    "duration": 7857,
    "start_time": "2023-07-19T22:05:40.536Z"
   },
   {
    "duration": 31,
    "start_time": "2023-07-19T22:05:48.395Z"
   },
   {
    "duration": 91,
    "start_time": "2023-07-19T22:05:48.431Z"
   },
   {
    "duration": 252,
    "start_time": "2023-07-19T22:05:48.525Z"
   },
   {
    "duration": 47,
    "start_time": "2023-07-19T22:05:48.779Z"
   },
   {
    "duration": 9251,
    "start_time": "2023-07-19T22:05:48.828Z"
   },
   {
    "duration": 107,
    "start_time": "2023-07-19T22:05:58.081Z"
   },
   {
    "duration": 143,
    "start_time": "2023-07-19T22:05:58.190Z"
   },
   {
    "duration": 5,
    "start_time": "2023-07-19T22:05:58.414Z"
   },
   {
    "duration": 112,
    "start_time": "2023-07-19T22:05:58.422Z"
   },
   {
    "duration": 253,
    "start_time": "2023-07-19T22:05:58.536Z"
   },
   {
    "duration": 50,
    "start_time": "2023-07-19T22:05:58.791Z"
   },
   {
    "duration": 11724,
    "start_time": "2023-07-19T22:05:58.843Z"
   },
   {
    "duration": 170,
    "start_time": "2023-07-19T22:06:10.568Z"
   },
   {
    "duration": 88,
    "start_time": "2023-07-19T22:06:10.740Z"
   },
   {
    "duration": 6,
    "start_time": "2023-07-19T22:06:10.835Z"
   },
   {
    "duration": 100,
    "start_time": "2023-07-19T22:06:10.843Z"
   },
   {
    "duration": 113,
    "start_time": "2023-07-19T22:06:10.945Z"
   },
   {
    "duration": 16,
    "start_time": "2023-07-19T22:06:11.060Z"
   },
   {
    "duration": 5128,
    "start_time": "2023-07-19T22:06:11.078Z"
   },
   {
    "duration": 61,
    "start_time": "2023-07-19T22:06:16.213Z"
   },
   {
    "duration": 55,
    "start_time": "2023-07-19T22:06:16.276Z"
   },
   {
    "duration": 186,
    "start_time": "2023-07-19T22:06:16.334Z"
   },
   {
    "duration": 184,
    "start_time": "2023-07-19T22:06:16.522Z"
   },
   {
    "duration": 185,
    "start_time": "2023-07-19T22:06:16.707Z"
   },
   {
    "duration": 7,
    "start_time": "2023-07-19T22:06:16.894Z"
   },
   {
    "duration": 23,
    "start_time": "2023-07-19T22:06:16.902Z"
   },
   {
    "duration": 2229,
    "start_time": "2023-07-19T22:08:57.095Z"
   },
   {
    "duration": 2272,
    "start_time": "2023-07-19T22:08:59.326Z"
   },
   {
    "duration": 1401,
    "start_time": "2023-07-19T22:09:01.600Z"
   },
   {
    "duration": 64,
    "start_time": "2023-07-19T22:09:03.003Z"
   },
   {
    "duration": 13,
    "start_time": "2023-07-19T22:09:03.068Z"
   },
   {
    "duration": 71,
    "start_time": "2023-07-19T22:09:03.083Z"
   },
   {
    "duration": 14,
    "start_time": "2023-07-19T22:09:03.156Z"
   },
   {
    "duration": 54,
    "start_time": "2023-07-19T22:09:03.171Z"
   },
   {
    "duration": 6,
    "start_time": "2023-07-19T22:09:03.227Z"
   },
   {
    "duration": 24,
    "start_time": "2023-07-19T22:09:03.236Z"
   },
   {
    "duration": 19,
    "start_time": "2023-07-19T22:09:03.262Z"
   },
   {
    "duration": 41,
    "start_time": "2023-07-19T22:09:03.283Z"
   },
   {
    "duration": 29,
    "start_time": "2023-07-19T22:09:03.326Z"
   },
   {
    "duration": 48,
    "start_time": "2023-07-19T22:09:03.356Z"
   },
   {
    "duration": 24,
    "start_time": "2023-07-19T22:09:03.405Z"
   },
   {
    "duration": 18,
    "start_time": "2023-07-19T22:09:03.431Z"
   },
   {
    "duration": 50,
    "start_time": "2023-07-19T22:09:03.451Z"
   },
   {
    "duration": 34,
    "start_time": "2023-07-19T22:09:03.504Z"
   },
   {
    "duration": 22,
    "start_time": "2023-07-19T22:09:03.540Z"
   },
   {
    "duration": 169,
    "start_time": "2023-07-19T22:09:03.564Z"
   },
   {
    "duration": 4,
    "start_time": "2023-07-19T22:09:03.736Z"
   },
   {
    "duration": 10,
    "start_time": "2023-07-19T22:09:03.742Z"
   },
   {
    "duration": 31,
    "start_time": "2023-07-19T22:09:03.754Z"
   },
   {
    "duration": 518,
    "start_time": "2023-07-19T22:09:03.787Z"
   },
   {
    "duration": 33,
    "start_time": "2023-07-19T22:09:04.307Z"
   },
   {
    "duration": 7827,
    "start_time": "2023-07-19T22:09:04.342Z"
   },
   {
    "duration": 16,
    "start_time": "2023-07-19T22:09:12.171Z"
   },
   {
    "duration": 47,
    "start_time": "2023-07-19T22:09:12.191Z"
   },
   {
    "duration": 244,
    "start_time": "2023-07-19T22:09:12.323Z"
   },
   {
    "duration": 23,
    "start_time": "2023-07-19T22:09:12.568Z"
   },
   {
    "duration": 8012,
    "start_time": "2023-07-19T22:09:12.593Z"
   },
   {
    "duration": 102,
    "start_time": "2023-07-19T22:09:20.607Z"
   },
   {
    "duration": 110,
    "start_time": "2023-07-19T22:09:20.710Z"
   },
   {
    "duration": 3,
    "start_time": "2023-07-19T22:09:20.822Z"
   },
   {
    "duration": 137,
    "start_time": "2023-07-19T22:09:20.827Z"
   },
   {
    "duration": 255,
    "start_time": "2023-07-19T22:09:20.966Z"
   },
   {
    "duration": 41,
    "start_time": "2023-07-19T22:09:21.227Z"
   },
   {
    "duration": 11769,
    "start_time": "2023-07-19T22:09:21.270Z"
   },
   {
    "duration": 185,
    "start_time": "2023-07-19T22:09:33.041Z"
   },
   {
    "duration": 95,
    "start_time": "2023-07-19T22:09:33.228Z"
   },
   {
    "duration": 5,
    "start_time": "2023-07-19T22:09:33.328Z"
   },
   {
    "duration": 102,
    "start_time": "2023-07-19T22:09:33.335Z"
   },
   {
    "duration": 109,
    "start_time": "2023-07-19T22:09:33.439Z"
   },
   {
    "duration": 16,
    "start_time": "2023-07-19T22:09:33.550Z"
   },
   {
    "duration": 5069,
    "start_time": "2023-07-19T22:09:33.568Z"
   },
   {
    "duration": 54,
    "start_time": "2023-07-19T22:09:38.639Z"
   },
   {
    "duration": 42,
    "start_time": "2023-07-19T22:09:38.695Z"
   },
   {
    "duration": 107,
    "start_time": "2023-07-19T22:09:38.814Z"
   },
   {
    "duration": 175,
    "start_time": "2023-07-19T22:09:38.923Z"
   },
   {
    "duration": 255,
    "start_time": "2023-07-19T22:09:39.100Z"
   },
   {
    "duration": 8,
    "start_time": "2023-07-19T22:09:39.356Z"
   },
   {
    "duration": 21,
    "start_time": "2023-07-19T22:09:39.365Z"
   },
   {
    "duration": 13922,
    "start_time": "2023-08-21T16:36:44.692Z"
   },
   {
    "duration": 7215,
    "start_time": "2023-08-21T16:36:58.619Z"
   },
   {
    "duration": 2711,
    "start_time": "2023-08-21T16:37:05.836Z"
   },
   {
    "duration": 198,
    "start_time": "2023-08-21T16:37:08.549Z"
   },
   {
    "duration": 24,
    "start_time": "2023-08-21T16:37:08.757Z"
   },
   {
    "duration": 99,
    "start_time": "2023-08-21T16:37:08.783Z"
   },
   {
    "duration": 26,
    "start_time": "2023-08-21T16:37:08.884Z"
   },
   {
    "duration": 54,
    "start_time": "2023-08-21T16:37:08.914Z"
   },
   {
    "duration": 6,
    "start_time": "2023-08-21T16:37:08.970Z"
   },
   {
    "duration": 21,
    "start_time": "2023-08-21T16:37:08.980Z"
   },
   {
    "duration": 10,
    "start_time": "2023-08-21T16:37:09.003Z"
   },
   {
    "duration": 14,
    "start_time": "2023-08-21T16:37:09.015Z"
   },
   {
    "duration": 4,
    "start_time": "2023-08-21T16:37:09.031Z"
   },
   {
    "duration": 34,
    "start_time": "2023-08-21T16:37:09.036Z"
   },
   {
    "duration": 8,
    "start_time": "2023-08-21T16:37:09.072Z"
   },
   {
    "duration": 9,
    "start_time": "2023-08-21T16:37:09.082Z"
   },
   {
    "duration": 74,
    "start_time": "2023-08-21T16:37:09.095Z"
   },
   {
    "duration": 53,
    "start_time": "2023-08-21T16:37:09.171Z"
   },
   {
    "duration": 44,
    "start_time": "2023-08-21T16:37:09.231Z"
   },
   {
    "duration": 194,
    "start_time": "2023-08-21T16:37:09.277Z"
   },
   {
    "duration": 5,
    "start_time": "2023-08-21T16:37:09.473Z"
   },
   {
    "duration": 15,
    "start_time": "2023-08-21T16:37:09.491Z"
   },
   {
    "duration": 16,
    "start_time": "2023-08-21T16:37:09.509Z"
   },
   {
    "duration": 658,
    "start_time": "2023-08-21T16:37:09.527Z"
   },
   {
    "duration": 36,
    "start_time": "2023-08-21T16:37:10.187Z"
   },
   {
    "duration": 10658,
    "start_time": "2023-08-21T16:37:10.225Z"
   },
   {
    "duration": 35,
    "start_time": "2023-08-21T16:37:20.884Z"
   },
   {
    "duration": 98,
    "start_time": "2023-08-21T16:37:20.930Z"
   },
   {
    "duration": 258,
    "start_time": "2023-08-21T16:37:21.095Z"
   },
   {
    "duration": 34,
    "start_time": "2023-08-21T16:37:21.354Z"
   },
   {
    "duration": 10803,
    "start_time": "2023-08-21T16:37:21.394Z"
   },
   {
    "duration": 145,
    "start_time": "2023-08-21T16:37:32.202Z"
   },
   {
    "duration": 178,
    "start_time": "2023-08-21T16:37:32.349Z"
   },
   {
    "duration": 18,
    "start_time": "2023-08-21T16:37:32.538Z"
   },
   {
    "duration": 99,
    "start_time": "2023-08-21T16:37:32.563Z"
   },
   {
    "duration": 381,
    "start_time": "2023-08-21T16:37:32.664Z"
   },
   {
    "duration": 61,
    "start_time": "2023-08-21T16:37:33.047Z"
   },
   {
    "duration": 16359,
    "start_time": "2023-08-21T16:37:33.110Z"
   },
   {
    "duration": 282,
    "start_time": "2023-08-21T16:37:49.476Z"
   },
   {
    "duration": 149,
    "start_time": "2023-08-21T16:37:49.766Z"
   },
   {
    "duration": 10,
    "start_time": "2023-08-21T16:37:49.922Z"
   },
   {
    "duration": 90,
    "start_time": "2023-08-21T16:37:49.994Z"
   },
   {
    "duration": 191,
    "start_time": "2023-08-21T16:37:50.087Z"
   },
   {
    "duration": 34,
    "start_time": "2023-08-21T16:37:50.279Z"
   },
   {
    "duration": 7226,
    "start_time": "2023-08-21T16:37:50.317Z"
   },
   {
    "duration": 85,
    "start_time": "2023-08-21T16:37:57.556Z"
   },
   {
    "duration": 167,
    "start_time": "2023-08-21T16:37:57.646Z"
   },
   {
    "duration": 54,
    "start_time": "2023-08-21T16:37:57.835Z"
   },
   {
    "duration": 284,
    "start_time": "2023-08-21T16:37:57.895Z"
   },
   {
    "duration": 408,
    "start_time": "2023-08-21T16:37:58.185Z"
   },
   {
    "duration": 30,
    "start_time": "2023-08-21T16:37:58.602Z"
   },
   {
    "duration": 38,
    "start_time": "2023-08-21T16:37:58.642Z"
   }
  ],
  "kernelspec": {
   "display_name": "Python 3 (ipykernel)",
   "language": "python",
   "name": "python3"
  },
  "language_info": {
   "codemirror_mode": {
    "name": "ipython",
    "version": 3
   },
   "file_extension": ".py",
   "mimetype": "text/x-python",
   "name": "python",
   "nbconvert_exporter": "python",
   "pygments_lexer": "ipython3",
   "version": "3.10.9"
  },
  "toc": {
   "base_numbering": 1,
   "nav_menu": {},
   "number_sections": true,
   "sideBar": true,
   "skip_h1_title": true,
   "title_cell": "Содержание",
   "title_sidebar": "Contents",
   "toc_cell": true,
   "toc_position": {
    "height": "calc(100% - 180px)",
    "left": "10px",
    "top": "150px",
    "width": "195.797px"
   },
   "toc_section_display": true,
   "toc_window_display": true
  }
 },
 "nbformat": 4,
 "nbformat_minor": 4
}
